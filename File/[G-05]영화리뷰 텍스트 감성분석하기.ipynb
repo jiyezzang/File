{
 "cells": [
  {
   "cell_type": "markdown",
   "id": "e99aa9e0",
   "metadata": {},
   "source": [
    "## 프로젝트 : 네이버 영화리뷰 감성분석 도전하기"
   ]
  },
  {
   "cell_type": "markdown",
   "id": "958cf300",
   "metadata": {},
   "source": [
    "### 1) 데이터 준비와 확인"
   ]
  },
  {
   "cell_type": "code",
   "execution_count": 1,
   "id": "c33e6614",
   "metadata": {},
   "outputs": [],
   "source": [
    "import pandas as pd\n",
    "\n",
    "from konlpy.tag import Mecab\n",
    "import numpy as np\n",
    "from collections import Counter\n",
    "\n",
    "from tensorflow import keras\n",
    "import tensorflow as tf\n",
    "import os\n",
    "\n",
    "import matplotlib.pyplot as plt\n",
    "\n",
    "from gensim.models.keyedvectors import Word2VecKeyedVectors\n",
    "\n",
    "from gensim.models import KeyedVectors\n",
    "from gensim.models import Word2Vec\n",
    "\n",
    "from tensorflow.keras.initializers import Constant\n",
    "import pprint\n",
    "\n",
    "import gensim\n",
    "import gensim.models"
   ]
  },
  {
   "cell_type": "code",
   "execution_count": 2,
   "id": "0cbcdf65",
   "metadata": {},
   "outputs": [],
   "source": [
    "import pandas as pd\n",
    "\n",
    "# 데이터를 읽어봅시다.\n",
    "train_data = pd.read_table('~/aiffel/sentiment_classification/data/ratings_train.txt')\n",
    "test_data = pd.read_table('~/aiffel/sentiment_classification/data/ratings_test.txt')"
   ]
  },
  {
   "cell_type": "code",
   "execution_count": 3,
   "id": "25d6759f",
   "metadata": {},
   "outputs": [
    {
     "data": {
      "text/html": [
       "<div>\n",
       "<style scoped>\n",
       "    .dataframe tbody tr th:only-of-type {\n",
       "        vertical-align: middle;\n",
       "    }\n",
       "\n",
       "    .dataframe tbody tr th {\n",
       "        vertical-align: top;\n",
       "    }\n",
       "\n",
       "    .dataframe thead th {\n",
       "        text-align: right;\n",
       "    }\n",
       "</style>\n",
       "<table border=\"1\" class=\"dataframe\">\n",
       "  <thead>\n",
       "    <tr style=\"text-align: right;\">\n",
       "      <th></th>\n",
       "      <th>id</th>\n",
       "      <th>document</th>\n",
       "      <th>label</th>\n",
       "    </tr>\n",
       "  </thead>\n",
       "  <tbody>\n",
       "    <tr>\n",
       "      <th>0</th>\n",
       "      <td>9976970</td>\n",
       "      <td>아 더빙.. 진짜 짜증나네요 목소리</td>\n",
       "      <td>0</td>\n",
       "    </tr>\n",
       "    <tr>\n",
       "      <th>1</th>\n",
       "      <td>3819312</td>\n",
       "      <td>흠...포스터보고 초딩영화줄....오버연기조차 가볍지 않구나</td>\n",
       "      <td>1</td>\n",
       "    </tr>\n",
       "    <tr>\n",
       "      <th>2</th>\n",
       "      <td>10265843</td>\n",
       "      <td>너무재밓었다그래서보는것을추천한다</td>\n",
       "      <td>0</td>\n",
       "    </tr>\n",
       "    <tr>\n",
       "      <th>3</th>\n",
       "      <td>9045019</td>\n",
       "      <td>교도소 이야기구먼 ..솔직히 재미는 없다..평점 조정</td>\n",
       "      <td>0</td>\n",
       "    </tr>\n",
       "    <tr>\n",
       "      <th>4</th>\n",
       "      <td>6483659</td>\n",
       "      <td>사이몬페그의 익살스런 연기가 돋보였던 영화!스파이더맨에서 늙어보이기만 했던 커스틴 ...</td>\n",
       "      <td>1</td>\n",
       "    </tr>\n",
       "  </tbody>\n",
       "</table>\n",
       "</div>"
      ],
      "text/plain": [
       "         id                                           document  label\n",
       "0   9976970                                아 더빙.. 진짜 짜증나네요 목소리      0\n",
       "1   3819312                  흠...포스터보고 초딩영화줄....오버연기조차 가볍지 않구나      1\n",
       "2  10265843                                  너무재밓었다그래서보는것을추천한다      0\n",
       "3   9045019                      교도소 이야기구먼 ..솔직히 재미는 없다..평점 조정      0\n",
       "4   6483659  사이몬페그의 익살스런 연기가 돋보였던 영화!스파이더맨에서 늙어보이기만 했던 커스틴 ...      1"
      ]
     },
     "execution_count": 3,
     "metadata": {},
     "output_type": "execute_result"
    }
   ],
   "source": [
    "train_data.head() "
   ]
  },
  {
   "cell_type": "markdown",
   "id": "0564fa9c",
   "metadata": {},
   "source": [
    " - label:1(긍정), label:0(부정)"
   ]
  },
  {
   "cell_type": "code",
   "execution_count": 4,
   "id": "b754f560",
   "metadata": {},
   "outputs": [
    {
     "data": {
      "text/plain": [
       "150000"
      ]
     },
     "execution_count": 4,
     "metadata": {},
     "output_type": "execute_result"
    }
   ],
   "source": [
    "len(train_data) "
   ]
  },
  {
   "cell_type": "code",
   "execution_count": 5,
   "id": "b24abb06",
   "metadata": {},
   "outputs": [
    {
     "data": {
      "text/html": [
       "<div>\n",
       "<style scoped>\n",
       "    .dataframe tbody tr th:only-of-type {\n",
       "        vertical-align: middle;\n",
       "    }\n",
       "\n",
       "    .dataframe tbody tr th {\n",
       "        vertical-align: top;\n",
       "    }\n",
       "\n",
       "    .dataframe thead th {\n",
       "        text-align: right;\n",
       "    }\n",
       "</style>\n",
       "<table border=\"1\" class=\"dataframe\">\n",
       "  <thead>\n",
       "    <tr style=\"text-align: right;\">\n",
       "      <th></th>\n",
       "      <th>id</th>\n",
       "      <th>document</th>\n",
       "      <th>label</th>\n",
       "    </tr>\n",
       "  </thead>\n",
       "  <tbody>\n",
       "    <tr>\n",
       "      <th>0</th>\n",
       "      <td>6270596</td>\n",
       "      <td>굳 ㅋ</td>\n",
       "      <td>1</td>\n",
       "    </tr>\n",
       "    <tr>\n",
       "      <th>1</th>\n",
       "      <td>9274899</td>\n",
       "      <td>GDNTOPCLASSINTHECLUB</td>\n",
       "      <td>0</td>\n",
       "    </tr>\n",
       "    <tr>\n",
       "      <th>2</th>\n",
       "      <td>8544678</td>\n",
       "      <td>뭐야 이 평점들은.... 나쁘진 않지만 10점 짜리는 더더욱 아니잖아</td>\n",
       "      <td>0</td>\n",
       "    </tr>\n",
       "    <tr>\n",
       "      <th>3</th>\n",
       "      <td>6825595</td>\n",
       "      <td>지루하지는 않은데 완전 막장임... 돈주고 보기에는....</td>\n",
       "      <td>0</td>\n",
       "    </tr>\n",
       "    <tr>\n",
       "      <th>4</th>\n",
       "      <td>6723715</td>\n",
       "      <td>3D만 아니었어도 별 다섯 개 줬을텐데.. 왜 3D로 나와서 제 심기를 불편하게 하죠??</td>\n",
       "      <td>0</td>\n",
       "    </tr>\n",
       "  </tbody>\n",
       "</table>\n",
       "</div>"
      ],
      "text/plain": [
       "        id                                           document  label\n",
       "0  6270596                                                굳 ㅋ      1\n",
       "1  9274899                               GDNTOPCLASSINTHECLUB      0\n",
       "2  8544678             뭐야 이 평점들은.... 나쁘진 않지만 10점 짜리는 더더욱 아니잖아      0\n",
       "3  6825595                   지루하지는 않은데 완전 막장임... 돈주고 보기에는....      0\n",
       "4  6723715  3D만 아니었어도 별 다섯 개 줬을텐데.. 왜 3D로 나와서 제 심기를 불편하게 하죠??      0"
      ]
     },
     "execution_count": 5,
     "metadata": {},
     "output_type": "execute_result"
    }
   ],
   "source": [
    "test_data.head()"
   ]
  },
  {
   "cell_type": "code",
   "execution_count": 6,
   "id": "1fb218ec",
   "metadata": {},
   "outputs": [
    {
     "data": {
      "text/plain": [
       "50000"
      ]
     },
     "execution_count": 6,
     "metadata": {},
     "output_type": "execute_result"
    }
   ],
   "source": [
    "len(test_data)"
   ]
  },
  {
   "cell_type": "code",
   "execution_count": 7,
   "id": "34f49bf5",
   "metadata": {},
   "outputs": [],
   "source": [
    "#이번 프로젝트에서는 불필요한 id 열 모두 삭제\n",
    "train_data.drop('id', axis=1, inplace=True)\n",
    "test_data.drop('id', axis=1, inplace=True)"
   ]
  },
  {
   "cell_type": "code",
   "execution_count": 8,
   "id": "67452b96",
   "metadata": {},
   "outputs": [
    {
     "data": {
      "text/plain": [
       "(146182, 2)"
      ]
     },
     "execution_count": 8,
     "metadata": {},
     "output_type": "execute_result"
    }
   ],
   "source": [
    "# train_data document 열과 label 열의 nunique() 개수\n",
    "train_data['document'].nunique(), train_data['label'].nunique() #3,818개가 중복?"
   ]
  },
  {
   "cell_type": "code",
   "execution_count": 9,
   "id": "4be0d162",
   "metadata": {},
   "outputs": [
    {
     "data": {
      "text/plain": [
       "(49157, 2)"
      ]
     },
     "execution_count": 9,
     "metadata": {},
     "output_type": "execute_result"
    }
   ],
   "source": [
    "# test_data document 열과 label 열의 nunique() 개수\n",
    "test_data['document'].nunique(), test_data['label'].nunique() #843개가 중복?"
   ]
  },
  {
   "cell_type": "code",
   "execution_count": 10,
   "id": "e61790ca",
   "metadata": {},
   "outputs": [
    {
     "name": "stdout",
     "output_type": "stream",
     "text": [
      "   label  count\n",
      "0      0  73342\n",
      "1      1  72841\n"
     ]
    }
   ],
   "source": [
    "# train_data document 중복 제거하고 label에 따른 데이터 수 확인\n",
    "train_data.drop_duplicates(subset=['document'], inplace=True)\n",
    "print(train_data.groupby('label').size().reset_index(name = 'count'))"
   ]
  },
  {
   "cell_type": "code",
   "execution_count": 11,
   "id": "ffc3c7e0",
   "metadata": {
    "scrolled": true
   },
   "outputs": [
    {
     "name": "stdout",
     "output_type": "stream",
     "text": [
      "document    1\n",
      "label       0\n",
      "dtype: int64\n"
     ]
    }
   ],
   "source": [
    "#train_data 결측치 개수 확인\n",
    "print(train_data.isnull().sum()) #1개"
   ]
  },
  {
   "cell_type": "code",
   "execution_count": 12,
   "id": "aca23019",
   "metadata": {},
   "outputs": [
    {
     "data": {
      "text/html": [
       "<div>\n",
       "<style scoped>\n",
       "    .dataframe tbody tr th:only-of-type {\n",
       "        vertical-align: middle;\n",
       "    }\n",
       "\n",
       "    .dataframe tbody tr th {\n",
       "        vertical-align: top;\n",
       "    }\n",
       "\n",
       "    .dataframe thead th {\n",
       "        text-align: right;\n",
       "    }\n",
       "</style>\n",
       "<table border=\"1\" class=\"dataframe\">\n",
       "  <thead>\n",
       "    <tr style=\"text-align: right;\">\n",
       "      <th></th>\n",
       "      <th>document</th>\n",
       "      <th>label</th>\n",
       "    </tr>\n",
       "  </thead>\n",
       "  <tbody>\n",
       "    <tr>\n",
       "      <th>25857</th>\n",
       "      <td>NaN</td>\n",
       "      <td>1</td>\n",
       "    </tr>\n",
       "  </tbody>\n",
       "</table>\n",
       "</div>"
      ],
      "text/plain": [
       "      document  label\n",
       "25857      NaN      1"
      ]
     },
     "execution_count": 12,
     "metadata": {},
     "output_type": "execute_result"
    }
   ],
   "source": [
    "#train_data 결측치 데이터 확인\n",
    "train_data.loc[train_data.document.isnull()] # NaN"
   ]
  },
  {
   "cell_type": "code",
   "execution_count": 13,
   "id": "bb7c12b0",
   "metadata": {},
   "outputs": [
    {
     "name": "stdout",
     "output_type": "stream",
     "text": [
      "   label  count\n",
      "0      0  24446\n",
      "1      1  24712\n"
     ]
    }
   ],
   "source": [
    "# test_data document 중복 제거하고 label에 따른 데이터 수 확인\n",
    "test_data.drop_duplicates(subset=['document'], inplace=True)\n",
    "print(test_data.groupby('label').size().reset_index(name = 'count'))"
   ]
  },
  {
   "cell_type": "code",
   "execution_count": 14,
   "id": "a7cbc9f4",
   "metadata": {},
   "outputs": [
    {
     "name": "stdout",
     "output_type": "stream",
     "text": [
      "document    1\n",
      "label       0\n",
      "dtype: int64\n"
     ]
    }
   ],
   "source": [
    "#test_data 결측치 개수 확인\n",
    "print(test_data.isnull().sum()) #1개"
   ]
  },
  {
   "cell_type": "markdown",
   "id": "5287d96e",
   "metadata": {},
   "source": [
    "### 2) 데이터로더 구성"
   ]
  },
  {
   "cell_type": "markdown",
   "id": "9f66bec0",
   "metadata": {},
   "source": [
    "- 데이터의 중복 제거\n",
    "- NaN 결측치 제거\n",
    "- 한국어 토크나이저로 토큰화\n",
    "- 불용어(Stopwords) 제거\n",
    "- 사전word_to_index 구성\n",
    "- 텍스트 스트링을 사전 인덱스 스트링으로 변환\n",
    "- X_train, y_train, X_test, y_test, word_to_index 리턴"
   ]
  },
  {
   "cell_type": "code",
   "execution_count": 15,
   "id": "9c2fd9f0",
   "metadata": {},
   "outputs": [],
   "source": [
    "tokenizer = Mecab()\n",
    "stopwords = ['의','가','이','은','들','는','좀','잘','걍','과','도','를','으로','자','에','와','한','하다']\n",
    "\n",
    "def load_data(train_data, test_data, num_words=10000):\n",
    "    train_data.drop_duplicates(subset=['document'], inplace=True)\n",
    "    train_data = train_data.dropna(how = 'any') \n",
    "    test_data.drop_duplicates(subset=['document'], inplace=True)\n",
    "    test_data = test_data.dropna(how = 'any') \n",
    "    \n",
    "    X_train = []\n",
    "    for sentence in train_data['document']:\n",
    "        temp_X = tokenizer.morphs(sentence) # 토큰화\n",
    "        temp_X = [word for word in temp_X if not word in stopwords] # 불용어 제거\n",
    "        X_train.append(temp_X)\n",
    "\n",
    "    X_test = []\n",
    "    for sentence in test_data['document']:\n",
    "        temp_X = tokenizer.morphs(sentence) # 토큰화\n",
    "        temp_X = [word for word in temp_X if not word in stopwords] # 불용어 제거\n",
    "        X_test.append(temp_X)\n",
    "    \n",
    "    words = np.concatenate(X_train).tolist()\n",
    "    counter = Counter(words)\n",
    "    counter = counter.most_common(10000-4)\n",
    "    vocab = ['<PAD>', '<BOS>', '<UNK>', '<UNUSED>'] + [key for key, _ in counter]  #인덱스 정의\n",
    "    word_to_index = {word:index for index, word in enumerate(vocab)}\n",
    "        \n",
    "    def wordlist_to_indexlist(wordlist):\n",
    "        return [word_to_index[word] if word in word_to_index else word_to_index['<UNK>'] for word in wordlist]  #unknown으로 반환\n",
    "        \n",
    "    X_train = list(map(wordlist_to_indexlist, X_train))\n",
    "    X_test = list(map(wordlist_to_indexlist, X_test))\n",
    "        \n",
    "    return X_train, np.array(list(train_data['label'])), X_test, np.array(list(test_data['label'])), word_to_index\n",
    "    \n",
    "X_train, y_train, X_test, y_test, word_to_index = load_data(train_data, test_data)"
   ]
  },
  {
   "cell_type": "code",
   "execution_count": 16,
   "id": "ff83fea4",
   "metadata": {},
   "outputs": [],
   "source": [
    "index_to_word = {index:word for word, index in word_to_index.items()}"
   ]
  },
  {
   "cell_type": "code",
   "execution_count": 17,
   "id": "20f97b3c",
   "metadata": {},
   "outputs": [],
   "source": [
    "# 문장 1개를 활용할 딕셔너리와 함께 주면, 단어 인덱스 리스트 벡터로 변환해 주는 함수\n",
    "# 단, 모든 문장은 <BOS>로 시작\n",
    "def get_encoded_sentence(sentence, word_to_index):\n",
    "    return [word_to_index['<BOS>']]+[word_to_index[word] if word in word_to_index else word_to_index['<UNK>'] for word in sentence.split()]\n",
    "\n",
    "# 여러 개의 문장 리스트를 한꺼번에 단어 인덱스 리스트 벡터로 encode해 주는 함수\n",
    "def get_encoded_sentences(sentences, word_to_index):\n",
    "    return [get_encoded_sentence(sentence, word_to_index) for sentence in sentences]\n",
    "\n",
    "# 숫자 벡터로 encode된 문장을 원래대로 decode하는 함수\n",
    "def get_decoded_sentence(encoded_sentence, index_to_word):\n",
    "    return ' '.join(index_to_word[index] if index in index_to_word else '<UNK>' for index in encoded_sentence[1:])  #[1:]를 통해 <BOS>를 제외\n",
    "\n",
    "# 여러 개의 숫자 벡터로 encode된 문장을 한꺼번에 원래대로 decode하는 함수\n",
    "def get_decoded_sentences(encoded_sentences, index_to_word):\n",
    "    return [get_decoded_sentence(encoded_sentence, index_to_word) for encoded_sentence in encoded_sentences]"
   ]
  },
  {
   "cell_type": "markdown",
   "id": "d89185b0",
   "metadata": {},
   "source": [
    "### 3) 모델 구성을 위한 데이터 분석 및 가공"
   ]
  },
  {
   "cell_type": "markdown",
   "id": "ffde7845",
   "metadata": {},
   "source": [
    "- 데이터셋 내 문장 길이 분포\n",
    "- 적절한 최대 문장 길이 지정\n",
    "- keras.preprocessing.sequence.pad_sequences 을 활용한 패딩 추가"
   ]
  },
  {
   "cell_type": "code",
   "execution_count": 18,
   "id": "f2d10ce3",
   "metadata": {},
   "outputs": [
    {
     "name": "stdout",
     "output_type": "stream",
     "text": [
      "문장길이 평균 :  15.96940191154864\n",
      "문장길이 최대 :  116\n",
      "문장길이 표준편차 :  12.843571191092\n"
     ]
    }
   ],
   "source": [
    "total_data_text = list(X_train) + list(X_test)\n",
    "\n",
    "# 텍스트데이터 문장길이의 리스트를 생성한 후\n",
    "num_tokens = [len(tokens) for tokens in total_data_text]\n",
    "num_tokens = np.array(num_tokens)\n",
    "\n",
    "# 문장길이의 평균값, 최대값, 표준편차를 계산해 본다. \n",
    "print('문장길이 평균 : ', np.mean(num_tokens))\n",
    "print('문장길이 최대 : ', np.max(num_tokens))\n",
    "print('문장길이 표준편차 : ', np.std(num_tokens))"
   ]
  },
  {
   "cell_type": "code",
   "execution_count": 19,
   "id": "0e877807",
   "metadata": {},
   "outputs": [
    {
     "name": "stdout",
     "output_type": "stream",
     "text": [
      "pad_sequences maxlen :  41\n",
      "전체 문장의 93.42988343341575%가 maxlen 설정값 이내에 포함됩니다. \n"
     ]
    }
   ],
   "source": [
    "# 예를들어, 최대 길이를 (평균 + 2*표준편차)로 한다면,  \n",
    "max_tokens = np.mean(num_tokens) + 2 * np.std(num_tokens)\n",
    "maxlen = int(max_tokens) # 최대 길이\n",
    "print('pad_sequences maxlen : ', maxlen)\n",
    "print('전체 문장의 {}%가 maxlen 설정값 이내에 포함됩니다. '.format(np.sum(num_tokens < max_tokens)*100 / len(num_tokens)))"
   ]
  },
  {
   "cell_type": "code",
   "execution_count": 20,
   "id": "73ca140d",
   "metadata": {},
   "outputs": [],
   "source": [
    "#keras.preprocessing.sequence.pad_sequences 을 활용한 패딩 추가 (pre)\n",
    "X_train = keras.preprocessing.sequence.pad_sequences(X_train,\n",
    "                                                        value=word_to_index[\"<PAD>\"],\n",
    "                                                        padding='pre',\n",
    "                                                        maxlen=maxlen)\n",
    "\n",
    "X_test = keras.preprocessing.sequence.pad_sequences(X_test,\n",
    "                                                       value=word_to_index[\"<PAD>\"],\n",
    "                                                       padding='pre',\n",
    "                                                       maxlen=maxlen)"
   ]
  },
  {
   "cell_type": "markdown",
   "id": "83e4f95a",
   "metadata": {},
   "source": [
    "### 4) 모델 구성 및 validation set 구성"
   ]
  },
  {
   "cell_type": "markdown",
   "id": "c8070e3b",
   "metadata": {},
   "source": [
    "#### 1.RNN "
   ]
  },
  {
   "cell_type": "code",
   "execution_count": 21,
   "id": "29bba8db",
   "metadata": {},
   "outputs": [
    {
     "name": "stdout",
     "output_type": "stream",
     "text": [
      "Model: \"sequential\"\n",
      "_________________________________________________________________\n",
      "Layer (type)                 Output Shape              Param #   \n",
      "=================================================================\n",
      "embedding (Embedding)        (None, None, 15)          150000    \n",
      "_________________________________________________________________\n",
      "lstm (LSTM)                  (None, 8)                 768       \n",
      "_________________________________________________________________\n",
      "dense (Dense)                (None, 8)                 72        \n",
      "_________________________________________________________________\n",
      "dense_1 (Dense)              (None, 1)                 9         \n",
      "=================================================================\n",
      "Total params: 150,849\n",
      "Trainable params: 150,849\n",
      "Non-trainable params: 0\n",
      "_________________________________________________________________\n"
     ]
    }
   ],
   "source": [
    "vocab_size = 10000    # 어휘 사전의 크기입니다(10,000개의 단어)\n",
    "word_vector_dim = 15  # 워드 벡터의 차원 수 (변경 가능한 하이퍼파라미터) 100,200,300,16\n",
    "\n",
    "# model 설계\n",
    "model = keras.Sequential()\n",
    "model.add(keras.layers.Embedding(vocab_size, word_vector_dim, input_shape=(None,)))\n",
    "model.add(keras.layers.LSTM(8))   # 가장 널리 쓰이는 RNN인 LSTM 레이어를 사용하였습니다. 이때 LSTM state 벡터의 차원수는 8로 하였습니다. (변경 가능)\n",
    "model.add(keras.layers.Dense(8, activation='relu'))\n",
    "model.add(keras.layers.Dense(1, activation='sigmoid'))  # 최종 출력은 긍정/부정을 나타내는 1dim 입니다.\n",
    "\n",
    "model.summary()"
   ]
  },
  {
   "cell_type": "code",
   "execution_count": 22,
   "id": "e44e66f6",
   "metadata": {
    "scrolled": true
   },
   "outputs": [
    {
     "name": "stdout",
     "output_type": "stream",
     "text": [
      "(136182, 41)\n",
      "(136182,)\n"
     ]
    }
   ],
   "source": [
    "# validation set 10000건 분리\n",
    "X_val = X_train[:10000]   \n",
    "y_val = y_train[:10000]\n",
    "\n",
    "# validation set을 제외한 나머지 15000건\n",
    "partial_X_train = X_train[10000:]  \n",
    "partial_y_train = y_train[10000:]\n",
    "\n",
    "print(partial_X_train.shape)\n",
    "print(partial_y_train.shape)"
   ]
  },
  {
   "cell_type": "markdown",
   "id": "f5fb91b1",
   "metadata": {},
   "source": [
    "##### validation set 구성\n",
    "- 훈련용 데이터셋 25000건 중 10000건을 분리하여 검증셋(validation set)으로 사용"
   ]
  },
  {
   "cell_type": "markdown",
   "id": "3b4935db",
   "metadata": {},
   "source": [
    "### 5) 모델 훈련 개시"
   ]
  },
  {
   "cell_type": "code",
   "execution_count": 23,
   "id": "e031cdde",
   "metadata": {},
   "outputs": [
    {
     "name": "stdout",
     "output_type": "stream",
     "text": [
      "Epoch 1/20\n",
      "266/266 [==============================] - 37s 7ms/step - loss: 0.4820 - accuracy: 0.7818 - val_loss: 0.3595 - val_accuracy: 0.8460\n",
      "Epoch 2/20\n",
      "266/266 [==============================] - 1s 5ms/step - loss: 0.3386 - accuracy: 0.8575 - val_loss: 0.3396 - val_accuracy: 0.8503\n",
      "Epoch 3/20\n",
      "266/266 [==============================] - 1s 5ms/step - loss: 0.3163 - accuracy: 0.8664 - val_loss: 0.3357 - val_accuracy: 0.8535\n",
      "Epoch 4/20\n",
      "266/266 [==============================] - 1s 5ms/step - loss: 0.3055 - accuracy: 0.8716 - val_loss: 0.3416 - val_accuracy: 0.8520\n",
      "Epoch 5/20\n",
      "266/266 [==============================] - 2s 6ms/step - loss: 0.2957 - accuracy: 0.8767 - val_loss: 0.3349 - val_accuracy: 0.8545\n",
      "Epoch 6/20\n",
      "266/266 [==============================] - 1s 5ms/step - loss: 0.2862 - accuracy: 0.8809 - val_loss: 0.3381 - val_accuracy: 0.8562\n",
      "Epoch 7/20\n",
      "266/266 [==============================] - 1s 5ms/step - loss: 0.2764 - accuracy: 0.8852 - val_loss: 0.3399 - val_accuracy: 0.8563\n",
      "Epoch 8/20\n",
      "266/266 [==============================] - 1s 5ms/step - loss: 0.2662 - accuracy: 0.8899 - val_loss: 0.3429 - val_accuracy: 0.8551\n",
      "Epoch 9/20\n",
      "266/266 [==============================] - 1s 5ms/step - loss: 0.2563 - accuracy: 0.8945 - val_loss: 0.3523 - val_accuracy: 0.8579\n",
      "Epoch 10/20\n",
      "266/266 [==============================] - 1s 5ms/step - loss: 0.2472 - accuracy: 0.8986 - val_loss: 0.3567 - val_accuracy: 0.8521\n",
      "Epoch 11/20\n",
      "266/266 [==============================] - 1s 5ms/step - loss: 0.2378 - accuracy: 0.9030 - val_loss: 0.3630 - val_accuracy: 0.8521\n",
      "Epoch 12/20\n",
      "266/266 [==============================] - 1s 5ms/step - loss: 0.2279 - accuracy: 0.9074 - val_loss: 0.3704 - val_accuracy: 0.8529\n",
      "Epoch 13/20\n",
      "266/266 [==============================] - 1s 5ms/step - loss: 0.2199 - accuracy: 0.9114 - val_loss: 0.3791 - val_accuracy: 0.8482\n",
      "Epoch 14/20\n",
      "266/266 [==============================] - 1s 5ms/step - loss: 0.2113 - accuracy: 0.9155 - val_loss: 0.3842 - val_accuracy: 0.8489\n",
      "Epoch 15/20\n",
      "266/266 [==============================] - 1s 5ms/step - loss: 0.2030 - accuracy: 0.9194 - val_loss: 0.3967 - val_accuracy: 0.8482\n",
      "Epoch 16/20\n",
      "266/266 [==============================] - 1s 5ms/step - loss: 0.1970 - accuracy: 0.9223 - val_loss: 0.4054 - val_accuracy: 0.8474\n",
      "Epoch 17/20\n",
      "266/266 [==============================] - 1s 5ms/step - loss: 0.1888 - accuracy: 0.9258 - val_loss: 0.4257 - val_accuracy: 0.8493\n",
      "Epoch 18/20\n",
      "266/266 [==============================] - 1s 5ms/step - loss: 0.1817 - accuracy: 0.9293 - val_loss: 0.4361 - val_accuracy: 0.8459\n",
      "Epoch 19/20\n",
      "266/266 [==============================] - 2s 6ms/step - loss: 0.1757 - accuracy: 0.9318 - val_loss: 0.4637 - val_accuracy: 0.8447\n",
      "Epoch 20/20\n",
      "266/266 [==============================] - 1s 5ms/step - loss: 0.1695 - accuracy: 0.9350 - val_loss: 0.4526 - val_accuracy: 0.8453\n"
     ]
    }
   ],
   "source": [
    "model.compile(optimizer='adam',\n",
    "              loss='binary_crossentropy',\n",
    "              metrics=['accuracy'])\n",
    "              \n",
    "epochs=20  # 몇 epoch를 훈련하면 좋을지 결과를 보면서 바꾸어 봅시다. \n",
    "\n",
    "history = model.fit(partial_X_train,\n",
    "                    partial_y_train,\n",
    "                    epochs=epochs,\n",
    "                    batch_size=512,\n",
    "                    validation_data=(X_val, y_val),\n",
    "                    verbose=1)"
   ]
  },
  {
   "cell_type": "markdown",
   "id": "f3c20891",
   "metadata": {},
   "source": [
    "##### RNN 모델 평가"
   ]
  },
  {
   "cell_type": "code",
   "execution_count": 24,
   "id": "d6520a8e",
   "metadata": {},
   "outputs": [
    {
     "name": "stdout",
     "output_type": "stream",
     "text": [
      "1537/1537 - 3s - loss: 0.4611 - accuracy: 0.8411\n",
      "[0.4610631465911865, 0.8410602807998657]\n"
     ]
    }
   ],
   "source": [
    "#학습이 끝난 모델을 테스트셋으로 평가\n",
    "results = model.evaluate(X_test,  y_test, verbose=2)\n",
    "\n",
    "print(results)"
   ]
  },
  {
   "cell_type": "markdown",
   "id": "8cbb4c3e",
   "metadata": {},
   "source": [
    "### 6) Loss, Accuracy 그래프 시각화"
   ]
  },
  {
   "cell_type": "code",
   "execution_count": 25,
   "id": "61932b11",
   "metadata": {},
   "outputs": [
    {
     "name": "stdout",
     "output_type": "stream",
     "text": [
      "dict_keys(['loss', 'accuracy', 'val_loss', 'val_accuracy'])\n"
     ]
    }
   ],
   "source": [
    "history_dict = history.history\n",
    "print(history_dict.keys()) # epoch에 따른 그래프를 그려볼 수 있는 항목들"
   ]
  },
  {
   "cell_type": "code",
   "execution_count": 26,
   "id": "2401c310",
   "metadata": {},
   "outputs": [
    {
     "data": {
      "image/png": "[encoded data removed]",
      "text/plain": [
       "<Figure size 432x288 with 1 Axes>"
      ]
     },
     "metadata": {
      "needs_background": "light"
     },
     "output_type": "display_data"
    }
   ],
   "source": [
    "acc = history_dict['accuracy']\n",
    "val_acc = history_dict['val_accuracy']\n",
    "loss = history_dict['loss']\n",
    "val_loss = history_dict['val_loss']\n",
    "\n",
    "epochs = range(1, len(acc) + 1)\n",
    "\n",
    "# \"bo\"는 \"파란색 점\"입니다\n",
    "plt.plot(epochs, loss, 'bo', label='Training loss')\n",
    "# b는 \"파란 실선\"입니다\n",
    "plt.plot(epochs, val_loss, 'b', label='Validation loss')\n",
    "plt.title('Training and validation loss')\n",
    "plt.xlabel('Epochs')\n",
    "plt.ylabel('Loss')\n",
    "plt.legend()\n",
    "\n",
    "plt.show()"
   ]
  },
  {
   "cell_type": "code",
   "execution_count": 27,
   "id": "abadea2c",
   "metadata": {},
   "outputs": [
    {
     "data": {
      "image/png": "[encoded data removed]",
      "text/plain": [
       "<Figure size 432x288 with 1 Axes>"
      ]
     },
     "metadata": {
      "needs_background": "light"
     },
     "output_type": "display_data"
    }
   ],
   "source": [
    "plt.clf()   # 그림을 초기화합니다\n",
    "\n",
    "plt.plot(epochs, acc, 'bo', label='Training acc')\n",
    "plt.plot(epochs, val_acc, 'b', label='Validation acc')\n",
    "plt.title('Training and validation accuracy')\n",
    "plt.xlabel('Epochs')\n",
    "plt.ylabel('Accuracy')\n",
    "plt.legend()\n",
    "\n",
    "plt.show()"
   ]
  },
  {
   "cell_type": "markdown",
   "id": "82252078",
   "metadata": {},
   "source": [
    "### 7) 학습된 Embedding 레이어 분석 "
   ]
  },
  {
   "cell_type": "code",
   "execution_count": 28,
   "id": "a7c60048",
   "metadata": {},
   "outputs": [
    {
     "name": "stdout",
     "output_type": "stream",
     "text": [
      "(10000, 15)\n"
     ]
    }
   ],
   "source": [
    "embedding_layer = model.layers[0]\n",
    "weights = embedding_layer.get_weights()[0]\n",
    "print(weights.shape)    # shape: (vocab_size, embedding_dim)"
   ]
  },
  {
   "cell_type": "code",
   "execution_count": 29,
   "id": "bd371e43",
   "metadata": {},
   "outputs": [],
   "source": [
    "# 학습한 Embedding 파라미터를 파일에 써서 저장합니다. \n",
    "word2vec_file_path = os.getenv('HOME')+'/aiffel/sentiment_classification/data/word2vec_rnn.txt'\n",
    "f = open(word2vec_file_path, 'w')\n",
    "f.write('{} {}\\n'.format(vocab_size-4, word_vector_dim))  # 몇개의 벡터를 얼마 사이즈로 기재할지 타이틀을 씁니다.\n",
    "\n",
    "# 단어 개수(에서 특수문자 4개는 제외하고)만큼의 워드 벡터를 파일에 기록합니다. \n",
    "vectors = model.get_weights()[0]\n",
    "for i in range(4,vocab_size):\n",
    "    f.write('{} {}\\n'.format(index_to_word[i], ' '.join(map(str, list(vectors[i, :])))))\n",
    "f.close()"
   ]
  },
  {
   "cell_type": "code",
   "execution_count": 30,
   "id": "3361fb4b",
   "metadata": {},
   "outputs": [],
   "source": [
    "word_vectors = Word2VecKeyedVectors.load_word2vec_format(word2vec_file_path, binary=False)"
   ]
  },
  {
   "cell_type": "code",
   "execution_count": 31,
   "id": "7baf1f0a",
   "metadata": {},
   "outputs": [
    {
     "data": {
      "text/plain": [
       "array([ 0.17052564,  0.25427365,  0.27898124, -0.26355222, -0.30833924,\n",
       "        0.22256076, -0.3676682 , -0.08111304, -0.12350495,  0.31679687,\n",
       "       -0.26579952, -0.13320771, -0.22496839, -0.20110254, -0.21350254],\n",
       "      dtype=float32)"
      ]
     },
     "execution_count": 31,
     "metadata": {},
     "output_type": "execute_result"
    }
   ],
   "source": [
    "from gensim.models.keyedvectors import Word2VecKeyedVectors\n",
    "\n",
    "word_vectors = Word2VecKeyedVectors.load_word2vec_format(word2vec_file_path, binary=False)\n",
    "vector = word_vectors['별로']\n",
    "vector"
   ]
  },
  {
   "cell_type": "code",
   "execution_count": 32,
   "id": "d8ff91af",
   "metadata": {},
   "outputs": [
    {
     "data": {
      "text/plain": [
       "[('졸작', 0.9823113679885864),\n",
       " ('식상', 0.9783157110214233),\n",
       " ('저급', 0.9780634045600891),\n",
       " ('조니', 0.9778622984886169),\n",
       " ('그라', 0.9753350019454956),\n",
       " ('엉성', 0.9736990332603455),\n",
       " ('포기', 0.9726274609565735),\n",
       " ('나약', 0.9725008606910706),\n",
       " ('발연기', 0.9703818559646606),\n",
       " ('병맛', 0.9702240824699402)]"
      ]
     },
     "execution_count": 32,
     "metadata": {},
     "output_type": "execute_result"
    }
   ],
   "source": [
    "word_vectors.similar_by_word(\"별로\")"
   ]
  },
  {
   "cell_type": "markdown",
   "id": "e1ccb4cc",
   "metadata": {},
   "source": [
    "### 4) 모델 구성 및 validation set 구성"
   ]
  },
  {
   "cell_type": "markdown",
   "id": "905306b4",
   "metadata": {},
   "source": [
    "#### 2. 1-D Convolution Neural Network(1-D CNN)모델"
   ]
  },
  {
   "cell_type": "code",
   "execution_count": 33,
   "id": "0ca74601",
   "metadata": {},
   "outputs": [
    {
     "name": "stdout",
     "output_type": "stream",
     "text": [
      "Model: \"sequential_1\"\n",
      "_________________________________________________________________\n",
      "Layer (type)                 Output Shape              Param #   \n",
      "=================================================================\n",
      "embedding_1 (Embedding)      (None, None, 15)          150000    \n",
      "_________________________________________________________________\n",
      "conv1d (Conv1D)              (None, None, 16)          1696      \n",
      "_________________________________________________________________\n",
      "max_pooling1d (MaxPooling1D) (None, None, 16)          0         \n",
      "_________________________________________________________________\n",
      "conv1d_1 (Conv1D)            (None, None, 16)          1808      \n",
      "_________________________________________________________________\n",
      "global_max_pooling1d (Global (None, 16)                0         \n",
      "_________________________________________________________________\n",
      "dense_2 (Dense)              (None, 8)                 136       \n",
      "_________________________________________________________________\n",
      "dense_3 (Dense)              (None, 1)                 9         \n",
      "=================================================================\n",
      "Total params: 153,649\n",
      "Trainable params: 153,649\n",
      "Non-trainable params: 0\n",
      "_________________________________________________________________\n"
     ]
    }
   ],
   "source": [
    "vocab_size = 10000    # 어휘 사전의 크기입니다(10,000개의 단어)\n",
    "word_vector_dim = 15  # 워드 벡터의 차원 수 (변경 가능한 하이퍼파라미터)\n",
    "\n",
    "# model 설계\n",
    "model = keras.Sequential()\n",
    "model.add(keras.layers.Embedding(vocab_size, word_vector_dim, input_shape=(None,)))\n",
    "model.add(keras.layers.Conv1D(16, 7, activation='relu'))\n",
    "model.add(keras.layers.MaxPooling1D(5))\n",
    "model.add(keras.layers.Conv1D(16, 7, activation='relu'))\n",
    "model.add(keras.layers.GlobalMaxPooling1D())\n",
    "model.add(keras.layers.Dense(8, activation='relu'))\n",
    "model.add(keras.layers.Dense(1, activation='sigmoid'))  # 최종 출력은 긍정/부정을 나타내는 1dim 입니다.\n",
    "\n",
    "model.summary()"
   ]
  },
  {
   "cell_type": "markdown",
   "id": "05d5c4cd",
   "metadata": {},
   "source": [
    "##### validation set 구성\n",
    "- 훈련용 데이터셋 25000건 중 10000건을 분리하여 검증셋(validation set)으로 사용"
   ]
  },
  {
   "cell_type": "code",
   "execution_count": 34,
   "id": "7f07c967",
   "metadata": {},
   "outputs": [
    {
     "name": "stdout",
     "output_type": "stream",
     "text": [
      "(136182, 41)\n",
      "(136182,)\n"
     ]
    }
   ],
   "source": [
    "# validation set 10000건 분리\n",
    "X_val = X_train[:10000]   \n",
    "y_val = y_train[:10000]\n",
    "\n",
    "# validation set을 제외한 나머지 15000건\n",
    "partial_X_train = X_train[10000:]  \n",
    "partial_y_train = y_train[10000:]\n",
    "\n",
    "print(partial_X_train.shape)\n",
    "print(partial_y_train.shape)"
   ]
  },
  {
   "cell_type": "markdown",
   "id": "65b36ac1",
   "metadata": {},
   "source": [
    "### 5) 모델 훈련 개시"
   ]
  },
  {
   "cell_type": "code",
   "execution_count": 35,
   "id": "f76f1fa0",
   "metadata": {
    "scrolled": false
   },
   "outputs": [
    {
     "name": "stdout",
     "output_type": "stream",
     "text": [
      "Epoch 1/20\n",
      "266/266 [==============================] - 22s 6ms/step - loss: 0.4649 - accuracy: 0.7660 - val_loss: 0.3437 - val_accuracy: 0.8499\n",
      "Epoch 2/20\n",
      "266/266 [==============================] - 1s 5ms/step - loss: 0.3204 - accuracy: 0.8634 - val_loss: 0.3330 - val_accuracy: 0.8565\n",
      "Epoch 3/20\n",
      "266/266 [==============================] - 1s 5ms/step - loss: 0.2844 - accuracy: 0.8819 - val_loss: 0.3315 - val_accuracy: 0.8575\n",
      "Epoch 4/20\n",
      "266/266 [==============================] - 1s 5ms/step - loss: 0.2519 - accuracy: 0.8983 - val_loss: 0.3424 - val_accuracy: 0.8555\n",
      "Epoch 5/20\n",
      "266/266 [==============================] - 1s 5ms/step - loss: 0.2172 - accuracy: 0.9153 - val_loss: 0.3627 - val_accuracy: 0.8541\n",
      "Epoch 6/20\n",
      "266/266 [==============================] - 1s 5ms/step - loss: 0.1827 - accuracy: 0.9319 - val_loss: 0.3970 - val_accuracy: 0.8497\n",
      "Epoch 7/20\n",
      "266/266 [==============================] - 1s 5ms/step - loss: 0.1518 - accuracy: 0.9456 - val_loss: 0.4431 - val_accuracy: 0.8450\n",
      "Epoch 8/20\n",
      "266/266 [==============================] - 1s 5ms/step - loss: 0.1258 - accuracy: 0.9567 - val_loss: 0.4834 - val_accuracy: 0.8410\n",
      "Epoch 9/20\n",
      "266/266 [==============================] - 1s 5ms/step - loss: 0.1064 - accuracy: 0.9650 - val_loss: 0.5326 - val_accuracy: 0.8413\n",
      "Epoch 10/20\n",
      "266/266 [==============================] - 1s 5ms/step - loss: 0.0913 - accuracy: 0.9707 - val_loss: 0.5690 - val_accuracy: 0.8378\n",
      "Epoch 11/20\n",
      "266/266 [==============================] - 1s 5ms/step - loss: 0.0793 - accuracy: 0.9754 - val_loss: 0.6113 - val_accuracy: 0.8359\n",
      "Epoch 12/20\n",
      "266/266 [==============================] - 1s 5ms/step - loss: 0.0706 - accuracy: 0.9783 - val_loss: 0.6521 - val_accuracy: 0.8349\n",
      "Epoch 13/20\n",
      "266/266 [==============================] - 1s 5ms/step - loss: 0.0627 - accuracy: 0.9808 - val_loss: 0.7006 - val_accuracy: 0.8336\n",
      "Epoch 14/20\n",
      "266/266 [==============================] - 1s 5ms/step - loss: 0.0571 - accuracy: 0.9830 - val_loss: 0.7307 - val_accuracy: 0.8316\n",
      "Epoch 15/20\n",
      "266/266 [==============================] - 1s 5ms/step - loss: 0.0527 - accuracy: 0.9844 - val_loss: 0.7739 - val_accuracy: 0.8306\n",
      "Epoch 16/20\n",
      "266/266 [==============================] - 1s 5ms/step - loss: 0.0502 - accuracy: 0.9849 - val_loss: 0.8092 - val_accuracy: 0.8288\n",
      "Epoch 17/20\n",
      "266/266 [==============================] - 1s 5ms/step - loss: 0.0469 - accuracy: 0.9855 - val_loss: 0.8525 - val_accuracy: 0.8251\n",
      "Epoch 18/20\n",
      "266/266 [==============================] - 1s 5ms/step - loss: 0.0465 - accuracy: 0.9854 - val_loss: 0.8879 - val_accuracy: 0.8271\n",
      "Epoch 19/20\n",
      "266/266 [==============================] - 1s 5ms/step - loss: 0.0441 - accuracy: 0.9865 - val_loss: 0.9263 - val_accuracy: 0.8245\n",
      "Epoch 20/20\n",
      "266/266 [==============================] - 1s 5ms/step - loss: 0.0407 - accuracy: 0.9876 - val_loss: 0.9623 - val_accuracy: 0.8250\n"
     ]
    }
   ],
   "source": [
    "model.compile(optimizer='adam',\n",
    "              loss='binary_crossentropy',\n",
    "              metrics=['accuracy'])\n",
    "              \n",
    "epochs=20  # 몇 epoch를 훈련하면 좋을지 결과를 보면서 바꾸어 봅시다. \n",
    "\n",
    "history = model.fit(partial_X_train,\n",
    "                    partial_y_train,\n",
    "                    epochs=epochs,\n",
    "                    batch_size=512,\n",
    "                    validation_data=(X_val, y_val),\n",
    "                    verbose=1)"
   ]
  },
  {
   "cell_type": "markdown",
   "id": "bdec1be0",
   "metadata": {},
   "source": [
    "##### CNN 모델평가"
   ]
  },
  {
   "cell_type": "code",
   "execution_count": 36,
   "id": "4a9c03be",
   "metadata": {},
   "outputs": [
    {
     "name": "stdout",
     "output_type": "stream",
     "text": [
      "1537/1537 - 3s - loss: 0.9935 - accuracy: 0.8184\n",
      "[0.9934755563735962, 0.8184388875961304]\n"
     ]
    }
   ],
   "source": [
    "#학습이 끝난 모델을 테스트셋으로 평가\n",
    "results = model.evaluate(X_test,  y_test, verbose=2)\n",
    "\n",
    "print(results)"
   ]
  },
  {
   "cell_type": "markdown",
   "id": "728c6b1d",
   "metadata": {},
   "source": [
    "### 6) Loss, Accuracy 그래프 시각화"
   ]
  },
  {
   "cell_type": "code",
   "execution_count": 37,
   "id": "4f7e3b27",
   "metadata": {},
   "outputs": [
    {
     "name": "stdout",
     "output_type": "stream",
     "text": [
      "dict_keys(['loss', 'accuracy', 'val_loss', 'val_accuracy'])\n"
     ]
    }
   ],
   "source": [
    "history_dict = history.history\n",
    "print(history_dict.keys()) # epoch에 따른 그래프를 그려볼 수 있는 항목들"
   ]
  },
  {
   "cell_type": "code",
   "execution_count": 38,
   "id": "01bfd0a6",
   "metadata": {
    "scrolled": true
   },
   "outputs": [
    {
     "data": {
      "image/png": "[encoded data removed]",
      "text/plain": [
       "<Figure size 432x288 with 1 Axes>"
      ]
     },
     "metadata": {
      "needs_background": "light"
     },
     "output_type": "display_data"
    }
   ],
   "source": [
    "acc = history_dict['accuracy']\n",
    "val_acc = history_dict['val_accuracy']\n",
    "loss = history_dict['loss']\n",
    "val_loss = history_dict['val_loss']\n",
    "\n",
    "epochs = range(1, len(acc) + 1)\n",
    "\n",
    "# \"bo\"는 \"파란색 점\"입니다\n",
    "plt.plot(epochs, loss, 'bo', label='Training loss')\n",
    "# b는 \"파란 실선\"입니다\n",
    "plt.plot(epochs, val_loss, 'b', label='Validation loss')\n",
    "plt.title('Training and validation loss')\n",
    "plt.xlabel('Epochs')\n",
    "plt.ylabel('Loss')\n",
    "plt.legend()\n",
    "\n",
    "plt.show()"
   ]
  },
  {
   "cell_type": "code",
   "execution_count": 39,
   "id": "4cb346fa",
   "metadata": {},
   "outputs": [
    {
     "data": {
      "image/png": "[encoded data removed]",
      "text/plain": [
       "<Figure size 432x288 with 1 Axes>"
      ]
     },
     "metadata": {
      "needs_background": "light"
     },
     "output_type": "display_data"
    }
   ],
   "source": [
    "plt.clf()   # 그림을 초기화합니다\n",
    "\n",
    "plt.plot(epochs, acc, 'bo', label='Training acc')\n",
    "plt.plot(epochs, val_acc, 'b', label='Validation acc')\n",
    "plt.title('Training and validation accuracy')\n",
    "plt.xlabel('Epochs')\n",
    "plt.ylabel('Accuracy')\n",
    "plt.legend()\n",
    "\n",
    "plt.show()"
   ]
  },
  {
   "cell_type": "markdown",
   "id": "3fc370c6",
   "metadata": {},
   "source": [
    "### 7) 학습된 Embedding 레이어 분석 "
   ]
  },
  {
   "cell_type": "code",
   "execution_count": 40,
   "id": "7fbc2a4a",
   "metadata": {},
   "outputs": [
    {
     "name": "stdout",
     "output_type": "stream",
     "text": [
      "(10000, 15)\n"
     ]
    }
   ],
   "source": [
    "embedding_layer = model.layers[0]\n",
    "weights = embedding_layer.get_weights()[0]\n",
    "print(weights.shape)    # shape: (vocab_size, embedding_dim)"
   ]
  },
  {
   "cell_type": "code",
   "execution_count": 41,
   "id": "f9cdd622",
   "metadata": {},
   "outputs": [],
   "source": [
    "# 학습한 Embedding 파라미터를 파일에 써서 저장합니다. \n",
    "word2vec_file_path = os.getenv('HOME')+'/aiffel/sentiment_classification/data/word2vec_gmp.txt'\n",
    "f = open(word2vec_file_path, 'w')\n",
    "f.write('{} {}\\n'.format(vocab_size-4, word_vector_dim))  # 몇개의 벡터를 얼마 사이즈로 기재할지 타이틀을 씁니다.\n",
    "\n",
    "# 단어 개수(에서 특수문자 4개는 제외하고)만큼의 워드 벡터를 파일에 기록합니다. \n",
    "vectors = model.get_weights()[0]\n",
    "for i in range(4,vocab_size):\n",
    "    f.write('{} {}\\n'.format(index_to_word[i], ' '.join(map(str, list(vectors[i, :])))))\n",
    "f.close()"
   ]
  },
  {
   "cell_type": "code",
   "execution_count": 42,
   "id": "ac15fc70",
   "metadata": {},
   "outputs": [],
   "source": [
    "word_vectors = Word2VecKeyedVectors.load_word2vec_format(word2vec_file_path, binary=False)"
   ]
  },
  {
   "cell_type": "code",
   "execution_count": 43,
   "id": "b2f46364",
   "metadata": {},
   "outputs": [
    {
     "data": {
      "text/plain": [
       "array([-0.06435439,  0.14823397,  0.02648995, -0.09077704,  0.09106335,\n",
       "       -0.10333567,  0.16240516, -0.17784736,  0.05863622, -0.11726608,\n",
       "        0.10458647,  0.00658836, -0.23240158, -0.03091527,  0.11021147],\n",
       "      dtype=float32)"
      ]
     },
     "execution_count": 43,
     "metadata": {},
     "output_type": "execute_result"
    }
   ],
   "source": [
    "from gensim.models.keyedvectors import Word2VecKeyedVectors\n",
    "\n",
    "word_vectors = Word2VecKeyedVectors.load_word2vec_format(word2vec_file_path, binary=False)\n",
    "vector = word_vectors['별로']\n",
    "vector"
   ]
  },
  {
   "cell_type": "code",
   "execution_count": 44,
   "id": "03d0216f",
   "metadata": {},
   "outputs": [
    {
     "data": {
      "text/plain": [
       "[('흐지부지', 0.9358434677124023),\n",
       " ('인내력', 0.9231613278388977),\n",
       " ('얼렁뚱땅', 0.9157020449638367),\n",
       " ('서세원', 0.9073120355606079),\n",
       " ('퇴화', 0.906979501247406),\n",
       " ('먼데', 0.9059614539146423),\n",
       " ('막무가내', 0.8996096849441528),\n",
       " ('시망', 0.8949223160743713),\n",
       " ('착오', 0.8934860229492188),\n",
       " ('횡설수설', 0.8905110359191895)]"
      ]
     },
     "execution_count": 44,
     "metadata": {},
     "output_type": "execute_result"
    }
   ],
   "source": [
    "word_vectors.similar_by_word(\"별로\")"
   ]
  },
  {
   "cell_type": "markdown",
   "id": "0a77e4bd",
   "metadata": {},
   "source": [
    "### 4) 모델 구성 및 validation set 구성"
   ]
  },
  {
   "cell_type": "markdown",
   "id": "b0b0db53",
   "metadata": {},
   "source": [
    "##### Averaging Pooling"
   ]
  },
  {
   "cell_type": "code",
   "execution_count": 45,
   "id": "d965353e",
   "metadata": {},
   "outputs": [
    {
     "name": "stdout",
     "output_type": "stream",
     "text": [
      "Model: \"sequential_2\"\n",
      "_________________________________________________________________\n",
      "Layer (type)                 Output Shape              Param #   \n",
      "=================================================================\n",
      "embedding_2 (Embedding)      (None, None, 15)          150000    \n",
      "_________________________________________________________________\n",
      "global_average_pooling1d (Gl (None, 15)                0         \n",
      "_________________________________________________________________\n",
      "dense_4 (Dense)              (None, 8)                 128       \n",
      "_________________________________________________________________\n",
      "dense_5 (Dense)              (None, 1)                 9         \n",
      "=================================================================\n",
      "Total params: 150,137\n",
      "Trainable params: 150,137\n",
      "Non-trainable params: 0\n",
      "_________________________________________________________________\n"
     ]
    }
   ],
   "source": [
    "vocab_size = 10000\n",
    "word_vector_dim = 15\n",
    "\n",
    "model = keras.Sequential()\n",
    "model.add(keras.layers.Embedding(vocab_size, word_vector_dim, input_shape=(None,)))\n",
    "model.add(keras.layers.GlobalAveragePooling1D())\n",
    "model.add(keras.layers.Dense(8, activation='relu'))\n",
    "model.add(keras.layers.Dense(1, activation='sigmoid'))\n",
    "\n",
    "model.summary()"
   ]
  },
  {
   "cell_type": "markdown",
   "id": "4d559d0d",
   "metadata": {},
   "source": [
    "##### validation set 구성\n",
    "훈련용 데이터셋 25000건 중 10000건을 분리하여 검증셋(validation set)으로 사용"
   ]
  },
  {
   "cell_type": "code",
   "execution_count": 46,
   "id": "789fb83a",
   "metadata": {},
   "outputs": [
    {
     "name": "stdout",
     "output_type": "stream",
     "text": [
      "(136182, 41)\n",
      "(136182,)\n"
     ]
    }
   ],
   "source": [
    "# validation set 10000건 분리\n",
    "X_val = X_train[:10000]   \n",
    "y_val = y_train[:10000]\n",
    "\n",
    "# validation set을 제외한 나머지 15000건\n",
    "partial_X_train = X_train[10000:]  \n",
    "partial_y_train = y_train[10000:]\n",
    "\n",
    "print(partial_X_train.shape)\n",
    "print(partial_y_train.shape)"
   ]
  },
  {
   "cell_type": "markdown",
   "id": "af6026be",
   "metadata": {},
   "source": [
    "### 5) 모델 훈련 개시"
   ]
  },
  {
   "cell_type": "code",
   "execution_count": 47,
   "id": "8f4b2544",
   "metadata": {},
   "outputs": [
    {
     "name": "stdout",
     "output_type": "stream",
     "text": [
      "Epoch 1/20\n",
      "266/266 [==============================] - 2s 4ms/step - loss: 0.6461 - accuracy: 0.7208 - val_loss: 0.5468 - val_accuracy: 0.7933\n",
      "Epoch 2/20\n",
      "266/266 [==============================] - 1s 4ms/step - loss: 0.4599 - accuracy: 0.8170 - val_loss: 0.4048 - val_accuracy: 0.8324\n",
      "Epoch 3/20\n",
      "266/266 [==============================] - 1s 4ms/step - loss: 0.3800 - accuracy: 0.8418 - val_loss: 0.3667 - val_accuracy: 0.8453\n",
      "Epoch 4/20\n",
      "266/266 [==============================] - 1s 4ms/step - loss: 0.3526 - accuracy: 0.8522 - val_loss: 0.3540 - val_accuracy: 0.8476\n",
      "Epoch 5/20\n",
      "266/266 [==============================] - 1s 3ms/step - loss: 0.3389 - accuracy: 0.8575 - val_loss: 0.3491 - val_accuracy: 0.8479\n",
      "Epoch 6/20\n",
      "266/266 [==============================] - 1s 3ms/step - loss: 0.3300 - accuracy: 0.8618 - val_loss: 0.3487 - val_accuracy: 0.8481\n",
      "Epoch 7/20\n",
      "266/266 [==============================] - 1s 3ms/step - loss: 0.3235 - accuracy: 0.8646 - val_loss: 0.3453 - val_accuracy: 0.8495\n",
      "Epoch 8/20\n",
      "266/266 [==============================] - 1s 3ms/step - loss: 0.3184 - accuracy: 0.8665 - val_loss: 0.3452 - val_accuracy: 0.8504\n",
      "Epoch 9/20\n",
      "266/266 [==============================] - 1s 3ms/step - loss: 0.3141 - accuracy: 0.8684 - val_loss: 0.3452 - val_accuracy: 0.8504\n",
      "Epoch 10/20\n",
      "266/266 [==============================] - 1s 3ms/step - loss: 0.3108 - accuracy: 0.8699 - val_loss: 0.3464 - val_accuracy: 0.8475\n",
      "Epoch 11/20\n",
      "266/266 [==============================] - 1s 3ms/step - loss: 0.3080 - accuracy: 0.8713 - val_loss: 0.3469 - val_accuracy: 0.8485\n",
      "Epoch 12/20\n",
      "266/266 [==============================] - 1s 3ms/step - loss: 0.3054 - accuracy: 0.8718 - val_loss: 0.3487 - val_accuracy: 0.8479\n",
      "Epoch 13/20\n",
      "266/266 [==============================] - 1s 3ms/step - loss: 0.3032 - accuracy: 0.8735 - val_loss: 0.3498 - val_accuracy: 0.8479\n",
      "Epoch 14/20\n",
      "266/266 [==============================] - 1s 3ms/step - loss: 0.3012 - accuracy: 0.8742 - val_loss: 0.3501 - val_accuracy: 0.8473\n",
      "Epoch 15/20\n",
      "266/266 [==============================] - 1s 3ms/step - loss: 0.2993 - accuracy: 0.8749 - val_loss: 0.3538 - val_accuracy: 0.8464\n",
      "Epoch 16/20\n",
      "266/266 [==============================] - 1s 4ms/step - loss: 0.2977 - accuracy: 0.8756 - val_loss: 0.3532 - val_accuracy: 0.8453\n",
      "Epoch 17/20\n",
      "266/266 [==============================] - 1s 3ms/step - loss: 0.2959 - accuracy: 0.8767 - val_loss: 0.3544 - val_accuracy: 0.8458\n",
      "Epoch 18/20\n",
      "266/266 [==============================] - 1s 3ms/step - loss: 0.2940 - accuracy: 0.8771 - val_loss: 0.3549 - val_accuracy: 0.8456\n",
      "Epoch 19/20\n",
      "266/266 [==============================] - 1s 3ms/step - loss: 0.2924 - accuracy: 0.8782 - val_loss: 0.3563 - val_accuracy: 0.8452\n",
      "Epoch 20/20\n",
      "266/266 [==============================] - 1s 3ms/step - loss: 0.2906 - accuracy: 0.8791 - val_loss: 0.3573 - val_accuracy: 0.8442\n"
     ]
    }
   ],
   "source": [
    "model.compile(optimizer='adam',\n",
    "              loss='binary_crossentropy',\n",
    "              metrics=['accuracy'])\n",
    "              \n",
    "epochs=20  # 몇 epoch를 훈련하면 좋을지 결과를 보면서 바꾸어 봅시다. \n",
    "\n",
    "history = model.fit(partial_X_train,\n",
    "                    partial_y_train,\n",
    "                    epochs=epochs,\n",
    "                    batch_size=512,\n",
    "                    validation_data=(X_val, y_val),\n",
    "                    verbose=1)"
   ]
  },
  {
   "cell_type": "markdown",
   "id": "7fd63aa0",
   "metadata": {},
   "source": [
    "##### 모델평가"
   ]
  },
  {
   "cell_type": "code",
   "execution_count": 48,
   "id": "f89dbbbc",
   "metadata": {},
   "outputs": [
    {
     "name": "stdout",
     "output_type": "stream",
     "text": [
      "1537/1537 - 2s - loss: 0.3690 - accuracy: 0.8421\n",
      "[0.36895760893821716, 0.8421180844306946]\n"
     ]
    }
   ],
   "source": [
    "#학습이 끝난 모델을 테스트셋으로 평가\n",
    "results = model.evaluate(X_test,  y_test, verbose=2)\n",
    "\n",
    "print(results)"
   ]
  },
  {
   "cell_type": "markdown",
   "id": "87c77b67",
   "metadata": {},
   "source": [
    "### 6) Loss, Accuracy 그래프 시각화"
   ]
  },
  {
   "cell_type": "code",
   "execution_count": 49,
   "id": "ceb545b4",
   "metadata": {},
   "outputs": [
    {
     "name": "stdout",
     "output_type": "stream",
     "text": [
      "dict_keys(['loss', 'accuracy', 'val_loss', 'val_accuracy'])\n"
     ]
    }
   ],
   "source": [
    "history_dict = history.history\n",
    "print(history_dict.keys()) # epoch에 따른 그래프를 그려볼 수 있는 항목들"
   ]
  },
  {
   "cell_type": "code",
   "execution_count": 50,
   "id": "f4e4e785",
   "metadata": {},
   "outputs": [
    {
     "data": {
      "image/png": "[encoded data removed]",
      "text/plain": [
       "<Figure size 432x288 with 1 Axes>"
      ]
     },
     "metadata": {
      "needs_background": "light"
     },
     "output_type": "display_data"
    }
   ],
   "source": [
    "acc = history_dict['accuracy']\n",
    "val_acc = history_dict['val_accuracy']\n",
    "loss = history_dict['loss']\n",
    "val_loss = history_dict['val_loss']\n",
    "\n",
    "epochs = range(1, len(acc) + 1)\n",
    "\n",
    "# \"bo\"는 \"파란색 점\"입니다\n",
    "plt.plot(epochs, loss, 'bo', label='Training loss')\n",
    "# b는 \"파란 실선\"입니다\n",
    "plt.plot(epochs, val_loss, 'b', label='Validation loss')\n",
    "plt.title('Training and validation loss')\n",
    "plt.xlabel('Epochs')\n",
    "plt.ylabel('Loss')\n",
    "plt.legend()\n",
    "\n",
    "plt.show()"
   ]
  },
  {
   "cell_type": "code",
   "execution_count": 51,
   "id": "cd9ce73f",
   "metadata": {},
   "outputs": [
    {
     "data": {
      "image/png": "[encoded data removed]",
      "text/plain": [
       "<Figure size 432x288 with 1 Axes>"
      ]
     },
     "metadata": {
      "needs_background": "light"
     },
     "output_type": "display_data"
    }
   ],
   "source": [
    "plt.clf()   # 그림을 초기화합니다\n",
    "\n",
    "plt.plot(epochs, acc, 'bo', label='Training acc')\n",
    "plt.plot(epochs, val_acc, 'b', label='Validation acc')\n",
    "plt.title('Training and validation accuracy')\n",
    "plt.xlabel('Epochs')\n",
    "plt.ylabel('Accuracy')\n",
    "plt.legend()\n",
    "\n",
    "plt.show()"
   ]
  },
  {
   "cell_type": "markdown",
   "id": "976e94e3",
   "metadata": {},
   "source": [
    "### 7) 학습된 Embedding 레이어 분석 "
   ]
  },
  {
   "cell_type": "code",
   "execution_count": 52,
   "id": "f0ec7bef",
   "metadata": {},
   "outputs": [
    {
     "name": "stdout",
     "output_type": "stream",
     "text": [
      "(10000, 15)\n"
     ]
    }
   ],
   "source": [
    "embedding_layer = model.layers[0]\n",
    "weights = embedding_layer.get_weights()[0]\n",
    "print(weights.shape)    # shape: (vocab_size, embedding_dim)"
   ]
  },
  {
   "cell_type": "code",
   "execution_count": 53,
   "id": "3ddbbbc8",
   "metadata": {},
   "outputs": [],
   "source": [
    "# 학습한 Embedding 파라미터를 파일에 써서 저장합니다. \n",
    "word2vec_file_path = os.getenv('HOME')+'/aiffel/sentiment_classification/data/word2vec_gmp.txt'\n",
    "f = open(word2vec_file_path, 'w')\n",
    "f.write('{} {}\\n'.format(vocab_size-4, word_vector_dim))  # 몇개의 벡터를 얼마 사이즈로 기재할지 타이틀을 씁니다.\n",
    "\n",
    "# 단어 개수(에서 특수문자 4개는 제외하고)만큼의 워드 벡터를 파일에 기록합니다. \n",
    "vectors = model.get_weights()[0]\n",
    "for i in range(4,vocab_size):\n",
    "    f.write('{} {}\\n'.format(index_to_word[i], ' '.join(map(str, list(vectors[i, :])))))\n",
    "f.close()"
   ]
  },
  {
   "cell_type": "code",
   "execution_count": 54,
   "id": "8da0026e",
   "metadata": {},
   "outputs": [],
   "source": [
    "# 학습한 Embedding 파라미터를 파일에 써서 저장합니다. \n",
    "word2vec_file_path = os.getenv('HOME')+'/aiffel/sentiment_classification/data/word2vec_gmp.txt'\n",
    "f = open(word2vec_file_path, 'w')\n",
    "f.write('{} {}\\n'.format(vocab_size-4, word_vector_dim))  # 몇개의 벡터를 얼마 사이즈로 기재할지 타이틀을 씁니다.\n",
    "\n",
    "# 단어 개수(에서 특수문자 4개는 제외하고)만큼의 워드 벡터를 파일에 기록합니다. \n",
    "vectors = model.get_weights()[0]\n",
    "for i in range(4,vocab_size):\n",
    "    f.write('{} {}\\n'.format(index_to_word[i], ' '.join(map(str, list(vectors[i, :])))))\n",
    "f.close()"
   ]
  },
  {
   "cell_type": "code",
   "execution_count": 55,
   "id": "19fd1008",
   "metadata": {},
   "outputs": [],
   "source": [
    "word_vectors = Word2VecKeyedVectors.load_word2vec_format(word2vec_file_path, binary=False)"
   ]
  },
  {
   "cell_type": "code",
   "execution_count": 56,
   "id": "11117a26",
   "metadata": {
    "scrolled": true
   },
   "outputs": [
    {
     "data": {
      "text/plain": [
       "array([ 0.6654788 , -0.6757492 ,  0.6027424 ,  0.7330485 ,  0.7161756 ,\n",
       "       -0.6475821 ,  0.6719442 , -0.63762856,  0.6610346 ,  0.6928776 ,\n",
       "       -0.6351859 , -0.66060954, -0.5785777 ,  0.64613205,  0.60882664],\n",
       "      dtype=float32)"
      ]
     },
     "execution_count": 56,
     "metadata": {},
     "output_type": "execute_result"
    }
   ],
   "source": [
    "from gensim.models.keyedvectors import Word2VecKeyedVectors\n",
    "\n",
    "word_vectors = Word2VecKeyedVectors.load_word2vec_format(word2vec_file_path, binary=False)\n",
    "vector = word_vectors['별로']\n",
    "vector"
   ]
  },
  {
   "cell_type": "code",
   "execution_count": 57,
   "id": "a7e43733",
   "metadata": {},
   "outputs": [
    {
     "data": {
      "text/plain": [
       "[('ㅗ', 0.9987943768501282),\n",
       " ('긴급조치', 0.9985694885253906),\n",
       " ('흑역사', 0.9985272288322449),\n",
       " ('맛없', 0.9985082149505615),\n",
       " ('핑계', 0.9984450340270996),\n",
       " ('글쎄', 0.9983675479888916),\n",
       " ('팔아먹', 0.9983595013618469),\n",
       " ('이딴', 0.9982730150222778),\n",
       " ('씁니다', 0.9982568025588989),\n",
       " ('원주율', 0.9982492923736572)]"
      ]
     },
     "execution_count": 57,
     "metadata": {},
     "output_type": "execute_result"
    }
   ],
   "source": [
    "word_vectors.similar_by_word(\"별로\")"
   ]
  },
  {
   "cell_type": "markdown",
   "id": "c8d8d790",
   "metadata": {},
   "source": [
    "### 8) 한국어 Word2Vec 임베딩 활용하여 성능 개선"
   ]
  },
  {
   "cell_type": "markdown",
   "id": "9b2f5f7c",
   "metadata": {},
   "source": [
    "##### 사전학습된  모델 불러오기"
   ]
  },
  {
   "cell_type": "code",
   "execution_count": 58,
   "id": "e41a0ddb",
   "metadata": {},
   "outputs": [],
   "source": [
    "from gensim.models.keyedvectors import Word2VecKeyedVectors"
   ]
  },
  {
   "cell_type": "code",
   "execution_count": 59,
   "id": "271d953d",
   "metadata": {},
   "outputs": [
    {
     "name": "stdout",
     "output_type": "stream",
     "text": [
      "[-0.6522194  -0.72971654  0.29973522 -1.0382856  -0.66353625  1.9211893\n",
      " -0.1113812   0.37509003 -1.0065161   2.1339107  -1.5426656  -1.4290732\n",
      " -0.7747134   1.6044024   0.02959003  0.02805945 -0.0359591  -2.6053586\n",
      "  0.9430334  -1.9666804  -0.11962166  1.2537891  -0.07399909 -0.6743211\n",
      " -2.896741   -0.8409561   2.1960537  -1.4603271   0.800693   -0.50883776\n",
      "  0.5734687   1.2452401  -1.1896318   0.92532426 -0.7766696  -0.21252178\n",
      "  0.44364637  1.7023529  -1.2410666   0.45040238 -1.7838554   0.56376916\n",
      "  1.0404649   3.5681214  -3.836213   -0.0389802  -0.9045351  -0.09502685\n",
      "  0.3096315   0.07984086 -2.0829272  -0.7385968   1.3032864  -1.0671923\n",
      "  0.3151587   1.6290386   0.31804296  0.81135494  0.15569398 -0.74521124\n",
      "  2.3615181  -0.65269804 -1.242174   -0.9375803  -1.4413465  -0.73050594\n",
      " -0.11288032  1.5170592  -2.080498   -0.8933436   1.0371559   0.59798044\n",
      " -1.4221961  -0.12629856 -2.2256906  -1.4001553   0.70335877  0.68809146\n",
      " -0.5927846  -2.1977966   0.4621467  -0.73917115 -0.48386562  0.38262606\n",
      " -0.26296538 -1.2238553  -1.9478993  -0.7570388   1.6694942   0.4759201\n",
      " -0.6585496  -1.0529865   2.8779154   0.81978047 -0.6294349   0.90699375\n",
      "  0.3247992   0.85148185  1.4953619   0.37646627]\n"
     ]
    }
   ],
   "source": [
    "word2vec_file_path = os.getenv('HOME') + '/data/word2vec_ko.model'\n",
    "word2vec = gensim.models.Word2Vec.load(word2vec_file_path)\n",
    "vector = word2vec.wv['별로']\n",
    "print(vector)\n",
    "\n",
    "vocab_size = 10000\n",
    "word_vector_dim = 100\n",
    "embedding_matrix = np.random.rand(vocab_size, word_vector_dim)\n",
    "\n",
    "for i in range(4, vocab_size):\n",
    "    word = index_to_word[i]\n",
    "    if word in word2vec.wv.key_to_index:\n",
    "        embedding_matrix[i] = word2vec.wv[word]\n"
   ]
  },
  {
   "cell_type": "code",
   "execution_count": 60,
   "id": "dcb66e6e",
   "metadata": {},
   "outputs": [
    {
     "name": "stdout",
     "output_type": "stream",
     "text": [
      "Model: \"sequential_3\"\n",
      "_________________________________________________________________\n",
      "Layer (type)                 Output Shape              Param #   \n",
      "=================================================================\n",
      "embedding_3 (Embedding)      (None, 41, 100)           1000000   \n",
      "_________________________________________________________________\n",
      "lstm_1 (LSTM)                (None, 16)                7488      \n",
      "_________________________________________________________________\n",
      "dense_6 (Dense)              (None, 8)                 136       \n",
      "_________________________________________________________________\n",
      "dense_7 (Dense)              (None, 1)                 9         \n",
      "=================================================================\n",
      "Total params: 1,007,633\n",
      "Trainable params: 1,007,633\n",
      "Non-trainable params: 0\n",
      "_________________________________________________________________\n"
     ]
    }
   ],
   "source": [
    "# 모델 구성\n",
    "model = keras.Sequential()\n",
    "model.add(keras.layers.Embedding(vocab_size, \n",
    "                                 word_vector_dim, \n",
    "                                 embeddings_initializer=Constant(embedding_matrix),  # 카피한 임베딩을 여기서 활용\n",
    "                                 input_length=maxlen, \n",
    "                                 trainable=True))   # trainable을 True로 주면 Fine-tuning\n",
    "model.add(keras.layers.LSTM(16))\n",
    "model.add(keras.layers.Dense(8, activation='relu'))\n",
    "model.add(keras.layers.Dense(1, activation='sigmoid'))\n",
    "\n",
    "model.summary()"
   ]
  },
  {
   "cell_type": "code",
   "execution_count": 61,
   "id": "1a3d3b4c",
   "metadata": {},
   "outputs": [
    {
     "name": "stdout",
     "output_type": "stream",
     "text": [
      "Epoch 1/20\n",
      "36/36 [==============================] - 2s 27ms/step - loss: 0.6732 - accuracy: 0.5825 - val_loss: 0.6447 - val_accuracy: 0.6419\n",
      "Epoch 2/20\n",
      "36/36 [==============================] - 1s 15ms/step - loss: 0.6026 - accuracy: 0.6880 - val_loss: 0.5386 - val_accuracy: 0.7381\n",
      "Epoch 3/20\n",
      "36/36 [==============================] - 1s 16ms/step - loss: 0.4991 - accuracy: 0.7632 - val_loss: 0.4561 - val_accuracy: 0.7881\n",
      "Epoch 4/20\n",
      "36/36 [==============================] - 1s 16ms/step - loss: 0.4401 - accuracy: 0.8002 - val_loss: 0.4097 - val_accuracy: 0.8170\n",
      "Epoch 5/20\n",
      "36/36 [==============================] - 1s 16ms/step - loss: 0.4025 - accuracy: 0.8219 - val_loss: 0.3780 - val_accuracy: 0.8357\n",
      "Epoch 6/20\n",
      "36/36 [==============================] - 1s 16ms/step - loss: 0.3760 - accuracy: 0.8355 - val_loss: 0.3549 - val_accuracy: 0.8459\n",
      "Epoch 7/20\n",
      "36/36 [==============================] - 1s 16ms/step - loss: 0.3568 - accuracy: 0.8462 - val_loss: 0.3425 - val_accuracy: 0.8520\n",
      "Epoch 8/20\n",
      "36/36 [==============================] - 1s 16ms/step - loss: 0.3422 - accuracy: 0.8535 - val_loss: 0.3246 - val_accuracy: 0.8588\n",
      "Epoch 9/20\n",
      "36/36 [==============================] - 1s 15ms/step - loss: 0.3302 - accuracy: 0.8594 - val_loss: 0.3137 - val_accuracy: 0.8655\n",
      "Epoch 10/20\n",
      "36/36 [==============================] - 1s 15ms/step - loss: 0.3200 - accuracy: 0.8651 - val_loss: 0.3055 - val_accuracy: 0.8683\n",
      "Epoch 11/20\n",
      "36/36 [==============================] - 1s 15ms/step - loss: 0.3115 - accuracy: 0.8686 - val_loss: 0.2974 - val_accuracy: 0.8729\n",
      "Epoch 12/20\n",
      "36/36 [==============================] - 1s 15ms/step - loss: 0.3045 - accuracy: 0.8728 - val_loss: 0.2887 - val_accuracy: 0.8761\n",
      "Epoch 13/20\n",
      "36/36 [==============================] - 1s 16ms/step - loss: 0.2985 - accuracy: 0.8758 - val_loss: 0.2824 - val_accuracy: 0.8813\n",
      "Epoch 14/20\n",
      "36/36 [==============================] - 1s 15ms/step - loss: 0.2915 - accuracy: 0.8793 - val_loss: 0.2784 - val_accuracy: 0.8856\n",
      "Epoch 15/20\n",
      "36/36 [==============================] - 1s 15ms/step - loss: 0.2861 - accuracy: 0.8820 - val_loss: 0.2733 - val_accuracy: 0.8881\n",
      "Epoch 16/20\n",
      "36/36 [==============================] - 1s 15ms/step - loss: 0.2819 - accuracy: 0.8845 - val_loss: 0.2725 - val_accuracy: 0.8881\n",
      "Epoch 17/20\n",
      "36/36 [==============================] - 1s 15ms/step - loss: 0.2767 - accuracy: 0.8869 - val_loss: 0.2629 - val_accuracy: 0.8917\n",
      "Epoch 18/20\n",
      "36/36 [==============================] - 1s 16ms/step - loss: 0.2728 - accuracy: 0.8886 - val_loss: 0.2589 - val_accuracy: 0.8949\n",
      "Epoch 19/20\n",
      "36/36 [==============================] - 1s 15ms/step - loss: 0.2676 - accuracy: 0.8917 - val_loss: 0.2553 - val_accuracy: 0.8957\n",
      "Epoch 20/20\n",
      "36/36 [==============================] - 1s 16ms/step - loss: 0.2638 - accuracy: 0.8940 - val_loss: 0.2530 - val_accuracy: 0.8982\n"
     ]
    }
   ],
   "source": [
    "# 모델 학습\n",
    "model.compile(optimizer='adam',\n",
    "              loss='binary_crossentropy',\n",
    "              metrics=['accuracy'])\n",
    "\n",
    "epochs=20\n",
    "\n",
    "history = model.fit(X_train,\n",
    "                    y_train,\n",
    "                    epochs=epochs,\n",
    "                    batch_size=4096,\n",
    "                    validation_data=(X_val, y_val),\n",
    "                    verbose=1)"
   ]
  },
  {
   "cell_type": "code",
   "execution_count": 62,
   "id": "7fbd7b2f",
   "metadata": {},
   "outputs": [
    {
     "name": "stdout",
     "output_type": "stream",
     "text": [
      "1537/1537 [==============================] - 4s 3ms/step - loss: 0.3585 - accuracy: 0.8508\n",
      "[0.3584861755371094, 0.8508452773094177]\n"
     ]
    }
   ],
   "source": [
    "# 모델 평가\n",
    "results = model.evaluate(X_test,  y_test, verbose=1)\n",
    "\n",
    "print(results)"
   ]
  },
  {
   "cell_type": "markdown",
   "id": "c101a95a",
   "metadata": {},
   "source": [
    "##### word2vec 구현"
   ]
  },
  {
   "cell_type": "code",
   "execution_count": 63,
   "id": "179d9ba2",
   "metadata": {},
   "outputs": [
    {
     "name": "stdout",
     "output_type": "stream",
     "text": [
      "(10000, 100)\n"
     ]
    }
   ],
   "source": [
    "embedding_layer = model.layers[0]\n",
    "weights = embedding_layer.get_weights()[0]\n",
    "print(weights.shape)    # shape: (vocab_size, embedding_dim)"
   ]
  },
  {
   "cell_type": "code",
   "execution_count": 64,
   "id": "1f6584a4",
   "metadata": {},
   "outputs": [],
   "source": [
    "# 학습한 Embedding 파라미터를 파일에 써서 저장합니다. \n",
    "word2vec_file_path = os.getenv('HOME')+'/aiffel/sentiment_classification/data/word2vec.txt'\n",
    "f = open(word2vec_file_path, 'w')\n",
    "f.write('{} {}\\n'.format(vocab_size-4, word_vector_dim))  # 몇개의 벡터를 얼마 사이즈로 기재할지 타이틀을 씁니다.\n",
    "\n",
    "# 단어 개수(에서 특수문자 4개는 제외하고)만큼의 워드 벡터를 파일에 기록합니다. \n",
    "vectors = model.get_weights()[0]\n",
    "for i in range(4,vocab_size):\n",
    "    f.write('{} {}\\n'.format(index_to_word[i], ' '.join(map(str, list(vectors[i, :])))))\n",
    "f.close()"
   ]
  },
  {
   "cell_type": "code",
   "execution_count": 65,
   "id": "e05762ad",
   "metadata": {},
   "outputs": [
    {
     "data": {
      "text/plain": [
       "array([-0.8732035 , -0.6200052 ,  0.5730036 , -1.0971154 , -0.9642829 ,\n",
       "        1.6290051 ,  0.28000382,  0.07054573, -0.73689073,  1.8276232 ,\n",
       "       -1.3672893 , -1.3410867 , -0.64245725,  1.2688937 ,  0.2848242 ,\n",
       "       -0.27395976, -0.37489203, -2.2008593 ,  1.1773772 , -1.9377723 ,\n",
       "        0.07642787,  1.5377319 ,  0.150067  , -0.38245618, -3.126486  ,\n",
       "       -0.99314475,  1.9036758 , -1.778221  ,  1.0178441 , -0.35148257,\n",
       "        0.8126627 ,  1.5914686 , -1.2447217 ,  0.62457275, -0.6441024 ,\n",
       "        0.16546239,  0.57875127,  1.8616219 , -1.5505749 ,  0.5345461 ,\n",
       "       -1.608079  ,  0.83572656,  0.78298074,  3.9145136 , -4.155671  ,\n",
       "       -0.38908827, -1.0595045 , -0.3404441 ,  0.03530154,  0.15723762,\n",
       "       -1.6840189 , -0.981824  ,  0.99426347, -1.0922589 ,  0.17088348,\n",
       "        1.97021   ,  0.1089145 ,  0.6964668 , -0.04642231, -0.48872444,\n",
       "        2.0366118 , -0.98746103, -1.5048808 , -1.2111241 , -1.586403  ,\n",
       "       -1.0199174 , -0.35867572,  1.4655308 , -1.9027317 , -0.65332067,\n",
       "        1.163157  ,  0.9943104 , -1.6455468 , -0.5046346 , -2.5349388 ,\n",
       "       -1.4884299 ,  0.97594976,  0.9253366 , -0.77837306, -2.5258431 ,\n",
       "        0.31726798, -0.66015416, -0.72621036,  0.5443295 ,  0.08573551,\n",
       "       -0.9476978 , -1.712542  , -1.0368516 ,  1.6360651 ,  0.69969416,\n",
       "       -0.47454652, -1.3825012 ,  2.5920157 ,  1.005976  , -0.5577804 ,\n",
       "        0.93749917,  0.21848032,  1.1155281 ,  1.2034367 , -0.0173189 ],\n",
       "      dtype=float32)"
      ]
     },
     "execution_count": 65,
     "metadata": {},
     "output_type": "execute_result"
    }
   ],
   "source": [
    "from gensim.models.keyedvectors import Word2VecKeyedVectors\n",
    "\n",
    "word_vectors = Word2VecKeyedVectors.load_word2vec_format(word2vec_file_path, binary=False)\n",
    "vector = word_vectors['별로']\n",
    "vector"
   ]
  },
  {
   "cell_type": "code",
   "execution_count": 66,
   "id": "04a67d85",
   "metadata": {
    "scrolled": true
   },
   "outputs": [
    {
     "data": {
      "text/plain": [
       "[('그다지', 0.6358930468559265),\n",
       " ('전혀', 0.625603437423706),\n",
       " ('딱히', 0.585667073726654),\n",
       " ('꽤', 0.5627541542053223),\n",
       " ('볼일', 0.5546982288360596),\n",
       " ('확실히', 0.5284441709518433),\n",
       " ('별', 0.5262816548347473),\n",
       " ('상당히', 0.5235708951950073),\n",
       " ('차이', 0.5186886787414551),\n",
       " ('다름', 0.5020627975463867)]"
      ]
     },
     "execution_count": 66,
     "metadata": {},
     "output_type": "execute_result"
    }
   ],
   "source": [
    "word_vectors.similar_by_word(\"별로\")"
   ]
  },
  {
   "cell_type": "markdown",
   "id": "da3bdd5a",
   "metadata": {},
   "source": [
    "## 회고"
   ]
  },
  {
   "attachments": {
    "image-7.png": {
     "image/png": "[encoded data removed]"
    }
   },
   "cell_type": "markdown",
   "id": "4d066019",
   "metadata": {},
   "source": [
    "![image-7.png](attachment:image-7.png)"
   ]
  },
  {
   "cell_type": "markdown",
   "id": "a177b6db",
   "metadata": {},
   "source": [
    "이번 프로젝트는 다양한 모델로 구현할 수 있게 사전에 설명이 충분했다고 느껴졌다. 성능 관련해서는 이제 기본 절차는 낯설지 않아서 원활하게 진행할 수 있었다. 역시 Accuracy가 낮을수록 similar_word_vector는 관련 없는 단어가 출력되었다. 반면에, 높을수록 단어도 연관이 있고 추정할 수 있는 단어들이어서 바로 확인할 수 있었다. 역시 나는 숫자상으로 표현될수록 확신을 두고 여러 가지 시도를 해보는 것 같다.\n",
    "아직 Word2vec 관련해서는 마스터하지 못했지만, 이론적으로는 어렵지 않았고 다른 공유 코드를 보면서 지식을 넓혀야겠다."
   ]
  },
  {
   "cell_type": "markdown",
   "id": "5596d572",
   "metadata": {},
   "source": [
    "https://ceuity.tistory.com/11"
   ]
  },
  {
   "cell_type": "markdown",
   "id": "10504990",
   "metadata": {},
   "source": [
    "https://www.unicode.org/charts/PDF/UAC00.pdf"
   ]
  },
  {
   "cell_type": "markdown",
   "id": "0a23a869",
   "metadata": {},
   "source": [
    "https://github.com/yenaryu/AI/blob/main/%5BE-06%5Dmovie%20reivew%20sentiment.ipynb"
   ]
  },
  {
   "cell_type": "markdown",
   "id": "0ab9a994",
   "metadata": {},
   "source": [
    "https://stats.stackexchange.com/questions/335793/what-is-difference-between-keras-embedding-layer-and-word2vec"
   ]
  }
 ],
 "metadata": {
  "kernelspec": {
   "display_name": "Python 3 (ipykernel)",
   "language": "python",
   "name": "python3"
  },
  "language_info": {
   "codemirror_mode": {
    "name": "ipython",
    "version": 3
   },
   "file_extension": ".py",
   "mimetype": "text/x-python",
   "name": "python",
   "nbconvert_exporter": "python",
   "pygments_lexer": "ipython3",
   "version": "3.9.7"
  }
 },
 "nbformat": 4,
 "nbformat_minor": 5
}
