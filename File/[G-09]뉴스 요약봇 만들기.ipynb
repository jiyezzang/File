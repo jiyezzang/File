{
 "cells": [
  {
   "cell_type": "markdown",
   "id": "d820f61c",
   "metadata": {},
   "source": [
    "### 1. 데이터 준비하기"
   ]
  },
  {
   "cell_type": "code",
   "execution_count": 1,
   "id": "8ca24db3",
   "metadata": {},
   "outputs": [
    {
     "name": "stderr",
     "output_type": "stream",
     "text": [
      "[nltk_data] Downloading package stopwords to /aiffel/nltk_data...\n",
      "[nltk_data]   Unzipping corpora/stopwords.zip.\n"
     ]
    },
    {
     "name": "stdout",
     "output_type": "stream",
     "text": [
      "--\n"
     ]
    }
   ],
   "source": [
    "import nltk\n",
    "nltk.download('stopwords')\n",
    "\n",
    "import numpy as np\n",
    "import pandas as pd\n",
    "import os\n",
    "import re\n",
    "import matplotlib.pyplot as plt\n",
    "from nltk.corpus import stopwords\n",
    "from bs4 import BeautifulSoup \n",
    "from tensorflow.keras.preprocessing.text import Tokenizer \n",
    "from tensorflow.keras.preprocessing.sequence import pad_sequences\n",
    "import urllib.request\n",
    "import warnings\n",
    "warnings.filterwarnings(\"ignore\", category=UserWarning, module='bs4')\n",
    "\n",
    "print('--')"
   ]
  },
  {
   "cell_type": "code",
   "execution_count": 2,
   "id": "5803299e",
   "metadata": {},
   "outputs": [
    {
     "name": "stdout",
     "output_type": "stream",
     "text": [
      "전체 샘플수 : 100000\n"
     ]
    }
   ],
   "source": [
    "data = pd.read_csv(os.getenv(\"HOME\")+\"/aiffel/news_summarization/data/Reviews.csv\", nrows=100000)\n",
    "print('전체 샘플수 :', (len(data)))"
   ]
  },
  {
   "cell_type": "code",
   "execution_count": 3,
   "id": "16c652ca",
   "metadata": {},
   "outputs": [
    {
     "data": {
      "text/html": [
       "<div>\n",
       "<style scoped>\n",
       "    .dataframe tbody tr th:only-of-type {\n",
       "        vertical-align: middle;\n",
       "    }\n",
       "\n",
       "    .dataframe tbody tr th {\n",
       "        vertical-align: top;\n",
       "    }\n",
       "\n",
       "    .dataframe thead th {\n",
       "        text-align: right;\n",
       "    }\n",
       "</style>\n",
       "<table border=\"1\" class=\"dataframe\">\n",
       "  <thead>\n",
       "    <tr style=\"text-align: right;\">\n",
       "      <th></th>\n",
       "      <th>Id</th>\n",
       "      <th>ProductId</th>\n",
       "      <th>UserId</th>\n",
       "      <th>ProfileName</th>\n",
       "      <th>HelpfulnessNumerator</th>\n",
       "      <th>HelpfulnessDenominator</th>\n",
       "      <th>Score</th>\n",
       "      <th>Time</th>\n",
       "      <th>Summary</th>\n",
       "      <th>Text</th>\n",
       "    </tr>\n",
       "  </thead>\n",
       "  <tbody>\n",
       "    <tr>\n",
       "      <th>0</th>\n",
       "      <td>1</td>\n",
       "      <td>B001E4KFG0</td>\n",
       "      <td>A3SGXH7AUHU8GW</td>\n",
       "      <td>delmartian</td>\n",
       "      <td>1</td>\n",
       "      <td>1</td>\n",
       "      <td>5</td>\n",
       "      <td>1303862400</td>\n",
       "      <td>Good Quality Dog Food</td>\n",
       "      <td>I have bought several of the Vitality canned d...</td>\n",
       "    </tr>\n",
       "    <tr>\n",
       "      <th>1</th>\n",
       "      <td>2</td>\n",
       "      <td>B00813GRG4</td>\n",
       "      <td>A1D87F6ZCVE5NK</td>\n",
       "      <td>dll pa</td>\n",
       "      <td>0</td>\n",
       "      <td>0</td>\n",
       "      <td>1</td>\n",
       "      <td>1346976000</td>\n",
       "      <td>Not as Advertised</td>\n",
       "      <td>Product arrived labeled as Jumbo Salted Peanut...</td>\n",
       "    </tr>\n",
       "    <tr>\n",
       "      <th>2</th>\n",
       "      <td>3</td>\n",
       "      <td>B000LQOCH0</td>\n",
       "      <td>ABXLMWJIXXAIN</td>\n",
       "      <td>Natalia Corres \"Natalia Corres\"</td>\n",
       "      <td>1</td>\n",
       "      <td>1</td>\n",
       "      <td>4</td>\n",
       "      <td>1219017600</td>\n",
       "      <td>\"Delight\" says it all</td>\n",
       "      <td>This is a confection that has been around a fe...</td>\n",
       "    </tr>\n",
       "    <tr>\n",
       "      <th>3</th>\n",
       "      <td>4</td>\n",
       "      <td>B000UA0QIQ</td>\n",
       "      <td>A395BORC6FGVXV</td>\n",
       "      <td>Karl</td>\n",
       "      <td>3</td>\n",
       "      <td>3</td>\n",
       "      <td>2</td>\n",
       "      <td>1307923200</td>\n",
       "      <td>Cough Medicine</td>\n",
       "      <td>If you are looking for the secret ingredient i...</td>\n",
       "    </tr>\n",
       "    <tr>\n",
       "      <th>4</th>\n",
       "      <td>5</td>\n",
       "      <td>B006K2ZZ7K</td>\n",
       "      <td>A1UQRSCLF8GW1T</td>\n",
       "      <td>Michael D. Bigham \"M. Wassir\"</td>\n",
       "      <td>0</td>\n",
       "      <td>0</td>\n",
       "      <td>5</td>\n",
       "      <td>1350777600</td>\n",
       "      <td>Great taffy</td>\n",
       "      <td>Great taffy at a great price.  There was a wid...</td>\n",
       "    </tr>\n",
       "  </tbody>\n",
       "</table>\n",
       "</div>"
      ],
      "text/plain": [
       "   Id   ProductId          UserId                      ProfileName  \\\n",
       "0   1  B001E4KFG0  A3SGXH7AUHU8GW                       delmartian   \n",
       "1   2  B00813GRG4  A1D87F6ZCVE5NK                           dll pa   \n",
       "2   3  B000LQOCH0   ABXLMWJIXXAIN  Natalia Corres \"Natalia Corres\"   \n",
       "3   4  B000UA0QIQ  A395BORC6FGVXV                             Karl   \n",
       "4   5  B006K2ZZ7K  A1UQRSCLF8GW1T    Michael D. Bigham \"M. Wassir\"   \n",
       "\n",
       "   HelpfulnessNumerator  HelpfulnessDenominator  Score        Time  \\\n",
       "0                     1                       1      5  1303862400   \n",
       "1                     0                       0      1  1346976000   \n",
       "2                     1                       1      4  1219017600   \n",
       "3                     3                       3      2  1307923200   \n",
       "4                     0                       0      5  1350777600   \n",
       "\n",
       "                 Summary                                               Text  \n",
       "0  Good Quality Dog Food  I have bought several of the Vitality canned d...  \n",
       "1      Not as Advertised  Product arrived labeled as Jumbo Salted Peanut...  \n",
       "2  \"Delight\" says it all  This is a confection that has been around a fe...  \n",
       "3         Cough Medicine  If you are looking for the secret ingredient i...  \n",
       "4            Great taffy  Great taffy at a great price.  There was a wid...  "
      ]
     },
     "execution_count": 3,
     "metadata": {},
     "output_type": "execute_result"
    }
   ],
   "source": [
    "data.head()"
   ]
  },
  {
   "cell_type": "code",
   "execution_count": 4,
   "id": "e9d2689a",
   "metadata": {},
   "outputs": [
    {
     "data": {
      "text/html": [
       "<div>\n",
       "<style scoped>\n",
       "    .dataframe tbody tr th:only-of-type {\n",
       "        vertical-align: middle;\n",
       "    }\n",
       "\n",
       "    .dataframe tbody tr th {\n",
       "        vertical-align: top;\n",
       "    }\n",
       "\n",
       "    .dataframe thead th {\n",
       "        text-align: right;\n",
       "    }\n",
       "</style>\n",
       "<table border=\"1\" class=\"dataframe\">\n",
       "  <thead>\n",
       "    <tr style=\"text-align: right;\">\n",
       "      <th></th>\n",
       "      <th>Text</th>\n",
       "      <th>Summary</th>\n",
       "    </tr>\n",
       "  </thead>\n",
       "  <tbody>\n",
       "    <tr>\n",
       "      <th>97546</th>\n",
       "      <td>I have bought this since it came out. This bat...</td>\n",
       "      <td>Disappointing</td>\n",
       "    </tr>\n",
       "    <tr>\n",
       "      <th>53877</th>\n",
       "      <td>I love this dark chocolate from Ghirardelli.  ...</td>\n",
       "      <td>I'm in Love</td>\n",
       "    </tr>\n",
       "    <tr>\n",
       "      <th>1550</th>\n",
       "      <td>I liked this so much that I re-ordered and wil...</td>\n",
       "      <td>Quick, Yummy, Unusual Soup</td>\n",
       "    </tr>\n",
       "    <tr>\n",
       "      <th>9509</th>\n",
       "      <td>This jam has little fruit taste. If you love d...</td>\n",
       "      <td>Just OK</td>\n",
       "    </tr>\n",
       "    <tr>\n",
       "      <th>47613</th>\n",
       "      <td>In the spring and summer this grass grows with...</td>\n",
       "      <td>My Cats Adore This Grass</td>\n",
       "    </tr>\n",
       "    <tr>\n",
       "      <th>88677</th>\n",
       "      <td>This tea is easily one of the best in Davidson...</td>\n",
       "      <td>A truly spectacular tea</td>\n",
       "    </tr>\n",
       "    <tr>\n",
       "      <th>86622</th>\n",
       "      <td>I got hooked on these babies when I was statio...</td>\n",
       "      <td>Great Shrimp Chips</td>\n",
       "    </tr>\n",
       "    <tr>\n",
       "      <th>42109</th>\n",
       "      <td>At long last, an option for writing on melting...</td>\n",
       "      <td>Finally - I can write on chocolate!</td>\n",
       "    </tr>\n",
       "    <tr>\n",
       "      <th>8223</th>\n",
       "      <td>I was reminded of my mother's cat when I read ...</td>\n",
       "      <td>These are Fabulous!</td>\n",
       "    </tr>\n",
       "    <tr>\n",
       "      <th>59903</th>\n",
       "      <td>When I ordered this product, I was too lazy to...</td>\n",
       "      <td>Amazing customer service</td>\n",
       "    </tr>\n",
       "    <tr>\n",
       "      <th>71311</th>\n",
       "      <td>This a an effective moisturizer that left my n...</td>\n",
       "      <td>Moisturizes without weighing down</td>\n",
       "    </tr>\n",
       "    <tr>\n",
       "      <th>54897</th>\n",
       "      <td>OMG!  My husband has Celiac Disease and we hav...</td>\n",
       "      <td>Jayjayreviewer</td>\n",
       "    </tr>\n",
       "    <tr>\n",
       "      <th>69579</th>\n",
       "      <td>I was introduced to Stash a few years ago when...</td>\n",
       "      <td>A Favorite Morning Beverage</td>\n",
       "    </tr>\n",
       "    <tr>\n",
       "      <th>2419</th>\n",
       "      <td>If you're a fan of full-bodied coffees, give t...</td>\n",
       "      <td>Best K-Cup to Date</td>\n",
       "    </tr>\n",
       "    <tr>\n",
       "      <th>70975</th>\n",
       "      <td>I live near Seattle and have drunk \"Pike's Pla...</td>\n",
       "      <td>OK, but not great</td>\n",
       "    </tr>\n",
       "  </tbody>\n",
       "</table>\n",
       "</div>"
      ],
      "text/plain": [
       "                                                    Text  \\\n",
       "97546  I have bought this since it came out. This bat...   \n",
       "53877  I love this dark chocolate from Ghirardelli.  ...   \n",
       "1550   I liked this so much that I re-ordered and wil...   \n",
       "9509   This jam has little fruit taste. If you love d...   \n",
       "47613  In the spring and summer this grass grows with...   \n",
       "88677  This tea is easily one of the best in Davidson...   \n",
       "86622  I got hooked on these babies when I was statio...   \n",
       "42109  At long last, an option for writing on melting...   \n",
       "8223   I was reminded of my mother's cat when I read ...   \n",
       "59903  When I ordered this product, I was too lazy to...   \n",
       "71311  This a an effective moisturizer that left my n...   \n",
       "54897  OMG!  My husband has Celiac Disease and we hav...   \n",
       "69579  I was introduced to Stash a few years ago when...   \n",
       "2419   If you're a fan of full-bodied coffees, give t...   \n",
       "70975  I live near Seattle and have drunk \"Pike's Pla...   \n",
       "\n",
       "                                   Summary  \n",
       "97546                        Disappointing  \n",
       "53877                          I'm in Love  \n",
       "1550            Quick, Yummy, Unusual Soup  \n",
       "9509                               Just OK  \n",
       "47613             My Cats Adore This Grass  \n",
       "88677              A truly spectacular tea  \n",
       "86622                   Great Shrimp Chips  \n",
       "42109  Finally - I can write on chocolate!  \n",
       "8223                   These are Fabulous!  \n",
       "59903             Amazing customer service  \n",
       "71311    Moisturizes without weighing down  \n",
       "54897                       Jayjayreviewer  \n",
       "69579          A Favorite Morning Beverage  \n",
       "2419                    Best K-Cup to Date  \n",
       "70975                    OK, but not great  "
      ]
     },
     "execution_count": 4,
     "metadata": {},
     "output_type": "execute_result"
    }
   ],
   "source": [
    "data = data[['Text','Summary']]\n",
    "data.head()\n",
    "\n",
    "#랜덤한 15개 샘플 출력\n",
    "data.sample(15)"
   ]
  },
  {
   "cell_type": "markdown",
   "id": "59d31eb4",
   "metadata": {},
   "source": [
    "### 2.데이터 전처리하기 (1) 데이터 정리하기"
   ]
  },
  {
   "cell_type": "markdown",
   "id": "a34ba5b2",
   "metadata": {},
   "source": [
    "#### 중복 샘플과 NULL 값이 존재하는 샘플 제거"
   ]
  },
  {
   "cell_type": "code",
   "execution_count": 5,
   "id": "994c2411",
   "metadata": {},
   "outputs": [
    {
     "name": "stdout",
     "output_type": "stream",
     "text": [
      "Text 열에서 중복을 배제한 유일한 샘플의 수 : 88426\n",
      "Summary 열에서 중복을 배제한 유일한 샘플의 수 : 72348\n"
     ]
    }
   ],
   "source": [
    "print('Text 열에서 중복을 배제한 유일한 샘플의 수 :', data['Text'].nunique())\n",
    "print('Summary 열에서 중복을 배제한 유일한 샘플의 수 :', data['Summary'].nunique())"
   ]
  },
  {
   "cell_type": "code",
   "execution_count": 6,
   "id": "bc841ac7",
   "metadata": {},
   "outputs": [
    {
     "name": "stdout",
     "output_type": "stream",
     "text": [
      "전체 샘플수 : 88426\n"
     ]
    }
   ],
   "source": [
    "# inplace=True 를 설정하면 DataFrame 타입 값을 return 하지 않고 data 내부를 직접적으로 바꿉니다\n",
    "data.drop_duplicates(subset = ['Text'], inplace=True)\n",
    "print('전체 샘플수 :', (len(data)))"
   ]
  },
  {
   "cell_type": "code",
   "execution_count": 7,
   "id": "8c061f97",
   "metadata": {},
   "outputs": [
    {
     "name": "stdout",
     "output_type": "stream",
     "text": [
      "Text       0\n",
      "Summary    1\n",
      "dtype: int64\n"
     ]
    }
   ],
   "source": [
    "print(data.isnull().sum())"
   ]
  },
  {
   "cell_type": "code",
   "execution_count": 8,
   "id": "d1e6e7c1",
   "metadata": {},
   "outputs": [
    {
     "name": "stdout",
     "output_type": "stream",
     "text": [
      "전체 샘플수 : 88425\n"
     ]
    }
   ],
   "source": [
    "data.dropna(axis=0, inplace=True)\n",
    "print('전체 샘플수 :', (len(data)))"
   ]
  },
  {
   "cell_type": "markdown",
   "id": "c4f0b80c",
   "metadata": {},
   "source": [
    "#### 텍스트 정규화와 불용어 제거"
   ]
  },
  {
   "cell_type": "code",
   "execution_count": 9,
   "id": "6483448f",
   "metadata": {},
   "outputs": [
    {
     "name": "stdout",
     "output_type": "stream",
     "text": [
      "정규화 사전의 수:  120\n"
     ]
    }
   ],
   "source": [
    "contractions = {\"ain't\": \"is not\", \"aren't\": \"are not\",\"can't\": \"cannot\", \"'cause\": \"because\", \"could've\": \"could have\", \"couldn't\": \"could not\",\n",
    "                           \"didn't\": \"did not\",  \"doesn't\": \"does not\", \"don't\": \"do not\", \"hadn't\": \"had not\", \"hasn't\": \"has not\", \"haven't\": \"have not\",\n",
    "                           \"he'd\": \"he would\",\"he'll\": \"he will\", \"he's\": \"he is\", \"how'd\": \"how did\", \"how'd'y\": \"how do you\", \"how'll\": \"how will\", \"how's\": \"how is\",\n",
    "                           \"I'd\": \"I would\", \"I'd've\": \"I would have\", \"I'll\": \"I will\", \"I'll've\": \"I will have\",\"I'm\": \"I am\", \"I've\": \"I have\", \"i'd\": \"i would\",\n",
    "                           \"i'd've\": \"i would have\", \"i'll\": \"i will\",  \"i'll've\": \"i will have\",\"i'm\": \"i am\", \"i've\": \"i have\", \"isn't\": \"is not\", \"it'd\": \"it would\",\n",
    "                           \"it'd've\": \"it would have\", \"it'll\": \"it will\", \"it'll've\": \"it will have\",\"it's\": \"it is\", \"let's\": \"let us\", \"ma'am\": \"madam\",\n",
    "                           \"mayn't\": \"may not\", \"might've\": \"might have\",\"mightn't\": \"might not\",\"mightn't've\": \"might not have\", \"must've\": \"must have\",\n",
    "                           \"mustn't\": \"must not\", \"mustn't've\": \"must not have\", \"needn't\": \"need not\", \"needn't've\": \"need not have\",\"o'clock\": \"of the clock\",\n",
    "                           \"oughtn't\": \"ought not\", \"oughtn't've\": \"ought not have\", \"shan't\": \"shall not\", \"sha'n't\": \"shall not\", \"shan't've\": \"shall not have\",\n",
    "                           \"she'd\": \"she would\", \"she'd've\": \"she would have\", \"she'll\": \"she will\", \"she'll've\": \"she will have\", \"she's\": \"she is\",\n",
    "                           \"should've\": \"should have\", \"shouldn't\": \"should not\", \"shouldn't've\": \"should not have\", \"so've\": \"so have\",\"so's\": \"so as\",\n",
    "                           \"this's\": \"this is\",\"that'd\": \"that would\", \"that'd've\": \"that would have\", \"that's\": \"that is\", \"there'd\": \"there would\",\n",
    "                           \"there'd've\": \"there would have\", \"there's\": \"there is\", \"here's\": \"here is\",\"they'd\": \"they would\", \"they'd've\": \"they would have\",\n",
    "                           \"they'll\": \"they will\", \"they'll've\": \"they will have\", \"they're\": \"they are\", \"they've\": \"they have\", \"to've\": \"to have\",\n",
    "                           \"wasn't\": \"was not\", \"we'd\": \"we would\", \"we'd've\": \"we would have\", \"we'll\": \"we will\", \"we'll've\": \"we will have\", \"we're\": \"we are\",\n",
    "                           \"we've\": \"we have\", \"weren't\": \"were not\", \"what'll\": \"what will\", \"what'll've\": \"what will have\", \"what're\": \"what are\",\n",
    "                           \"what's\": \"what is\", \"what've\": \"what have\", \"when's\": \"when is\", \"when've\": \"when have\", \"where'd\": \"where did\", \"where's\": \"where is\",\n",
    "                           \"where've\": \"where have\", \"who'll\": \"who will\", \"who'll've\": \"who will have\", \"who's\": \"who is\", \"who've\": \"who have\",\n",
    "                           \"why's\": \"why is\", \"why've\": \"why have\", \"will've\": \"will have\", \"won't\": \"will not\", \"won't've\": \"will not have\",\n",
    "                           \"would've\": \"would have\", \"wouldn't\": \"would not\", \"wouldn't've\": \"would not have\", \"y'all\": \"you all\",\n",
    "                           \"y'all'd\": \"you all would\",\"y'all'd've\": \"you all would have\",\"y'all're\": \"you all are\",\"y'all've\": \"you all have\",\n",
    "                           \"you'd\": \"you would\", \"you'd've\": \"you would have\", \"you'll\": \"you will\", \"you'll've\": \"you will have\",\n",
    "                           \"you're\": \"you are\", \"you've\": \"you have\"}\n",
    "\n",
    "print(\"정규화 사전의 수: \", len(contractions))"
   ]
  },
  {
   "cell_type": "code",
   "execution_count": 10,
   "id": "11f7fe38",
   "metadata": {},
   "outputs": [
    {
     "name": "stdout",
     "output_type": "stream",
     "text": [
      "불용어 개수 : 179\n",
      "['i', 'me', 'my', 'myself', 'we', 'our', 'ours', 'ourselves', 'you', \"you're\", \"you've\", \"you'll\", \"you'd\", 'your', 'yours', 'yourself', 'yourselves', 'he', 'him', 'his', 'himself', 'she', \"she's\", 'her', 'hers', 'herself', 'it', \"it's\", 'its', 'itself', 'they', 'them', 'their', 'theirs', 'themselves', 'what', 'which', 'who', 'whom', 'this', 'that', \"that'll\", 'these', 'those', 'am', 'is', 'are', 'was', 'were', 'be', 'been', 'being', 'have', 'has', 'had', 'having', 'do', 'does', 'did', 'doing', 'a', 'an', 'the', 'and', 'but', 'if', 'or', 'because', 'as', 'until', 'while', 'of', 'at', 'by', 'for', 'with', 'about', 'against', 'between', 'into', 'through', 'during', 'before', 'after', 'above', 'below', 'to', 'from', 'up', 'down', 'in', 'out', 'on', 'off', 'over', 'under', 'again', 'further', 'then', 'once', 'here', 'there', 'when', 'where', 'why', 'how', 'all', 'any', 'both', 'each', 'few', 'more', 'most', 'other', 'some', 'such', 'no', 'nor', 'not', 'only', 'own', 'same', 'so', 'than', 'too', 'very', 's', 't', 'can', 'will', 'just', 'don', \"don't\", 'should', \"should've\", 'now', 'd', 'll', 'm', 'o', 're', 've', 'y', 'ain', 'aren', \"aren't\", 'couldn', \"couldn't\", 'didn', \"didn't\", 'doesn', \"doesn't\", 'hadn', \"hadn't\", 'hasn', \"hasn't\", 'haven', \"haven't\", 'isn', \"isn't\", 'ma', 'mightn', \"mightn't\", 'mustn', \"mustn't\", 'needn', \"needn't\", 'shan', \"shan't\", 'shouldn', \"shouldn't\", 'wasn', \"wasn't\", 'weren', \"weren't\", 'won', \"won't\", 'wouldn', \"wouldn't\"]\n"
     ]
    }
   ],
   "source": [
    "print('불용어 개수 :', len(stopwords.words('english') ))\n",
    "print(stopwords.words('english'))"
   ]
  },
  {
   "cell_type": "code",
   "execution_count": 11,
   "id": "e1e1adc3",
   "metadata": {},
   "outputs": [
    {
     "name": "stdout",
     "output_type": "stream",
     "text": [
      "--\n"
     ]
    }
   ],
   "source": [
    "# 데이터 전처리 함수\n",
    "def preprocess_sentence(sentence, remove_stopwords=True):\n",
    "    sentence = sentence.lower() # 텍스트 소문자화\n",
    "    sentence = BeautifulSoup(sentence, \"lxml\").text # <br />, <a href = ...> 등의 html 태그 제거\n",
    "    sentence = re.sub(r'\\([^)]*\\)', '', sentence) # 괄호로 닫힌 문자열 (...) 제거 Ex) my husband (and myself!) for => my husband for\n",
    "    sentence = re.sub('\"','', sentence) # 쌍따옴표 \" 제거\n",
    "    sentence = ' '.join([contractions[t] if t in contractions else t for t in sentence.split(\" \")]) # 약어 정규화\n",
    "    sentence = re.sub(r\"'s\\b\",\"\", sentence) # 소유격 제거. Ex) roland's -> roland\n",
    "    sentence = re.sub(\"[^a-zA-Z]\", \" \", sentence) # 영어 외 문자(숫자, 특수문자 등) 공백으로 변환\n",
    "    sentence = re.sub('[m]{2,}', 'mm', sentence) # m이 3개 이상이면 2개로 변경. Ex) ummmmmmm yeah -> umm yeah\n",
    "    \n",
    "    # 불용어 제거 (Text)\n",
    "    if remove_stopwords:\n",
    "        tokens = ' '.join(word for word in sentence.split() if not word in stopwords.words('english') if len(word) > 1)\n",
    "    # 불용어 미제거 (Summary)\n",
    "    else:\n",
    "        tokens = ' '.join(word for word in sentence.split() if len(word) > 1)\n",
    "    return tokens\n",
    "print('--')"
   ]
  },
  {
   "cell_type": "markdown",
   "id": "6b025aa4",
   "metadata": {},
   "source": [
    "전처리 전, 후의 결과를 확인하기 위해서 임의의 text와 summary를 만들어 함수를 호출해 볼까요"
   ]
  },
  {
   "cell_type": "code",
   "execution_count": 12,
   "id": "17ce4fd2",
   "metadata": {},
   "outputs": [
    {
     "name": "stdout",
     "output_type": "stream",
     "text": [
      "text:  everything bought great infact ordered twice third ordered wasfor mother father\n",
      "summary: great way to start the day\n"
     ]
    }
   ],
   "source": [
    "temp_text = 'Everything I bought was great, infact I ordered twice and the third ordered was<br />for my mother and father.'\n",
    "temp_summary = 'Great way to start (or finish) the day!!!'\n",
    "\n",
    "print(\"text: \", preprocess_sentence(temp_text))\n",
    "print(\"summary:\", preprocess_sentence(temp_summary, False))  # 불용어를 제거하지 않습니다."
   ]
  },
  {
   "cell_type": "code",
   "execution_count": 13,
   "id": "552feb96",
   "metadata": {},
   "outputs": [
    {
     "name": "stdout",
     "output_type": "stream",
     "text": [
      "Text 전처리 후 결과:  ['bought several vitality canned dog food products found good quality product looks like stew processed meat smells better labrador finicky appreciates product better', 'product arrived labeled jumbo salted peanuts peanuts actually small sized unsalted sure error vendor intended represent product jumbo', 'confection around centuries light pillowy citrus gelatin nuts case filberts cut tiny squares liberally coated powdered sugar tiny mouthful heaven chewy flavorful highly recommend yummy treat familiar story lewis lion witch wardrobe treat seduces edmund selling brother sisters witch', 'looking secret ingredient robitussin believe found got addition root beer extract ordered made cherry soda flavor medicinal', 'great taffy great price wide assortment yummy taffy delivery quick taffy lover deal']\n"
     ]
    }
   ],
   "source": [
    "clean_text = []\n",
    "# 전체 Text 데이터에 대한 전처리 : 10분 이상 시간이 걸릴 수 있습니다. \n",
    "for s in data['Text']:\n",
    "    clean_text.append(preprocess_sentence(s))\n",
    "\n",
    "# 전처리 후 출력\n",
    "print(\"Text 전처리 후 결과: \", clean_text[:5])"
   ]
  },
  {
   "cell_type": "code",
   "execution_count": 14,
   "id": "78e39c0b",
   "metadata": {},
   "outputs": [
    {
     "name": "stdout",
     "output_type": "stream",
     "text": [
      "Summary 전처리 후 결과:  ['good quality dog food', 'not as advertised', 'delight says it all', 'cough medicine', 'great taffy']\n"
     ]
    }
   ],
   "source": [
    "clean_summary = []\n",
    "# 전체 Summary 데이터에 대한 전처리 : 5분 이상 시간이 걸릴 수 있습니다. \n",
    "for s in data['Summary']:\n",
    "    clean_summary.append(preprocess_sentence(s, False))\n",
    "\n",
    "print(\"Summary 전처리 후 결과: \", clean_summary[:5])"
   ]
  },
  {
   "cell_type": "markdown",
   "id": "ec42d8a4",
   "metadata": {},
   "source": [
    "이렇게 텍스트 정제의 과정을 거친 후에는 다시 한번 빈(empty) 샘플이 생겼는지 확인해보는 것이 좋아요. "
   ]
  },
  {
   "cell_type": "code",
   "execution_count": 15,
   "id": "9c3fb1d7",
   "metadata": {},
   "outputs": [
    {
     "name": "stdout",
     "output_type": "stream",
     "text": [
      "--\n"
     ]
    }
   ],
   "source": [
    "data['Text'] = clean_text\n",
    "data['Summary'] = clean_summary\n",
    "\n",
    "# 빈 값을 Null 값으로 변환\n",
    "data.replace('', np.nan, inplace=True)\n",
    "print('--')"
   ]
  },
  {
   "cell_type": "code",
   "execution_count": 16,
   "id": "b4b56990",
   "metadata": {},
   "outputs": [
    {
     "data": {
      "text/plain": [
       "Text        0\n",
       "Summary    70\n",
       "dtype: int64"
      ]
     },
     "execution_count": 16,
     "metadata": {},
     "output_type": "execute_result"
    }
   ],
   "source": [
    "data.isnull().sum()"
   ]
  },
  {
   "cell_type": "code",
   "execution_count": 17,
   "id": "fb14bfd8",
   "metadata": {},
   "outputs": [
    {
     "name": "stdout",
     "output_type": "stream",
     "text": [
      "전체 샘플수 : 88355\n"
     ]
    }
   ],
   "source": [
    "data.dropna(axis=0, inplace=True)\n",
    "print('전체 샘플수 :', (len(data)))"
   ]
  },
  {
   "cell_type": "markdown",
   "id": "d0c1ff34",
   "metadata": {},
   "source": [
    "### 3.데이터 전처리하기 (2) 훈련데이터와 테스트데이터 나누기"
   ]
  },
  {
   "cell_type": "markdown",
   "id": "1887b505",
   "metadata": {},
   "source": [
    "#### 샘플의 최대 길이 정하기"
   ]
  },
  {
   "cell_type": "code",
   "execution_count": 18,
   "id": "0f4c4f63",
   "metadata": {},
   "outputs": [
    {
     "name": "stdout",
     "output_type": "stream",
     "text": [
      "텍스트의 최소 길이 : 2\n",
      "텍스트의 최대 길이 : 1235\n",
      "텍스트의 평균 길이 : 38.792428272310566\n",
      "요약의 최소 길이 : 1\n",
      "요약의 최대 길이 : 28\n",
      "요약의 평균 길이 : 4.010729443721352\n"
     ]
    },
    {
     "data": {
      "image/png": "[encoded data removed]",
      "text/plain": [
       "<Figure size 432x288 with 2 Axes>"
      ]
     },
     "metadata": {
      "needs_background": "light"
     },
     "output_type": "display_data"
    },
    {
     "data": {
      "image/png": "[encoded data removed]",
      "text/plain": [
       "<Figure size 432x288 with 1 Axes>"
      ]
     },
     "metadata": {
      "needs_background": "light"
     },
     "output_type": "display_data"
    },
    {
     "data": {
      "image/png": "[encoded data removed]",
      "text/plain": [
       "<Figure size 432x288 with 1 Axes>"
      ]
     },
     "metadata": {
      "needs_background": "light"
     },
     "output_type": "display_data"
    }
   ],
   "source": [
    "# 길이 분포 출력\n",
    "import matplotlib.pyplot as plt\n",
    "\n",
    "text_len = [len(s.split()) for s in data['Text']]\n",
    "summary_len = [len(s.split()) for s in data['Summary']]\n",
    "\n",
    "print('텍스트의 최소 길이 : {}'.format(np.min(text_len)))\n",
    "print('텍스트의 최대 길이 : {}'.format(np.max(text_len)))\n",
    "print('텍스트의 평균 길이 : {}'.format(np.mean(text_len)))\n",
    "print('요약의 최소 길이 : {}'.format(np.min(summary_len)))\n",
    "print('요약의 최대 길이 : {}'.format(np.max(summary_len)))\n",
    "print('요약의 평균 길이 : {}'.format(np.mean(summary_len)))\n",
    "\n",
    "plt.subplot(1,2,1)\n",
    "plt.boxplot(text_len)\n",
    "plt.title('Text')\n",
    "plt.subplot(1,2,2)\n",
    "plt.boxplot(summary_len)\n",
    "plt.title('Summary')\n",
    "plt.tight_layout()\n",
    "plt.show()\n",
    "\n",
    "plt.title('Text')\n",
    "plt.hist(text_len, bins = 40)\n",
    "plt.xlabel('length of samples')\n",
    "plt.ylabel('number of samples')\n",
    "plt.show()\n",
    "\n",
    "plt.title('Summary')\n",
    "plt.hist(summary_len, bins = 40)\n",
    "plt.xlabel('length of samples')\n",
    "plt.ylabel('number of samples')\n",
    "plt.show()"
   ]
  },
  {
   "cell_type": "code",
   "execution_count": 19,
   "id": "1c468708",
   "metadata": {},
   "outputs": [
    {
     "name": "stdout",
     "output_type": "stream",
     "text": [
      "--\n"
     ]
    }
   ],
   "source": [
    "# Text의 최대 길이와 Summary의 적절한 최대 길이를 임의로 정해보자\n",
    "text_max_len = 50\n",
    "summary_max_len = 8\n",
    "print('--')"
   ]
  },
  {
   "cell_type": "code",
   "execution_count": 20,
   "id": "4f402b4b",
   "metadata": {},
   "outputs": [
    {
     "name": "stdout",
     "output_type": "stream",
     "text": [
      "--\n"
     ]
    }
   ],
   "source": [
    "def below_threshold_len(max_len, nested_list):\n",
    "  cnt = 0\n",
    "  for s in nested_list:\n",
    "    if(len(s.split()) <= max_len):\n",
    "        cnt = cnt + 1\n",
    "  print('전체 샘플 중 길이가 %s 이하인 샘플의 비율: %s'%(max_len, (cnt / len(nested_list))))\n",
    "print('--')"
   ]
  },
  {
   "cell_type": "code",
   "execution_count": 21,
   "id": "8d42b7ff",
   "metadata": {},
   "outputs": [
    {
     "name": "stdout",
     "output_type": "stream",
     "text": [
      "전체 샘플 중 길이가 50 이하인 샘플의 비율: 0.7745119121724859\n",
      "전체 샘플 중 길이가 8 이하인 샘플의 비율: 0.9424593967517402\n"
     ]
    }
   ],
   "source": [
    "below_threshold_len(text_max_len, data['Text'])\n",
    "below_threshold_len(summary_max_len,  data['Summary'])"
   ]
  },
  {
   "cell_type": "code",
   "execution_count": 22,
   "id": "07062059",
   "metadata": {},
   "outputs": [
    {
     "name": "stdout",
     "output_type": "stream",
     "text": [
      "전체 샘플수 : 65818\n"
     ]
    }
   ],
   "source": [
    "data = data[data['Text'].apply(lambda x: len(x.split()) <= text_max_len)]\n",
    "data = data[data['Summary'].apply(lambda x: len(x.split()) <= summary_max_len)]\n",
    "print('전체 샘플수 :', (len(data)))"
   ]
  },
  {
   "cell_type": "markdown",
   "id": "9ac8fca2",
   "metadata": {},
   "source": [
    "#### 시작 토큰과 종료 토큰 추가하기"
   ]
  },
  {
   "cell_type": "code",
   "execution_count": 23,
   "id": "4ae39cac",
   "metadata": {},
   "outputs": [
    {
     "data": {
      "text/html": [
       "<div>\n",
       "<style scoped>\n",
       "    .dataframe tbody tr th:only-of-type {\n",
       "        vertical-align: middle;\n",
       "    }\n",
       "\n",
       "    .dataframe tbody tr th {\n",
       "        vertical-align: top;\n",
       "    }\n",
       "\n",
       "    .dataframe thead th {\n",
       "        text-align: right;\n",
       "    }\n",
       "</style>\n",
       "<table border=\"1\" class=\"dataframe\">\n",
       "  <thead>\n",
       "    <tr style=\"text-align: right;\">\n",
       "      <th></th>\n",
       "      <th>Text</th>\n",
       "      <th>Summary</th>\n",
       "      <th>decoder_input</th>\n",
       "      <th>decoder_target</th>\n",
       "    </tr>\n",
       "  </thead>\n",
       "  <tbody>\n",
       "    <tr>\n",
       "      <th>0</th>\n",
       "      <td>bought several vitality canned dog food produc...</td>\n",
       "      <td>good quality dog food</td>\n",
       "      <td>sostoken good quality dog food</td>\n",
       "      <td>good quality dog food eostoken</td>\n",
       "    </tr>\n",
       "    <tr>\n",
       "      <th>1</th>\n",
       "      <td>product arrived labeled jumbo salted peanuts p...</td>\n",
       "      <td>not as advertised</td>\n",
       "      <td>sostoken not as advertised</td>\n",
       "      <td>not as advertised eostoken</td>\n",
       "    </tr>\n",
       "    <tr>\n",
       "      <th>2</th>\n",
       "      <td>confection around centuries light pillowy citr...</td>\n",
       "      <td>delight says it all</td>\n",
       "      <td>sostoken delight says it all</td>\n",
       "      <td>delight says it all eostoken</td>\n",
       "    </tr>\n",
       "    <tr>\n",
       "      <th>3</th>\n",
       "      <td>looking secret ingredient robitussin believe f...</td>\n",
       "      <td>cough medicine</td>\n",
       "      <td>sostoken cough medicine</td>\n",
       "      <td>cough medicine eostoken</td>\n",
       "    </tr>\n",
       "    <tr>\n",
       "      <th>4</th>\n",
       "      <td>great taffy great price wide assortment yummy ...</td>\n",
       "      <td>great taffy</td>\n",
       "      <td>sostoken great taffy</td>\n",
       "      <td>great taffy eostoken</td>\n",
       "    </tr>\n",
       "  </tbody>\n",
       "</table>\n",
       "</div>"
      ],
      "text/plain": [
       "                                                Text                Summary  \\\n",
       "0  bought several vitality canned dog food produc...  good quality dog food   \n",
       "1  product arrived labeled jumbo salted peanuts p...      not as advertised   \n",
       "2  confection around centuries light pillowy citr...    delight says it all   \n",
       "3  looking secret ingredient robitussin believe f...         cough medicine   \n",
       "4  great taffy great price wide assortment yummy ...            great taffy   \n",
       "\n",
       "                    decoder_input                  decoder_target  \n",
       "0  sostoken good quality dog food  good quality dog food eostoken  \n",
       "1      sostoken not as advertised      not as advertised eostoken  \n",
       "2    sostoken delight says it all    delight says it all eostoken  \n",
       "3         sostoken cough medicine         cough medicine eostoken  \n",
       "4            sostoken great taffy            great taffy eostoken  "
      ]
     },
     "execution_count": 23,
     "metadata": {},
     "output_type": "execute_result"
    }
   ],
   "source": [
    "# 요약 데이터에는 시작 토큰과 종료 토큰을 추가한다.\n",
    "data['decoder_input'] = data['Summary'].apply(lambda x : 'sostoken '+ x)\n",
    "data['decoder_target'] = data['Summary'].apply(lambda x : x + ' eostoken')\n",
    "data.head()"
   ]
  },
  {
   "cell_type": "code",
   "execution_count": 24,
   "id": "cb6037fe",
   "metadata": {},
   "outputs": [
    {
     "name": "stdout",
     "output_type": "stream",
     "text": [
      "--\n"
     ]
    }
   ],
   "source": [
    "# 인코더의 입력, 디코더의 입력과 레이블을 각각 다시 Numpy 타입으로 저장\n",
    "encoder_input = np.array(data['Text']) # 인코더의 입력\n",
    "decoder_input = np.array(data['decoder_input']) # 디코더의 입력\n",
    "decoder_target = np.array(data['decoder_target']) # 디코더의 레이블\n",
    "print('--')"
   ]
  },
  {
   "cell_type": "code",
   "execution_count": 25,
   "id": "ac9e273b",
   "metadata": {},
   "outputs": [
    {
     "name": "stdout",
     "output_type": "stream",
     "text": [
      "[60545 32190 46133 ... 59215 21039 58228]\n"
     ]
    }
   ],
   "source": [
    "indices = np.arange(encoder_input.shape[0])\n",
    "np.random.shuffle(indices)\n",
    "print(indices)"
   ]
  },
  {
   "cell_type": "code",
   "execution_count": 26,
   "id": "9ef930c4",
   "metadata": {},
   "outputs": [
    {
     "name": "stdout",
     "output_type": "stream",
     "text": [
      "--\n"
     ]
    }
   ],
   "source": [
    "# 정수 시퀀스를 이용해 다시 데이터의 샘플 순서를 정의해 주면 잘 섞인 샘플이 되겠죠.\n",
    "encoder_input = encoder_input[indices]\n",
    "decoder_input = decoder_input[indices]\n",
    "decoder_target = decoder_target[indices]\n",
    "print('--')"
   ]
  },
  {
   "cell_type": "code",
   "execution_count": 27,
   "id": "be7c834c",
   "metadata": {},
   "outputs": [
    {
     "name": "stdout",
     "output_type": "stream",
     "text": [
      "테스트 데이터의 수 : 13163\n"
     ]
    }
   ],
   "source": [
    "# 이제 섞인 데이터를 8:2의 비율로 훈련 데이터와 테스트 데이터로 분리하기\n",
    "n_of_val = int(len(encoder_input)*0.2)\n",
    "print('테스트 데이터의 수 :', n_of_val)"
   ]
  },
  {
   "cell_type": "code",
   "execution_count": 28,
   "id": "9453e753",
   "metadata": {},
   "outputs": [
    {
     "name": "stdout",
     "output_type": "stream",
     "text": [
      "훈련 데이터의 개수 : 52655\n",
      "훈련 레이블의 개수 : 52655\n",
      "테스트 데이터의 개수 : 13163\n",
      "테스트 레이블의 개수 : 13163\n"
     ]
    }
   ],
   "source": [
    "encoder_input_train = encoder_input[:-n_of_val]\n",
    "decoder_input_train = decoder_input[:-n_of_val]\n",
    "decoder_target_train = decoder_target[:-n_of_val]\n",
    "\n",
    "encoder_input_test = encoder_input[-n_of_val:]\n",
    "decoder_input_test = decoder_input[-n_of_val:]\n",
    "decoder_target_test = decoder_target[-n_of_val:]\n",
    "\n",
    "print('훈련 데이터의 개수 :', len(encoder_input_train))\n",
    "print('훈련 레이블의 개수 :', len(decoder_input_train))\n",
    "print('테스트 데이터의 개수 :', len(encoder_input_test))\n",
    "print('테스트 레이블의 개수 :', len(decoder_input_test))"
   ]
  },
  {
   "cell_type": "markdown",
   "id": "e31bd7ea",
   "metadata": {},
   "source": [
    "### 4.데이터 전처리하기 (3) 정수 인코딩"
   ]
  },
  {
   "cell_type": "markdown",
   "id": "55946187",
   "metadata": {},
   "source": [
    "#### 단어 집합(vocabulary) 만들기 및 정수 인코딩"
   ]
  },
  {
   "cell_type": "code",
   "execution_count": 29,
   "id": "f9d63b97",
   "metadata": {},
   "outputs": [
    {
     "name": "stdout",
     "output_type": "stream",
     "text": [
      "--\n"
     ]
    }
   ],
   "source": [
    "src_tokenizer = Tokenizer() # 토크나이저 정의\n",
    "src_tokenizer.fit_on_texts(encoder_input_train) # 입력된 데이터로부터 단어 집합 생성\n",
    "print('--')"
   ]
  },
  {
   "cell_type": "code",
   "execution_count": 30,
   "id": "a1760036",
   "metadata": {},
   "outputs": [
    {
     "name": "stdout",
     "output_type": "stream",
     "text": [
      "단어 집합(vocabulary)의 크기 : 32052\n",
      "등장 빈도가 6번 이하인 희귀 단어의 수: 23796\n",
      "단어 집합에서 희귀 단어를 제외시킬 경우의 단어 집합의 크기: 8256\n",
      "단어 집합에서 희귀 단어의 비율: 74.2418569824036\n",
      "전체 등장 빈도에서 희귀 단어 등장 빈도 비율: 3.3915971146055393\n"
     ]
    }
   ],
   "source": [
    "# 등장 빈도수가 7회 미만인 단어들이 이 데이터에서 얼만큼의 비중을 차지하는지 확인\n",
    "# %d = decimal(소수), %s = string(자료),%f = float(실수)\n",
    "threshold = 7\n",
    "total_cnt = len(src_tokenizer.word_index) # 단어의 수\n",
    "rare_cnt = 0 # 등장 빈도수가 threshold보다 작은 단어의 개수를 카운트\n",
    "total_freq = 0 # 훈련 데이터의 전체 단어 빈도수 총 합\n",
    "rare_freq = 0 # 등장 빈도수가 threshold보다 작은 단어의 등장 빈도수의 총 합\n",
    "\n",
    "# 단어와 빈도수의 쌍(pair)을 key와 value로 받는다.\n",
    "for key, value in src_tokenizer.word_counts.items():\n",
    "    total_freq = total_freq + value\n",
    "\n",
    "    # 단어의 등장 빈도수가 threshold보다 작으면\n",
    "    if(value < threshold):\n",
    "        rare_cnt = rare_cnt + 1\n",
    "        rare_freq = rare_freq + value\n",
    "\n",
    "print('단어 집합(vocabulary)의 크기 :', total_cnt)\n",
    "print('등장 빈도가 %s번 이하인 희귀 단어의 수: %s'%(threshold - 1, rare_cnt))\n",
    "print('단어 집합에서 희귀 단어를 제외시킬 경우의 단어 집합의 크기: %s'%(total_cnt - rare_cnt))\n",
    "print(\"단어 집합에서 희귀 단어의 비율:\", (rare_cnt / total_cnt)*100)\n",
    "print(\"전체 등장 빈도에서 희귀 단어 등장 빈도 비율:\", (rare_freq / total_freq)*100)\n"
   ]
  },
  {
   "cell_type": "code",
   "execution_count": 31,
   "id": "984da918",
   "metadata": {},
   "outputs": [
    {
     "name": "stdout",
     "output_type": "stream",
     "text": [
      "--\n"
     ]
    }
   ],
   "source": [
    "src_vocab = 8000\n",
    "src_tokenizer = Tokenizer(num_words=src_vocab) # 단어 집합의 크기를 8,000으로 제한\n",
    "src_tokenizer.fit_on_texts(encoder_input_train) # 단어 집합 재생성\n",
    "print('--')"
   ]
  },
  {
   "cell_type": "code",
   "execution_count": 32,
   "id": "17060ff6",
   "metadata": {},
   "outputs": [
    {
     "name": "stdout",
     "output_type": "stream",
     "text": [
      "[[1, 914, 468, 386, 147, 409, 3203, 161, 2255, 147, 1362, 2407, 474, 1689, 154, 2866, 121, 511, 166, 233, 4494, 415, 1015, 4791, 468, 4930, 864, 170, 56, 143], [2325, 335, 1, 4, 2655, 129, 10, 68, 42, 66, 6173, 139, 2, 1, 1474, 66, 335, 276, 431, 53, 6174], [967, 195, 31, 156, 52, 140, 5, 1897, 38, 77, 31, 256, 1, 2193, 215, 131, 38, 22, 2892, 367, 395, 275, 5, 394, 732, 144, 82, 126, 2927, 434, 446, 123, 275, 729, 532, 372, 396, 338, 735, 275, 59, 127, 88, 367, 275, 10, 43, 68, 5, 30]]\n"
     ]
    }
   ],
   "source": [
    "# 텍스트 시퀀스를 정수 시퀀스로 변환\n",
    "encoder_input_train = src_tokenizer.texts_to_sequences(encoder_input_train) \n",
    "encoder_input_test = src_tokenizer.texts_to_sequences(encoder_input_test)\n",
    "\n",
    "# 잘 진행되었는지 샘플 출력\n",
    "print(encoder_input_train[:3])"
   ]
  },
  {
   "cell_type": "code",
   "execution_count": 33,
   "id": "8ce54324",
   "metadata": {},
   "outputs": [
    {
     "name": "stdout",
     "output_type": "stream",
     "text": [
      "--\n"
     ]
    }
   ],
   "source": [
    "# Summary 데이터에 대해서도 동일한 작업을 수행\n",
    "tar_tokenizer = Tokenizer()\n",
    "tar_tokenizer.fit_on_texts(decoder_input_train)\n",
    "print('--')"
   ]
  },
  {
   "cell_type": "code",
   "execution_count": 34,
   "id": "5b4833d9",
   "metadata": {},
   "outputs": [
    {
     "name": "stdout",
     "output_type": "stream",
     "text": [
      "단어 집합(vocabulary)의 크기 : 10481\n",
      "등장 빈도가 5번 이하인 희귀 단어의 수: 8103\n",
      "단어 집합에서 희귀 단어를 제외시킬 경우의 단어 집합의 크기 2378\n",
      "단어 집합에서 희귀 단어의 비율: 77.31132525522374\n",
      "전체 등장 빈도에서 희귀 단어 등장 빈도 비율: 5.889975718541734\n"
     ]
    }
   ],
   "source": [
    "threshold = 6\n",
    "total_cnt = len(tar_tokenizer.word_index) # 단어의 수\n",
    "rare_cnt = 0 # 등장 빈도수가 threshold보다 작은 단어의 개수를 카운트\n",
    "total_freq = 0 # 훈련 데이터의 전체 단어 빈도수 총 합\n",
    "rare_freq = 0 # 등장 빈도수가 threshold보다 작은 단어의 등장 빈도수의 총 합\n",
    "\n",
    "# 단어와 빈도수의 쌍(pair)을 key와 value로 받는다.\n",
    "for key, value in tar_tokenizer.word_counts.items():\n",
    "    total_freq = total_freq + value\n",
    "\n",
    "    # 단어의 등장 빈도수가 threshold보다 작으면\n",
    "    if(value < threshold):\n",
    "        rare_cnt = rare_cnt + 1\n",
    "        rare_freq = rare_freq + value\n",
    "\n",
    "print('단어 집합(vocabulary)의 크기 :', total_cnt)\n",
    "print('등장 빈도가 %s번 이하인 희귀 단어의 수: %s'%(threshold - 1, rare_cnt))\n",
    "print('단어 집합에서 희귀 단어를 제외시킬 경우의 단어 집합의 크기 %s'%(total_cnt - rare_cnt))\n",
    "print(\"단어 집합에서 희귀 단어의 비율:\", (rare_cnt / total_cnt)*100)\n",
    "print(\"전체 등장 빈도에서 희귀 단어 등장 빈도 비율:\", (rare_freq / total_freq)*100)"
   ]
  },
  {
   "cell_type": "code",
   "execution_count": 35,
   "id": "d970b07e",
   "metadata": {},
   "outputs": [
    {
     "name": "stdout",
     "output_type": "stream",
     "text": [
      "input\n",
      "input  [[1, 6], [1, 233, 122, 18, 4], [1, 160], [1, 54, 7, 1807, 167, 896, 1964], [1, 897, 243]]\n",
      "target\n",
      "decoder  [[6, 2], [233, 122, 18, 4, 2], [160, 2], [54, 7, 1807, 167, 896, 1964, 2], [897, 243, 2]]\n"
     ]
    }
   ],
   "source": [
    "tar_vocab = 2000\n",
    "tar_tokenizer = Tokenizer(num_words=tar_vocab) \n",
    "tar_tokenizer.fit_on_texts(decoder_input_train)\n",
    "tar_tokenizer.fit_on_texts(decoder_target_train)\n",
    "\n",
    "# 텍스트 시퀀스를 정수 시퀀스로 변환\n",
    "decoder_input_train = tar_tokenizer.texts_to_sequences(decoder_input_train) \n",
    "decoder_target_train = tar_tokenizer.texts_to_sequences(decoder_target_train)\n",
    "decoder_input_test = tar_tokenizer.texts_to_sequences(decoder_input_test)\n",
    "decoder_target_test = tar_tokenizer.texts_to_sequences(decoder_target_test)\n",
    "\n",
    "# 잘 변환되었는지 확인\n",
    "print('input')\n",
    "print('input ',decoder_input_train[:5])\n",
    "print('target')\n",
    "print('decoder ',decoder_target_train[:5])"
   ]
  },
  {
   "cell_type": "code",
   "execution_count": 36,
   "id": "db65f62b",
   "metadata": {},
   "outputs": [
    {
     "name": "stdout",
     "output_type": "stream",
     "text": [
      "삭제할 훈련 데이터의 개수 : 1233\n",
      "삭제할 테스트 데이터의 개수 : 372\n",
      "훈련 데이터의 개수 : 51422\n",
      "훈련 레이블의 개수 : 51422\n",
      "테스트 데이터의 개수 : 12791\n",
      "테스트 레이블의 개수 : 12791\n"
     ]
    }
   ],
   "source": [
    "drop_train = [index for index, sentence in enumerate(decoder_input_train) if len(sentence) == 1]\n",
    "drop_test = [index for index, sentence in enumerate(decoder_input_test) if len(sentence) == 1]\n",
    "\n",
    "print('삭제할 훈련 데이터의 개수 :', len(drop_train))\n",
    "print('삭제할 테스트 데이터의 개수 :', len(drop_test))\n",
    "\n",
    "encoder_input_train = [sentence for index, sentence in enumerate(encoder_input_train) if index not in drop_train]\n",
    "decoder_input_train = [sentence for index, sentence in enumerate(decoder_input_train) if index not in drop_train]\n",
    "decoder_target_train = [sentence for index, sentence in enumerate(decoder_target_train) if index not in drop_train]\n",
    "\n",
    "encoder_input_test = [sentence for index, sentence in enumerate(encoder_input_test) if index not in drop_test]\n",
    "decoder_input_test = [sentence for index, sentence in enumerate(decoder_input_test) if index not in drop_test]\n",
    "decoder_target_test = [sentence for index, sentence in enumerate(decoder_target_test) if index not in drop_test]\n",
    "\n",
    "print('훈련 데이터의 개수 :', len(encoder_input_train))\n",
    "print('훈련 레이블의 개수 :', len(decoder_input_train))\n",
    "print('테스트 데이터의 개수 :', len(encoder_input_test))\n",
    "print('테스트 레이블의 개수 :', len(decoder_input_test))"
   ]
  },
  {
   "cell_type": "markdown",
   "id": "6ecc0047",
   "metadata": {},
   "source": [
    "#### 패딩하기"
   ]
  },
  {
   "cell_type": "code",
   "execution_count": 37,
   "id": "d682ef20",
   "metadata": {},
   "outputs": [
    {
     "name": "stdout",
     "output_type": "stream",
     "text": [
      "--\n"
     ]
    }
   ],
   "source": [
    "encoder_input_train = pad_sequences(encoder_input_train, maxlen=text_max_len, padding='post')\n",
    "encoder_input_test = pad_sequences(encoder_input_test, maxlen=text_max_len, padding='post')\n",
    "decoder_input_train = pad_sequences(decoder_input_train, maxlen=summary_max_len, padding='post')\n",
    "decoder_target_train = pad_sequences(decoder_target_train, maxlen=summary_max_len, padding='post')\n",
    "decoder_input_test = pad_sequences(decoder_input_test, maxlen=summary_max_len, padding='post')\n",
    "decoder_target_test = pad_sequences(decoder_target_test, maxlen=summary_max_len, padding='post')\n",
    "print('--')"
   ]
  },
  {
   "cell_type": "markdown",
   "id": "8d9f3a6c",
   "metadata": {},
   "source": [
    "#### 전처리 끝"
   ]
  },
  {
   "cell_type": "markdown",
   "id": "3fdebde5",
   "metadata": {},
   "source": [
    "### 5.모델 설계하기"
   ]
  },
  {
   "cell_type": "markdown",
   "id": "fb41c0fa",
   "metadata": {},
   "source": [
    "#### 함수형 API를 이용해서 인코더 설계"
   ]
  },
  {
   "cell_type": "code",
   "execution_count": 38,
   "id": "10244770",
   "metadata": {},
   "outputs": [],
   "source": [
    "from tensorflow.keras.layers import Input, LSTM, Embedding, Dense, Concatenate, TimeDistributed\n",
    "from tensorflow.keras.models import Model\n",
    "from tensorflow.keras.callbacks import EarlyStopping, ModelCheckpoint\n",
    "\n",
    "\n",
    "# 인코더 설계 시작\n",
    "embedding_dim = 128\n",
    "hidden_size = 256\n",
    "\n",
    "# 인코더\n",
    "encoder_inputs = Input(shape=(text_max_len,))\n",
    "\n",
    "# 인코더의 임베딩 층\n",
    "enc_emb = Embedding(src_vocab, embedding_dim)(encoder_inputs)\n",
    "\n",
    "# 인코더의 LSTM 1\n",
    "# encoder_lstm1 = LSTM(hidden_size, return_sequences=True, return_state=True ,dropout = 0.4, recurrent_dropout = 0.4)\n",
    "encoder_lstm1 = LSTM(hidden_size, return_sequences=True, return_state=True ,dropout = 0.4)\n",
    "encoder_output1, state_h1, state_c1 = encoder_lstm1(enc_emb)\n",
    "\n",
    "# 인코더의 LSTM 2\n",
    "# encoder_lstm2 = LSTM(hidden_size, return_sequences=True, return_state=True, dropout=0.4, recurrent_dropout=0.4)\n",
    "encoder_lstm2 = LSTM(hidden_size, return_sequences=True, return_state=True, dropout=0.4)\n",
    "encoder_output2, state_h2, state_c2 = encoder_lstm2(encoder_output1)\n",
    "\n",
    "# 인코더의 LSTM 3\n",
    "# encoder_lstm3 = LSTM(hidden_size, return_state=True, return_sequences=True, dropout=0.4, recurrent_dropout=0.4)\n",
    "encoder_lstm3 = LSTM(hidden_size, return_state=True, return_sequences=True, dropout=0.4)\n",
    "encoder_outputs, state_h, state_c= encoder_lstm3(encoder_output2)"
   ]
  },
  {
   "cell_type": "markdown",
   "id": "dd1cc8b1",
   "metadata": {},
   "source": [
    "#### 디코더 설계"
   ]
  },
  {
   "cell_type": "code",
   "execution_count": 39,
   "id": "c721fa43",
   "metadata": {},
   "outputs": [],
   "source": [
    "# 디코더 설계\n",
    "decoder_inputs = Input(shape=(None,))\n",
    "\n",
    "# 디코더의 임베딩 층\n",
    "dec_emb_layer = Embedding(tar_vocab, embedding_dim)\n",
    "dec_emb = dec_emb_layer(decoder_inputs)\n",
    "\n",
    "# 디코더의 LSTM\n",
    "# decoder_lstm = LSTM(hidden_size, return_sequences=True, return_state=True, dropout=0.4, recurrent_dropout=0.2)\n",
    "decoder_lstm = LSTM(hidden_size, return_sequences=True, return_state=True, dropout=0.4)\n",
    "decoder_outputs, _, _ = decoder_lstm(dec_emb, initial_state=[state_h, state_c])"
   ]
  },
  {
   "cell_type": "markdown",
   "id": "5ab306ea",
   "metadata": {},
   "source": [
    "디코더의 임베딩 층과 LSTM을 설계하는 것은 인코더와 거의 동일해요.\n",
    "\n",
    "하지만 LSTM의 입력을 정의할 때, initial_state의 인자값으로 인코더의 hidden state와 cell state의 값을 넣어줘야 해요."
   ]
  },
  {
   "cell_type": "code",
   "execution_count": 40,
   "id": "328be55b",
   "metadata": {},
   "outputs": [
    {
     "name": "stdout",
     "output_type": "stream",
     "text": [
      "Model: \"model\"\n",
      "__________________________________________________________________________________________________\n",
      "Layer (type)                    Output Shape         Param #     Connected to                     \n",
      "==================================================================================================\n",
      "input_1 (InputLayer)            [(None, 50)]         0                                            \n",
      "__________________________________________________________________________________________________\n",
      "embedding (Embedding)           (None, 50, 128)      1024000     input_1[0][0]                    \n",
      "__________________________________________________________________________________________________\n",
      "lstm (LSTM)                     [(None, 50, 256), (N 394240      embedding[0][0]                  \n",
      "__________________________________________________________________________________________________\n",
      "input_2 (InputLayer)            [(None, None)]       0                                            \n",
      "__________________________________________________________________________________________________\n",
      "lstm_1 (LSTM)                   [(None, 50, 256), (N 525312      lstm[0][0]                       \n",
      "__________________________________________________________________________________________________\n",
      "embedding_1 (Embedding)         (None, None, 128)    256000      input_2[0][0]                    \n",
      "__________________________________________________________________________________________________\n",
      "lstm_2 (LSTM)                   [(None, 50, 256), (N 525312      lstm_1[0][0]                     \n",
      "__________________________________________________________________________________________________\n",
      "lstm_3 (LSTM)                   [(None, None, 256),  394240      embedding_1[0][0]                \n",
      "                                                                 lstm_2[0][1]                     \n",
      "                                                                 lstm_2[0][2]                     \n",
      "__________________________________________________________________________________________________\n",
      "dense (Dense)                   (None, None, 2000)   514000      lstm_3[0][0]                     \n",
      "==================================================================================================\n",
      "Total params: 3,633,104\n",
      "Trainable params: 3,633,104\n",
      "Non-trainable params: 0\n",
      "__________________________________________________________________________________________________\n"
     ]
    }
   ],
   "source": [
    "# 디코더의 출력층\n",
    "decoder_softmax_layer = Dense(tar_vocab, activation='softmax')\n",
    "decoder_softmax_outputs = decoder_softmax_layer(decoder_outputs) \n",
    "\n",
    "# 모델 정의\n",
    "model = Model([encoder_inputs, decoder_inputs], decoder_softmax_outputs)\n",
    "model.summary()"
   ]
  },
  {
   "cell_type": "markdown",
   "id": "79b316e8",
   "metadata": {},
   "source": [
    "#### 어텐션 메커니즘"
   ]
  },
  {
   "cell_type": "code",
   "execution_count": 41,
   "id": "208a6baf",
   "metadata": {},
   "outputs": [
    {
     "name": "stdout",
     "output_type": "stream",
     "text": [
      "Model: \"model_1\"\n",
      "__________________________________________________________________________________________________\n",
      "Layer (type)                    Output Shape         Param #     Connected to                     \n",
      "==================================================================================================\n",
      "input_1 (InputLayer)            [(None, 50)]         0                                            \n",
      "__________________________________________________________________________________________________\n",
      "embedding (Embedding)           (None, 50, 128)      1024000     input_1[0][0]                    \n",
      "__________________________________________________________________________________________________\n",
      "lstm (LSTM)                     [(None, 50, 256), (N 394240      embedding[0][0]                  \n",
      "__________________________________________________________________________________________________\n",
      "input_2 (InputLayer)            [(None, None)]       0                                            \n",
      "__________________________________________________________________________________________________\n",
      "lstm_1 (LSTM)                   [(None, 50, 256), (N 525312      lstm[0][0]                       \n",
      "__________________________________________________________________________________________________\n",
      "embedding_1 (Embedding)         (None, None, 128)    256000      input_2[0][0]                    \n",
      "__________________________________________________________________________________________________\n",
      "lstm_2 (LSTM)                   [(None, 50, 256), (N 525312      lstm_1[0][0]                     \n",
      "__________________________________________________________________________________________________\n",
      "lstm_3 (LSTM)                   [(None, None, 256),  394240      embedding_1[0][0]                \n",
      "                                                                 lstm_2[0][1]                     \n",
      "                                                                 lstm_2[0][2]                     \n",
      "__________________________________________________________________________________________________\n",
      "attention_layer (AdditiveAttent (None, None, 256)    256         lstm_3[0][0]                     \n",
      "                                                                 lstm_2[0][0]                     \n",
      "__________________________________________________________________________________________________\n",
      "concat_layer (Concatenate)      (None, None, 512)    0           lstm_3[0][0]                     \n",
      "                                                                 attention_layer[0][0]            \n",
      "__________________________________________________________________________________________________\n",
      "dense_1 (Dense)                 (None, None, 2000)   1026000     concat_layer[0][0]               \n",
      "==================================================================================================\n",
      "Total params: 4,145,360\n",
      "Trainable params: 4,145,360\n",
      "Non-trainable params: 0\n",
      "__________________________________________________________________________________________________\n"
     ]
    }
   ],
   "source": [
    "from tensorflow.keras.layers import AdditiveAttention\n",
    "\n",
    "# 어텐션 층(어텐션 함수)\n",
    "attn_layer = AdditiveAttention(name='attention_layer')\n",
    "\n",
    "# 인코더와 디코더의 모든 time step의 hidden state를 어텐션 층에 전달하고 결과를 리턴\n",
    "attn_out = attn_layer([decoder_outputs, encoder_outputs])\n",
    "\n",
    "\n",
    "# 어텐션의 결과와 디코더의 hidden state들을 연결\n",
    "decoder_concat_input = Concatenate(axis=-1, name='concat_layer')([decoder_outputs, attn_out])\n",
    "\n",
    "# 디코더의 출력층\n",
    "decoder_softmax_layer = Dense(tar_vocab, activation='softmax')\n",
    "decoder_softmax_outputs = decoder_softmax_layer(decoder_concat_input)\n",
    "\n",
    "# 모델 정의\n",
    "model = Model([encoder_inputs, decoder_inputs], decoder_softmax_outputs)\n",
    "model.summary()"
   ]
  },
  {
   "cell_type": "markdown",
   "id": "3cfdbf82",
   "metadata": {},
   "source": [
    "### 6.모델 훈련하기"
   ]
  },
  {
   "cell_type": "code",
   "execution_count": 42,
   "id": "b79f278d",
   "metadata": {},
   "outputs": [
    {
     "name": "stdout",
     "output_type": "stream",
     "text": [
      "Epoch 1/50\n",
      "201/201 [==============================] - 21s 70ms/step - loss: 2.7038 - val_loss: 2.4130\n",
      "Epoch 2/50\n",
      "201/201 [==============================] - 13s 65ms/step - loss: 2.3721 - val_loss: 2.2661\n",
      "Epoch 3/50\n",
      "201/201 [==============================] - 13s 65ms/step - loss: 2.2334 - val_loss: 2.1482\n",
      "Epoch 4/50\n",
      "201/201 [==============================] - 13s 66ms/step - loss: 2.1230 - val_loss: 2.0684\n",
      "Epoch 5/50\n",
      "201/201 [==============================] - 13s 66ms/step - loss: 2.0365 - val_loss: 2.0052\n",
      "Epoch 6/50\n",
      "201/201 [==============================] - 13s 67ms/step - loss: 1.9718 - val_loss: 1.9634\n",
      "Epoch 7/50\n",
      "201/201 [==============================] - 14s 68ms/step - loss: 1.9171 - val_loss: 1.9298\n",
      "Epoch 8/50\n",
      "201/201 [==============================] - 14s 69ms/step - loss: 1.8692 - val_loss: 1.9037\n",
      "Epoch 9/50\n",
      "201/201 [==============================] - 14s 69ms/step - loss: 1.8286 - val_loss: 1.8826\n",
      "Epoch 10/50\n",
      "201/201 [==============================] - 14s 69ms/step - loss: 1.7913 - val_loss: 1.8691\n",
      "Epoch 11/50\n",
      "201/201 [==============================] - 14s 69ms/step - loss: 1.7549 - val_loss: 1.8593\n",
      "Epoch 12/50\n",
      "201/201 [==============================] - 14s 68ms/step - loss: 1.7247 - val_loss: 1.8455\n",
      "Epoch 13/50\n",
      "201/201 [==============================] - 14s 68ms/step - loss: 1.6939 - val_loss: 1.8419\n",
      "Epoch 14/50\n",
      "201/201 [==============================] - 14s 69ms/step - loss: 1.6642 - val_loss: 1.8355\n",
      "Epoch 15/50\n",
      "201/201 [==============================] - 14s 69ms/step - loss: 1.6380 - val_loss: 1.8343\n",
      "Epoch 16/50\n",
      "201/201 [==============================] - 14s 69ms/step - loss: 1.6112 - val_loss: 1.8314\n",
      "Epoch 17/50\n",
      "201/201 [==============================] - 14s 69ms/step - loss: 1.5859 - val_loss: 1.8319\n",
      "Epoch 18/50\n",
      "201/201 [==============================] - 14s 69ms/step - loss: 1.5623 - val_loss: 1.8324\n",
      "Epoch 00018: early stopping\n"
     ]
    }
   ],
   "source": [
    "model.compile(optimizer='rmsprop', loss='sparse_categorical_crossentropy')\n",
    "es = EarlyStopping(monitor='val_loss', patience=2, verbose=1)\n",
    "history = model.fit(x=[encoder_input_train, decoder_input_train], y=decoder_target_train, \\\n",
    "          validation_data=([encoder_input_test, decoder_input_test], decoder_target_test), \\\n",
    "          batch_size=256, callbacks=[es], epochs=50)"
   ]
  },
  {
   "cell_type": "code",
   "execution_count": 43,
   "id": "0433578f",
   "metadata": {},
   "outputs": [
    {
     "data": {
      "image/png": "[encoded data removed]",
      "text/plain": [
       "<Figure size 432x288 with 1 Axes>"
      ]
     },
     "metadata": {
      "needs_background": "light"
     },
     "output_type": "display_data"
    }
   ],
   "source": [
    "plt.plot(history.history['loss'], label='train')\n",
    "plt.plot(history.history['val_loss'], label='test')\n",
    "plt.legend()\n",
    "plt.show()"
   ]
  },
  {
   "cell_type": "markdown",
   "id": "24698026",
   "metadata": {},
   "source": [
    "### 7.인퍼런스 모델 구현하기"
   ]
  },
  {
   "cell_type": "code",
   "execution_count": 44,
   "id": "00991a3f",
   "metadata": {},
   "outputs": [
    {
     "name": "stdout",
     "output_type": "stream",
     "text": [
      "--\n"
     ]
    }
   ],
   "source": [
    "src_index_to_word = src_tokenizer.index_word # 원문 단어 집합에서 정수 -> 단어를 얻음\n",
    "tar_word_to_index = tar_tokenizer.word_index # 요약 단어 집합에서 단어 -> 정수를 얻음\n",
    "tar_index_to_word = tar_tokenizer.index_word # 요약 단어 집합에서 정수 -> 단어를 얻음\n",
    "\n",
    "print('--')"
   ]
  },
  {
   "cell_type": "code",
   "execution_count": 45,
   "id": "1e5db3b7",
   "metadata": {},
   "outputs": [
    {
     "name": "stdout",
     "output_type": "stream",
     "text": [
      "--\n"
     ]
    }
   ],
   "source": [
    "# 인코더 설계\n",
    "encoder_model = Model(inputs=encoder_inputs, outputs=[encoder_outputs, state_h, state_c])\n",
    "\n",
    "# 이전 시점의 상태들을 저장하는 텐서\n",
    "decoder_state_input_h = Input(shape=(hidden_size,))\n",
    "decoder_state_input_c = Input(shape=(hidden_size,))\n",
    "\n",
    "dec_emb2 = dec_emb_layer(decoder_inputs)\n",
    "\n",
    "# 문장의 다음 단어를 예측하기 위해서 초기 상태(initial_state)를 이전 시점의 상태로 사용. 이는 뒤의 함수 decode_sequence()에 구현\n",
    "# 훈련 과정에서와 달리 LSTM의 리턴하는 은닉 상태와 셀 상태인 state_h와 state_c를 버리지 않음.\n",
    "decoder_outputs2, state_h2, state_c2 = decoder_lstm(dec_emb2, initial_state=[decoder_state_input_h, decoder_state_input_c])\n",
    "\n",
    "print('--')"
   ]
  },
  {
   "cell_type": "code",
   "execution_count": 46,
   "id": "197112bd",
   "metadata": {},
   "outputs": [
    {
     "name": "stdout",
     "output_type": "stream",
     "text": [
      "--\n"
     ]
    }
   ],
   "source": [
    "# 어텐션 함수\n",
    "decoder_hidden_state_input = Input(shape=(text_max_len, hidden_size))\n",
    "attn_out_inf = attn_layer([decoder_outputs2, decoder_hidden_state_input])\n",
    "decoder_inf_concat = Concatenate(axis=-1, name='concat')([decoder_outputs2, attn_out_inf])\n",
    "\n",
    "# 디코더의 출력층\n",
    "decoder_outputs2 = decoder_softmax_layer(decoder_inf_concat) #(batch, 문장길이, vocab_size)\n",
    "\n",
    "# 최종 디코더 모델\n",
    "decoder_model = Model(\n",
    "    [decoder_inputs] + [decoder_hidden_state_input,decoder_state_input_h, decoder_state_input_c],\n",
    "    [decoder_outputs2] + [state_h2, state_c2])\n",
    "\n",
    "print('--')"
   ]
  },
  {
   "cell_type": "code",
   "execution_count": 47,
   "id": "66344c44",
   "metadata": {},
   "outputs": [
    {
     "name": "stdout",
     "output_type": "stream",
     "text": [
      "--\n"
     ]
    }
   ],
   "source": [
    "def decode_sequence(input_seq):\n",
    "    # 입력으로부터 인코더의 상태를 얻음\n",
    "    e_out, e_h, e_c = encoder_model.predict(input_seq)\n",
    "\n",
    "     # <SOS>에 해당하는 토큰 생성\n",
    "    target_seq = np.zeros((1,1))\n",
    "    target_seq[0, 0] = tar_word_to_index['sostoken']\n",
    "\n",
    "    stop_condition = False\n",
    "    decoded_sentence = ''\n",
    "    while not stop_condition: # stop_condition이 True가 될 때까지 루프 반복\n",
    "\n",
    "        output_tokens, h, c = decoder_model.predict([target_seq] + [e_out, e_h, e_c])\n",
    "        sampled_token_index = np.argmax(output_tokens[0, -1, :])\n",
    "        sampled_token = tar_index_to_word[sampled_token_index]\n",
    "\n",
    "        if (sampled_token!='eostoken'):\n",
    "            decoded_sentence += ' '+sampled_token\n",
    "\n",
    "        #  <eos>에 도달하거나 최대 길이를 넘으면 중단.\n",
    "        if (sampled_token == 'eostoken'  or len(decoded_sentence.split()) >= (summary_max_len-1)):\n",
    "            stop_condition = True\n",
    "\n",
    "        # 길이가 1인 타겟 시퀀스를 업데이트\n",
    "        target_seq = np.zeros((1,1))\n",
    "        target_seq[0, 0] = sampled_token_index\n",
    "\n",
    "        # 상태를 업데이트 합니다.\n",
    "        e_h, e_c = h, c\n",
    "\n",
    "    return decoded_sentence\n",
    "print('--')"
   ]
  },
  {
   "cell_type": "markdown",
   "id": "bf91b928",
   "metadata": {},
   "source": [
    "### 8.모델 테스트하기"
   ]
  },
  {
   "cell_type": "code",
   "execution_count": 48,
   "id": "41c51523",
   "metadata": {},
   "outputs": [
    {
     "name": "stdout",
     "output_type": "stream",
     "text": [
      "--\n"
     ]
    }
   ],
   "source": [
    "# 원문의 정수 시퀀스를 텍스트 시퀀스로 변환\n",
    "def seq2text(input_seq):\n",
    "    temp=''\n",
    "    for i in input_seq:\n",
    "        if (i!=0):\n",
    "            temp = temp + src_index_to_word[i]+' '\n",
    "    return temp\n",
    "\n",
    "# 요약문의 정수 시퀀스를 텍스트 시퀀스로 변환\n",
    "def seq2summary(input_seq):\n",
    "    temp=''\n",
    "    for i in input_seq:\n",
    "        if ((i!=0 and i!=tar_word_to_index['sostoken']) and i!=tar_word_to_index['eostoken']):\n",
    "            temp = temp + tar_index_to_word[i] + ' '\n",
    "    return temp\n",
    "\n",
    "print('--')"
   ]
  },
  {
   "cell_type": "code",
   "execution_count": 49,
   "id": "e493e2c6",
   "metadata": {},
   "outputs": [
    {
     "name": "stdout",
     "output_type": "stream",
     "text": [
      "원문 : excellent blend italian japanese flavors use seasoning party dip great tofu also look forward trying angel dressing \n",
      "실제 요약 : excellent flavor \n",
      "예측 요약 :  great seasoning\n",
      "\n",
      "\n",
      "원문 : sour mix mother law uses delicious able find purchase east coast ordered amazon christmas boy surprised made excellent gift well excellent drink add wonderful upset stomach like pre mixed sweet sour stuff comes bottle way better \n",
      "실제 요약 : makes perfect drink \n",
      "예측 요약 :  great product\n",
      "\n",
      "\n",
      "원문 : first buy want make soup actually eat opening taste good even without cooking like texture use salads well definitely five starts \n",
      "실제 요약 : great taste like the texture highly \n",
      "예측 요약 :  good soup\n",
      "\n",
      "\n",
      "원문 : dare rate star simply dont like calories read box nowhere say diet fact claims raw natural fun stars cancel least one \n",
      "실제 요약 : for all you star people \n",
      "예측 요약 :  not so good\n",
      "\n",
      "\n",
      "원문 : popcorn best say movie theater popcorn hello great northern popcorn boyfriend pop bags day good soon finish eat want enough salt buttery taste oil everything packaged together love order today use go movie theaters get popcorn leave eat home popcorn head definitely top \n",
      "실제 요약 : love this \n",
      "예측 요약 :  great popcorn\n",
      "\n",
      "\n",
      "원문 : general rule opinion stay away creamy type dressings ok example love balsamic one honey dijon pretty good ranch bleu cheese inedible would rather eat salad plain low cal almost zero carb diet life saver going try cocktail sauce next \n",
      "실제 요약 : some and good others are not \n",
      "예측 요약 :  not bad\n",
      "\n",
      "\n",
      "원문 : product best usa bought grown snow cones absolutely yummy pour easy use flavours delicious \n",
      "실제 요약 : super product \n",
      "예측 요약 :  best chocolate ever\n",
      "\n",
      "\n",
      "원문 : ordered plant remedy fruit fly amazon shipping acceptable manufacturer create packaging shipment unless put side box dirt everywhere supposed plant upside roots box found one locally would bought hoping high hopes edit recommend \n",
      "실제 요약 : not packaged for shipment \n",
      "예측 요약 :  not as pictured\n",
      "\n",
      "\n",
      "원문 : black lab loves never likes dog treats finally found something keep occupied seconds takes minutes chomp one really enjoys keep buying \n",
      "실제 요약 : black lab loves them \n",
      "예측 요약 :  my dog loves these\n",
      "\n",
      "\n",
      "원문 : cannot buy often addiction absolutely wonderful companion scoop ice cream plain glass milk love making part gift baskets hostess gifts almost always get asked got \n",
      "실제 요약 : absolutely \n",
      "예측 요약 :  love this stuff\n",
      "\n",
      "\n",
      "원문 : best keeping dog happy really help completed well \n",
      "실제 요약 : wow \n",
      "예측 요약 :  my dogs love these\n",
      "\n",
      "\n",
      "원문 : great way purchase product outside order arrived extremely fast well estimated shipping date thanks making delicious unique chili widely available \n",
      "실제 요약 : great product great service \n",
      "예측 요약 :  great product\n",
      "\n",
      "\n",
      "원문 : usually brew individual components ordered realizing large cans simply poor add perfect advanced brewers would keep stout little less alcoholic side would recommend adding bit dextrose towards end keep going closely specific taste good \n",
      "실제 요약 : not bad \n",
      "예측 요약 :  great product\n",
      "\n",
      "\n",
      "원문 : cat food made rabbit hard find days able get consistent basis quality good loves definitely helped gi issues drawback expensive totally worth \n",
      "실제 요약 : loves \n",
      "예측 요약 :  my cat loves this\n",
      "\n",
      "\n",
      "원문 : great tasting coffee bitter aftertaste spoiled us point taking keurig brewer us go visiting even evening playing cards friends asked bringing coffee kind created monster house coffee house cannot say enough good things coffee \n",
      "실제 요약 : what winner \n",
      "예측 요약 :  great coffee\n",
      "\n",
      "\n",
      "원문 : year old maltese picky comes eating dog food since starting product cleaned bowl day problem also like packaging easy store select one meal without sort pile dog food \n",
      "실제 요약 : meal \n",
      "예측 요약 :  great product\n",
      "\n",
      "\n",
      "원문 : best tried yet lightly salted tad spicy hot flavors pepper spices price keeping subscription going \n",
      "실제 요약 : delicious fast shipping and good price \n",
      "예측 요약 :  best hot sauce\n",
      "\n",
      "\n",
      "원문 : drinking chai years always finding discount retailer longer carry decided would go see could purchase directly pleased see amazon com carrying appreciated free shipping saved considerable amount allowed buy favorite yummy morning drink great beverage coffee drinkers non coffee drinkers like \n",
      "실제 요약 : yummy \n",
      "예측 요약 :  best chai ever\n",
      "\n",
      "\n",
      "원문 : recently purchasing excellent muffin mix online local grocery stores longer carry complete shame always purchased multiple boxes store goes business cannot say enough positive things product must every morning \n",
      "실제 요약 : fantastic this is not found in stores \n",
      "예측 요약 :  great product\n",
      "\n",
      "\n",
      "원문 : simply best tea ever found flavors incredible combined sweetener half half amazon offers tea great price shipping door take chance finding store looking fabulous tasting tea look \n",
      "실제 요약 : best tea on the market \n",
      "예측 요약 :  best tea ever\n",
      "\n",
      "\n",
      "원문 : winner little test kitchen tried several brands stevia ended coming back sweetleaf extract taste overall good value mixing little tricky results worth extra care use mostly hot beverages smoothies sauces using mini measuring spoon found dash pinch etc \n",
      "실제 요약 : no \n",
      "예측 요약 :  great taste\n",
      "\n",
      "\n",
      "원문 : dark roast strong coffee good sorry rest message fill make new rule amazon least words \n",
      "실제 요약 : dark roast \n",
      "예측 요약 :  not bold\n",
      "\n",
      "\n",
      "원문 : tried many brands hot chocolates far best realize thousand percent cheaper use package buy store add water want impress product \n",
      "실제 요약 : delicious \n",
      "예측 요약 :  best hot cocoa ever\n",
      "\n",
      "\n",
      "원문 : bought bday party husband wanted try first may buy another box good think better conventional gummy bears soft flavorful perfect young kids us ups \n",
      "실제 요약 : amazing \n",
      "예측 요약 :  great product\n",
      "\n",
      "\n",
      "원문 : great product finicky cat really rich ingredients pure filler great cats love fancy feast higher end cat food eaten minutes dogs course love cat food want feast \n",
      "실제 요약 : great cat food even the dogs love it \n",
      "예측 요약 :  great product\n",
      "\n",
      "\n",
      "원문 : mix makes best brownies even tell gluten free husband would even try said gluten free put bite month proceeded eat brownies \n",
      "실제 요약 : great brownies \n",
      "예측 요약 :  best gluten free pizza crust\n",
      "\n",
      "\n",
      "원문 : buy mrs original syrup amazon com two reasons items delivered door mrs great pancakes hot biscuits gain little weight cares everyone still love pleasure mrs table \n",
      "실제 요약 : how about sweet flavorful breakfast \n",
      "예측 요약 :  great value\n",
      "\n",
      "\n",
      "원문 : tried lot russian still looking made twinings hear still make australia anyway far cry twinings russian heavy smoky flavor whole kitchen smells like fire brew cup ok looking someone else russian brew next time \n",
      "실제 요약 : just ok \n",
      "예측 요약 :  not bad\n",
      "\n",
      "\n",
      "원문 : bought maple syrup master cleanse diet ended eating healthy pancakes boy boy syrup super yummy year olds love also price great \n",
      "실제 요약 : amazing \n",
      "예측 요약 :  great product\n",
      "\n",
      "\n",
      "원문 : trying many different kinds pasta almost good wheat pasta used years \n",
      "실제 요약 : darn good \n",
      "예측 요약 :  great pasta\n",
      "\n",
      "\n",
      "원문 : every recipe brown coconut crystals substituted granulated cane sugar turned well \n",
      "실제 요약 : just bit healthier and it is low \n",
      "예측 요약 :  great taste\n",
      "\n",
      "\n",
      "원문 : staple diet several months even took month backpacking trip europe fill high quality ingredients taste like less sweet version reese peanut butter cup packed full protein junk find protein bar better please tell get subscribe save every month saves ton dough \n",
      "실제 요약 : love these \n",
      "예측 요약 :  great taste\n",
      "\n",
      "\n",
      "원문 : love kraft macaroni cheese topping available line longer carried grocery store kraft macaroni cheese topping ounce cans \n",
      "실제 요약 : best cheese cheese \n",
      "예측 요약 :  great tasting\n",
      "\n",
      "\n",
      "원문 : could find product store love size price right love delivery \n",
      "실제 요약 : ground seed \n",
      "예측 요약 :  great deal\n",
      "\n",
      "\n",
      "원문 : wonderful problem cannot stop eating wait another \n",
      "실제 요약 : great chips \n",
      "예측 요약 :  delicious\n",
      "\n",
      "\n",
      "원문 : excited seasonal items season know would three seasons old hard could eat single one throw away \n",
      "실제 요약 : rock hard and inedible \n",
      "예측 요약 :  not what expected\n",
      "\n",
      "\n",
      "원문 : bought twice first order great great flavor crunchy fresh tasting impressed quickly ordered second batch since first fresh figured would last awhile second batch bad stale crisp sort mild chemical taste rather nice cheesy flavor hard time even product eating slowly generally believe wasting food edible hesitate try things \n",
      "실제 요약 : quality \n",
      "예측 요약 :  not as good as the old\n",
      "\n",
      "\n",
      "원문 : drink years first time au bon pain restaurant recently virginia area atlanta cool coffee wine grocery store daughter loved began search online since sell area fresh delicious wish easier get great service order however shipping amount high \n",
      "실제 요약 : delicious sparkling orange drink \n",
      "예측 요약 :  great flavor\n",
      "\n",
      "\n",
      "원문 : found item accident looking ginger could put beer like trick beer drink hot every night bed settles tummy caffeine effects \n",
      "실제 요약 : love this item \n"
     ]
    },
    {
     "name": "stdout",
     "output_type": "stream",
     "text": [
      "예측 요약 :  great taste\n",
      "\n",
      "\n",
      "원문 : total fan find cheaper amazon one smells good makes hungry fan chocolate love \n",
      "실제 요약 : best coffee ever \n",
      "예측 요약 :  great\n",
      "\n",
      "\n",
      "원문 : added sliced sauteed veggies onions made appetizer real cooking great lunch dinner \n",
      "실제 요약 : actually good \n",
      "예측 요약 :  great for\n",
      "\n",
      "\n",
      "원문 : introduced years ago child loved ever since first steaks put fish vegetables love sprinkle steamed really good ton ingredients natural \n",
      "실제 요약 : excellent high quality seasoning with great flavor \n",
      "예측 요약 :  great\n",
      "\n",
      "\n",
      "원문 : originally bought pack retail vacation went searching local availability found great deal amazon snacks tasty worst calorie content wise somewhat addictive love salty crunchy \n",
      "실제 요약 : great snack \n",
      "예측 요약 :  great\n",
      "\n",
      "\n",
      "원문 : ordered whim reading reviews disappointed sugar flavorful want go back using regular brown sugar problem trying eat sometimes find sneaking teaspoons bag use regularly coffee oatmeal etc cannot wait try baking someone mentioned secret ingredient chocolate chip cookies mouth watering yummy would try sugar amazed \n",
      "실제 요약 : delicious \n",
      "예측 요약 :  great tasting and sugar free\n",
      "\n",
      "\n",
      "원문 : entirely disgusting flavor bad soaked flavor stir fry however cannot get texture kept feeling like eating since long clear rubbery able eat bags \n",
      "실제 요약 : not gross but cannot get over the texture \n",
      "예측 요약 :  tastes like\n",
      "\n",
      "\n",
      "원문 : clear scalp hair beauty claims hair felt fuller washing leading ingredient perhaps color treated hair color aside pleasant scent lathers well washes without leaving greasy feel nourishing shampoos color involved would hesitate use \n",
      "실제 요약 : does the job but not for \n",
      "예측 요약 :  works well\n",
      "\n",
      "\n",
      "원문 : really wish read reviews first smell could take like fish really strong odor could bring eat \n",
      "실제 요약 : fishy \n",
      "예측 요약 :  not bad\n",
      "\n",
      "\n",
      "원문 : syrup quite tasty happy however four bottles wrapped thrown box one bottles cracked leaked favorite way use put syrup glass cold water refreshing way \n",
      "실제 요약 : very good product very poor packing \n",
      "예측 요약 :  great product\n",
      "\n",
      "\n",
      "원문 : tried several annie chun soup bowls noodle bowls good easy prepare quick meal \n",
      "실제 요약 : fast food at its best \n",
      "예측 요약 :  great noodles\n",
      "\n",
      "\n",
      "원문 : good coffee good price quick shipping great ask coffee packed lb bags resealable coffee fresh impressive \n",
      "실제 요약 : great coffee \n",
      "예측 요약 :  great coffee\n",
      "\n",
      "\n"
     ]
    }
   ],
   "source": [
    "for i in range(50, 100):\n",
    "    print(\"원문 :\", seq2text(encoder_input_test[i]))\n",
    "    print(\"실제 요약 :\", seq2summary(decoder_input_test[i]))\n",
    "    print(\"예측 요약 :\", decode_sequence(encoder_input_test[i].reshape(1, text_max_len)))\n",
    "    print(\"\\n\")"
   ]
  },
  {
   "cell_type": "markdown",
   "id": "7b354541",
   "metadata": {},
   "source": [
    "### 9.추출적 요약 해보기"
   ]
  },
  {
   "cell_type": "markdown",
   "id": "33540ba6",
   "metadata": {},
   "source": [
    "#### 패키지 설치"
   ]
  },
  {
   "cell_type": "code",
   "execution_count": 50,
   "id": "afafdef4",
   "metadata": {},
   "outputs": [],
   "source": [
    "# $ pip list | grep summa"
   ]
  },
  {
   "cell_type": "markdown",
   "id": "37554a7c",
   "metadata": {},
   "source": [
    "#### 데이터 다운로드하기"
   ]
  },
  {
   "cell_type": "code",
   "execution_count": 51,
   "id": "2a13073f",
   "metadata": {},
   "outputs": [],
   "source": [
    "import requests\n",
    "from summa.summarizer import summarize"
   ]
  },
  {
   "cell_type": "code",
   "execution_count": 52,
   "id": "e0d2ef0f",
   "metadata": {},
   "outputs": [],
   "source": [
    "# 매트릭스 시놉시스를 다운로드\n",
    "text = requests.get('http://rare-technologies.com/the_matrix_synopsis.txt').text"
   ]
  },
  {
   "cell_type": "code",
   "execution_count": 53,
   "id": "181f3432",
   "metadata": {},
   "outputs": [
    {
     "name": "stdout",
     "output_type": "stream",
     "text": [
      "The screen is filled with green, cascading code which gives way to the title, The Matrix.\r\n",
      "\r\n",
      "A phone rings and text appears on the screen: \"Call trans opt: received. 2-19-98 13:24:18 REC: Log>\" As a conversation takes place between Trinity (Carrie-Anne Moss) and Cypher (Joe Pantoliano), two free humans, a table of random green numbers are being scanned and individual numbers selected, creating a series of digits not unlike an ordinary phone number, as if a code is being deciphered or a call is being traced.\r\n",
      "\r\n",
      "Trinity discusses some unknown person. Cypher taunts Trinity, suggesting she enjoys watching him. Trinity counters that \"Morpheus (Laurence Fishburne) says he may be 'the One',\" just as the sound of a number being selected alerts Trinity that someone may be tracing their call. She ends the call.\r\n",
      "\r\n",
      "Armed policemen move down a darkened, decrepit hallway in the Heart O' the City Hotel, their flashlight beam bouncing just ahead of them. They come to room 303, kick down the door and find a woman dressed in black, facing away from them. It's Trinity. She brings her hands up from the laptop she's working on at their command.\r\n",
      "\r\n",
      "Outside the hotel a car drives up and three agents appear in neatly pressed black suits. They are Agent Smith (Hugo Weaving), Agent Brown (Paul Goddard), and Agent Jones (Robert Taylor). Agent Smith and the presiding police lieutenant argue. Agent Smith admonishes the policeman that they were given specific orders to contact the agents first, for their\n"
     ]
    }
   ],
   "source": [
    "print(text[:1500])"
   ]
  },
  {
   "cell_type": "markdown",
   "id": "4b31d4ee",
   "metadata": {},
   "source": [
    "#### summarize 사용하기"
   ]
  },
  {
   "cell_type": "code",
   "execution_count": 54,
   "id": "8ed7bd85",
   "metadata": {},
   "outputs": [
    {
     "name": "stdout",
     "output_type": "stream",
     "text": [
      "Summary:\n",
      "Morpheus, Trinity, Neo, Apoc, Switch, Mouse and Cypher are jacked into the Matrix.\n",
      "Trinity brings the helicopter down to the floor that Morpheus is on and Neo opens fire on the three Agents.\n"
     ]
    }
   ],
   "source": [
    "print('Summary:')\n",
    "print(summarize(text, ratio=0.005))"
   ]
  },
  {
   "cell_type": "code",
   "execution_count": 55,
   "id": "b7e4fd47",
   "metadata": {},
   "outputs": [
    {
     "name": "stdout",
     "output_type": "stream",
     "text": [
      "Summary:\n",
      "['Morpheus, Trinity, Neo, Apoc, Switch, Mouse and Cypher are jacked into the Matrix.', 'Trinity brings the helicopter down to the floor that Morpheus is on and Neo opens fire on the three Agents.']\n"
     ]
    }
   ],
   "source": [
    "# 만약 리스트로 출력 결과를 받고 싶다면 split 인자의 값을 True로 하면 돼요.\n",
    "print('Summary:')\n",
    "print(summarize(text, ratio=0.005, split=True))"
   ]
  },
  {
   "cell_type": "code",
   "execution_count": 56,
   "id": "5c6130f4",
   "metadata": {},
   "outputs": [
    {
     "name": "stdout",
     "output_type": "stream",
     "text": [
      "Summary:\n",
      "Trinity takes Neo to Morpheus.\n",
      "Morpheus, Trinity, Neo, Apoc, Switch, Mouse and Cypher are jacked into the Matrix.\n",
      "Trinity brings the helicopter down to the floor that Morpheus is on and Neo opens fire on the three Agents.\n"
     ]
    }
   ],
   "source": [
    "print('Summary:')\n",
    "print(summarize(text, words=50))"
   ]
  },
  {
   "cell_type": "markdown",
   "id": "2234afa3",
   "metadata": {},
   "source": [
    "### 프로젝트: 뉴스기사 요약해보기"
   ]
  },
  {
   "cell_type": "code",
   "execution_count": 57,
   "id": "6aebfecd",
   "metadata": {},
   "outputs": [
    {
     "name": "stdout",
     "output_type": "stream",
     "text": [
      "3.6.5\n",
      "2.6.0\n",
      "1.2.0\n"
     ]
    }
   ],
   "source": [
    "from importlib.metadata import version\n",
    "import nltk\n",
    "import tensorflow\n",
    "import summa\n",
    "\n",
    "print(nltk.__version__)\n",
    "print(tensorflow.__version__)\n",
    "print(version('summa'))"
   ]
  },
  {
   "cell_type": "markdown",
   "id": "2ee26eb1",
   "metadata": {},
   "source": [
    "#### Step 1. 데이터 수집하기"
   ]
  },
  {
   "cell_type": "code",
   "execution_count": 58,
   "id": "fb81a880",
   "metadata": {},
   "outputs": [],
   "source": [
    "import urllib.request\n",
    "urllib.request.urlretrieve(\"https://raw.githubusercontent.com/sunnysai12345/News_Summary/master/news_summary_more.csv\", filename=\"news_summary_more.csv\")\n",
    "data = pd.read_csv('news_summary_more.csv', encoding='iso-8859-1')"
   ]
  },
  {
   "cell_type": "code",
   "execution_count": 59,
   "id": "e1041d65",
   "metadata": {},
   "outputs": [
    {
     "name": "stdout",
     "output_type": "stream",
     "text": [
      "전체 샘플수 : 98401\n"
     ]
    }
   ],
   "source": [
    "print('전체 샘플수 :', (len(data)))"
   ]
  },
  {
   "cell_type": "code",
   "execution_count": 60,
   "id": "b6fdb797",
   "metadata": {},
   "outputs": [
    {
     "name": "stdout",
     "output_type": "stream",
     "text": [
      "headlines    0\n",
      "text         0\n",
      "dtype: int64\n"
     ]
    }
   ],
   "source": [
    "print(data.isnull().sum())"
   ]
  },
  {
   "cell_type": "code",
   "execution_count": 61,
   "id": "f12cec1b",
   "metadata": {},
   "outputs": [
    {
     "data": {
      "text/html": [
       "<div>\n",
       "<style scoped>\n",
       "    .dataframe tbody tr th:only-of-type {\n",
       "        vertical-align: middle;\n",
       "    }\n",
       "\n",
       "    .dataframe tbody tr th {\n",
       "        vertical-align: top;\n",
       "    }\n",
       "\n",
       "    .dataframe thead th {\n",
       "        text-align: right;\n",
       "    }\n",
       "</style>\n",
       "<table border=\"1\" class=\"dataframe\">\n",
       "  <thead>\n",
       "    <tr style=\"text-align: right;\">\n",
       "      <th></th>\n",
       "      <th>headlines</th>\n",
       "      <th>text</th>\n",
       "    </tr>\n",
       "  </thead>\n",
       "  <tbody>\n",
       "    <tr>\n",
       "      <th>80114</th>\n",
       "      <td>Twitter users slam Karan, Varun, Saif for nepo...</td>\n",
       "      <td>Reacting to Karan Johar, Saif Ali Khan and Var...</td>\n",
       "    </tr>\n",
       "    <tr>\n",
       "      <th>42211</th>\n",
       "      <td>No issue being naked before white man: Ministe...</td>\n",
       "      <td>Union minister KJ Alphons on Sunday said India...</td>\n",
       "    </tr>\n",
       "    <tr>\n",
       "      <th>1909</th>\n",
       "      <td>YouTube bans dangerous challenges, dares like ...</td>\n",
       "      <td>YouTube has updated its creator guidelines tha...</td>\n",
       "    </tr>\n",
       "    <tr>\n",
       "      <th>96440</th>\n",
       "      <td>Rajput heads have agreed to cooperate for Padm...</td>\n",
       "      <td>Sanjay Leela Bhansali said that he has met som...</td>\n",
       "    </tr>\n",
       "    <tr>\n",
       "      <th>55399</th>\n",
       "      <td>HC rejects ex-Maharashtra CM's prosecution in ...</td>\n",
       "      <td>Bombay High Court on Friday set aside Maharash...</td>\n",
       "    </tr>\n",
       "    <tr>\n",
       "      <th>23203</th>\n",
       "      <td>Sonali stable, no complications in cancer trea...</td>\n",
       "      <td>Actress Sonali Bendre's husband Goldie Behl, w...</td>\n",
       "    </tr>\n",
       "    <tr>\n",
       "      <th>90474</th>\n",
       "      <td>Microsoft's next phone may not look like today...</td>\n",
       "      <td>Microsoft CEO Satya Nadella has said that the ...</td>\n",
       "    </tr>\n",
       "    <tr>\n",
       "      <th>59166</th>\n",
       "      <td>SEBI to probe earnings leak of 24 firms on Wha...</td>\n",
       "      <td>India's top two stock exchanges NSE and BSE ha...</td>\n",
       "    </tr>\n",
       "    <tr>\n",
       "      <th>83816</th>\n",
       "      <td>Ford India recalls over 39,000 Fiesta Classic,...</td>\n",
       "      <td>Ford on Friday recalled 39,315 units of Fiesta...</td>\n",
       "    </tr>\n",
       "    <tr>\n",
       "      <th>3697</th>\n",
       "      <td>Apple cuts its revenue forecast for the 1st ti...</td>\n",
       "      <td>Apple has cut its revenue forecast for the fir...</td>\n",
       "    </tr>\n",
       "    <tr>\n",
       "      <th>65638</th>\n",
       "      <td>French Army cargo plane crashes in Ivory Coast...</td>\n",
       "      <td>At least four people were killed and six other...</td>\n",
       "    </tr>\n",
       "    <tr>\n",
       "      <th>51104</th>\n",
       "      <td>Pentagon suggests countering cyber attacks wit...</td>\n",
       "      <td>A policy drafted by the US Department of Defen...</td>\n",
       "    </tr>\n",
       "    <tr>\n",
       "      <th>30587</th>\n",
       "      <td>Read joke on resort owner seeking to form K'ta...</td>\n",
       "      <td>During a hearing against BJP forming the Karna...</td>\n",
       "    </tr>\n",
       "    <tr>\n",
       "      <th>79528</th>\n",
       "      <td>Ahmedabad to celebrate 'Heritage City' status ...</td>\n",
       "      <td>The Gujarat government has decided to celebrat...</td>\n",
       "    </tr>\n",
       "    <tr>\n",
       "      <th>84960</th>\n",
       "      <td>Dear Botox please leave, pave way for self est...</td>\n",
       "      <td>Filmmaker Karan Johar, in a tweet addressed to...</td>\n",
       "    </tr>\n",
       "    <tr>\n",
       "      <th>92540</th>\n",
       "      <td>Barkha Singh quits Congress, criticises Rahul,...</td>\n",
       "      <td>Former Delhi Commission for Women chief Barkha...</td>\n",
       "    </tr>\n",
       "    <tr>\n",
       "      <th>74326</th>\n",
       "      <td>Ukraine removes all 1,320 statues of Lenin in ...</td>\n",
       "      <td>Ukraine has removed all 1,320 statues of the c...</td>\n",
       "    </tr>\n",
       "    <tr>\n",
       "      <th>87419</th>\n",
       "      <td>Bahurani aur hamari Rani: Big B on Aishwarya, ...</td>\n",
       "      <td>Actor Amitabh Bachchan has shared a picture of...</td>\n",
       "    </tr>\n",
       "    <tr>\n",
       "      <th>24063</th>\n",
       "      <td>Canada man legally changes gender for cheaper ...</td>\n",
       "      <td>A 23-year-old man in Canada legally changed hi...</td>\n",
       "    </tr>\n",
       "    <tr>\n",
       "      <th>7882</th>\n",
       "      <td>Bangladesh win a Test by an innings for the fi...</td>\n",
       "      <td>Bangladesh recorded their first ever innings v...</td>\n",
       "    </tr>\n",
       "    <tr>\n",
       "      <th>70357</th>\n",
       "      <td>Sad our actors wear sasti chaddi, tweets user ...</td>\n",
       "      <td>Reacting to a shirtless picture posted by acto...</td>\n",
       "    </tr>\n",
       "    <tr>\n",
       "      <th>81351</th>\n",
       "      <td>NSE resumes trading after halt due to major te...</td>\n",
       "      <td>India's premier exchange NSE suffered a seriou...</td>\n",
       "    </tr>\n",
       "    <tr>\n",
       "      <th>46302</th>\n",
       "      <td>IndiGo to shift flights to Delhi airport's T2 ...</td>\n",
       "      <td>IndiGo on Saturday said it will comply with th...</td>\n",
       "    </tr>\n",
       "    <tr>\n",
       "      <th>84006</th>\n",
       "      <td>Israel court bans making women change plane se...</td>\n",
       "      <td>Israeli airline El Al cannot request women to ...</td>\n",
       "    </tr>\n",
       "    <tr>\n",
       "      <th>10791</th>\n",
       "      <td>Man sets bike with 'HR 26 JAAT' plate ablaze w...</td>\n",
       "      <td>A man allegedly set fire to his motorcycle, wi...</td>\n",
       "    </tr>\n",
       "    <tr>\n",
       "      <th>32482</th>\n",
       "      <td>Delhi asks undertaking against office cars' us...</td>\n",
       "      <td>The Delhi government has directed its civil of...</td>\n",
       "    </tr>\n",
       "    <tr>\n",
       "      <th>36541</th>\n",
       "      <td>Chinese man caught smuggling 5 rhino horns jai...</td>\n",
       "      <td>A court in the Netherlands has awarded a one-y...</td>\n",
       "    </tr>\n",
       "    <tr>\n",
       "      <th>22038</th>\n",
       "      <td>Arjun Kapoor announces release date of 'India'...</td>\n",
       "      <td>Arjun Kapoor has announced the release date of...</td>\n",
       "    </tr>\n",
       "    <tr>\n",
       "      <th>61035</th>\n",
       "      <td>Girl stripped and filmed inside school premise...</td>\n",
       "      <td>A schoolgirl was allegedly stripped and filmed...</td>\n",
       "    </tr>\n",
       "    <tr>\n",
       "      <th>20947</th>\n",
       "      <td>Lifestyle plans to spend Ã¢ÂÂ¹200 crore to op...</td>\n",
       "      <td>Apparel retailer Lifestyle is planning to inve...</td>\n",
       "    </tr>\n",
       "    <tr>\n",
       "      <th>23429</th>\n",
       "      <td>French tennis player smashes 3 racquets in one...</td>\n",
       "      <td>French tennis player Benoit Paire smashed thre...</td>\n",
       "    </tr>\n",
       "    <tr>\n",
       "      <th>56007</th>\n",
       "      <td>Who are the CM candidates for BJP, Congress in...</td>\n",
       "      <td>Incumbent Himachal Pradesh CM Virbhadra Singh ...</td>\n",
       "    </tr>\n",
       "    <tr>\n",
       "      <th>90609</th>\n",
       "      <td>Bieber demands Rolls-Royce, backstage jacuzzi ...</td>\n",
       "      <td>For Justin Bieber's upcoming concert in Mumbai...</td>\n",
       "    </tr>\n",
       "    <tr>\n",
       "      <th>40660</th>\n",
       "      <td>India's Chanu broke 6 records in 6 attempts to...</td>\n",
       "      <td>Weightlifter Mirabai Chanu broke six records i...</td>\n",
       "    </tr>\n",
       "    <tr>\n",
       "      <th>81936</th>\n",
       "      <td>India don't play Pakistan team as they are sca...</td>\n",
       "      <td>Pakistan Cricket Board (PCB) chairman Shaharya...</td>\n",
       "    </tr>\n",
       "    <tr>\n",
       "      <th>15420</th>\n",
       "      <td>Was he a terrorist? Family of Apple exec shot ...</td>\n",
       "      <td>After Apple executive Vivek Tiwari was shot de...</td>\n",
       "    </tr>\n",
       "    <tr>\n",
       "      <th>53149</th>\n",
       "      <td>N Korea agrees to participate in Winter Olympi...</td>\n",
       "      <td>North Korea has agreed to send a delegation of...</td>\n",
       "    </tr>\n",
       "    <tr>\n",
       "      <th>1777</th>\n",
       "      <td>Akshay to play villain in Kamal Haasan's 'Indi...</td>\n",
       "      <td>Akshay Kumar will play the villain in the upco...</td>\n",
       "    </tr>\n",
       "    <tr>\n",
       "      <th>70698</th>\n",
       "      <td>UK parents sue school after it allowed boys to...</td>\n",
       "      <td>A Christian couple in UK is suing their son's ...</td>\n",
       "    </tr>\n",
       "    <tr>\n",
       "      <th>55840</th>\n",
       "      <td>Digital parenting startup Baby Destination rai...</td>\n",
       "      <td>Delhi-based maternity and parenting lifestyle ...</td>\n",
       "    </tr>\n",
       "    <tr>\n",
       "      <th>69453</th>\n",
       "      <td>Bigg Boss 11 shares glimpse of season's first ...</td>\n",
       "      <td>The makers of Bigg Boss 11 took to social medi...</td>\n",
       "    </tr>\n",
       "    <tr>\n",
       "      <th>9996</th>\n",
       "      <td>K'taka govt proposes to build 125-ft Mother Ca...</td>\n",
       "      <td>The Karnataka government has proposed to build...</td>\n",
       "    </tr>\n",
       "    <tr>\n",
       "      <th>62708</th>\n",
       "      <td>Don't make BJP win, give it 3/4th majority: PM...</td>\n",
       "      <td>Addressing a rally in Himachal Pradesh's Kangr...</td>\n",
       "    </tr>\n",
       "    <tr>\n",
       "      <th>40159</th>\n",
       "      <td>Our Dharamji is our Dharamji: Salman in take o...</td>\n",
       "      <td>Salman Khan shared a picture with Bobby Deol a...</td>\n",
       "    </tr>\n",
       "    <tr>\n",
       "      <th>67872</th>\n",
       "      <td>Jaitley wouldn't be there if I was a job appli...</td>\n",
       "      <td>Former Finance Minister Yashwant Sinha on Thur...</td>\n",
       "    </tr>\n",
       "    <tr>\n",
       "      <th>93435</th>\n",
       "      <td>West Indies all-rounder Russell planning to en...</td>\n",
       "      <td>Kolkata Knight Riders' West Indian all-rounder...</td>\n",
       "    </tr>\n",
       "    <tr>\n",
       "      <th>79095</th>\n",
       "      <td>Batsman hits six sixes in an over in England T...</td>\n",
       "      <td>Ross Whiteley, playing for first-class English...</td>\n",
       "    </tr>\n",
       "    <tr>\n",
       "      <th>59879</th>\n",
       "      <td>Why are Big B, SRK, Aamir silent over Padmavat...</td>\n",
       "      <td>Shatrughan Sinha, while speaking about the row...</td>\n",
       "    </tr>\n",
       "    <tr>\n",
       "      <th>47788</th>\n",
       "      <td>Russian troops asked to stop using social medi...</td>\n",
       "      <td>Warning that foreign intelligence services are...</td>\n",
       "    </tr>\n",
       "    <tr>\n",
       "      <th>94587</th>\n",
       "      <td>20 wedding guests die after boat sinks in Myanmar</td>\n",
       "      <td>Around 20 people died and 27 were rescued afte...</td>\n",
       "    </tr>\n",
       "  </tbody>\n",
       "</table>\n",
       "</div>"
      ],
      "text/plain": [
       "                                               headlines  \\\n",
       "80114  Twitter users slam Karan, Varun, Saif for nepo...   \n",
       "42211  No issue being naked before white man: Ministe...   \n",
       "1909   YouTube bans dangerous challenges, dares like ...   \n",
       "96440  Rajput heads have agreed to cooperate for Padm...   \n",
       "55399  HC rejects ex-Maharashtra CM's prosecution in ...   \n",
       "23203  Sonali stable, no complications in cancer trea...   \n",
       "90474  Microsoft's next phone may not look like today...   \n",
       "59166  SEBI to probe earnings leak of 24 firms on Wha...   \n",
       "83816  Ford India recalls over 39,000 Fiesta Classic,...   \n",
       "3697   Apple cuts its revenue forecast for the 1st ti...   \n",
       "65638  French Army cargo plane crashes in Ivory Coast...   \n",
       "51104  Pentagon suggests countering cyber attacks wit...   \n",
       "30587  Read joke on resort owner seeking to form K'ta...   \n",
       "79528  Ahmedabad to celebrate 'Heritage City' status ...   \n",
       "84960  Dear Botox please leave, pave way for self est...   \n",
       "92540  Barkha Singh quits Congress, criticises Rahul,...   \n",
       "74326  Ukraine removes all 1,320 statues of Lenin in ...   \n",
       "87419  Bahurani aur hamari Rani: Big B on Aishwarya, ...   \n",
       "24063  Canada man legally changes gender for cheaper ...   \n",
       "7882   Bangladesh win a Test by an innings for the fi...   \n",
       "70357  Sad our actors wear sasti chaddi, tweets user ...   \n",
       "81351  NSE resumes trading after halt due to major te...   \n",
       "46302  IndiGo to shift flights to Delhi airport's T2 ...   \n",
       "84006  Israel court bans making women change plane se...   \n",
       "10791  Man sets bike with 'HR 26 JAAT' plate ablaze w...   \n",
       "32482  Delhi asks undertaking against office cars' us...   \n",
       "36541  Chinese man caught smuggling 5 rhino horns jai...   \n",
       "22038  Arjun Kapoor announces release date of 'India'...   \n",
       "61035  Girl stripped and filmed inside school premise...   \n",
       "20947  Lifestyle plans to spend Ã¢ÂÂ¹200 crore to op...   \n",
       "23429  French tennis player smashes 3 racquets in one...   \n",
       "56007  Who are the CM candidates for BJP, Congress in...   \n",
       "90609  Bieber demands Rolls-Royce, backstage jacuzzi ...   \n",
       "40660  India's Chanu broke 6 records in 6 attempts to...   \n",
       "81936  India don't play Pakistan team as they are sca...   \n",
       "15420  Was he a terrorist? Family of Apple exec shot ...   \n",
       "53149  N Korea agrees to participate in Winter Olympi...   \n",
       "1777   Akshay to play villain in Kamal Haasan's 'Indi...   \n",
       "70698  UK parents sue school after it allowed boys to...   \n",
       "55840  Digital parenting startup Baby Destination rai...   \n",
       "69453  Bigg Boss 11 shares glimpse of season's first ...   \n",
       "9996   K'taka govt proposes to build 125-ft Mother Ca...   \n",
       "62708  Don't make BJP win, give it 3/4th majority: PM...   \n",
       "40159  Our Dharamji is our Dharamji: Salman in take o...   \n",
       "67872  Jaitley wouldn't be there if I was a job appli...   \n",
       "93435  West Indies all-rounder Russell planning to en...   \n",
       "79095  Batsman hits six sixes in an over in England T...   \n",
       "59879  Why are Big B, SRK, Aamir silent over Padmavat...   \n",
       "47788  Russian troops asked to stop using social medi...   \n",
       "94587  20 wedding guests die after boat sinks in Myanmar   \n",
       "\n",
       "                                                    text  \n",
       "80114  Reacting to Karan Johar, Saif Ali Khan and Var...  \n",
       "42211  Union minister KJ Alphons on Sunday said India...  \n",
       "1909   YouTube has updated its creator guidelines tha...  \n",
       "96440  Sanjay Leela Bhansali said that he has met som...  \n",
       "55399  Bombay High Court on Friday set aside Maharash...  \n",
       "23203  Actress Sonali Bendre's husband Goldie Behl, w...  \n",
       "90474  Microsoft CEO Satya Nadella has said that the ...  \n",
       "59166  India's top two stock exchanges NSE and BSE ha...  \n",
       "83816  Ford on Friday recalled 39,315 units of Fiesta...  \n",
       "3697   Apple has cut its revenue forecast for the fir...  \n",
       "65638  At least four people were killed and six other...  \n",
       "51104  A policy drafted by the US Department of Defen...  \n",
       "30587  During a hearing against BJP forming the Karna...  \n",
       "79528  The Gujarat government has decided to celebrat...  \n",
       "84960  Filmmaker Karan Johar, in a tweet addressed to...  \n",
       "92540  Former Delhi Commission for Women chief Barkha...  \n",
       "74326  Ukraine has removed all 1,320 statues of the c...  \n",
       "87419  Actor Amitabh Bachchan has shared a picture of...  \n",
       "24063  A 23-year-old man in Canada legally changed hi...  \n",
       "7882   Bangladesh recorded their first ever innings v...  \n",
       "70357  Reacting to a shirtless picture posted by acto...  \n",
       "81351  India's premier exchange NSE suffered a seriou...  \n",
       "46302  IndiGo on Saturday said it will comply with th...  \n",
       "84006  Israeli airline El Al cannot request women to ...  \n",
       "10791  A man allegedly set fire to his motorcycle, wi...  \n",
       "32482  The Delhi government has directed its civil of...  \n",
       "36541  A court in the Netherlands has awarded a one-y...  \n",
       "22038  Arjun Kapoor has announced the release date of...  \n",
       "61035  A schoolgirl was allegedly stripped and filmed...  \n",
       "20947  Apparel retailer Lifestyle is planning to inve...  \n",
       "23429  French tennis player Benoit Paire smashed thre...  \n",
       "56007  Incumbent Himachal Pradesh CM Virbhadra Singh ...  \n",
       "90609  For Justin Bieber's upcoming concert in Mumbai...  \n",
       "40660  Weightlifter Mirabai Chanu broke six records i...  \n",
       "81936  Pakistan Cricket Board (PCB) chairman Shaharya...  \n",
       "15420  After Apple executive Vivek Tiwari was shot de...  \n",
       "53149  North Korea has agreed to send a delegation of...  \n",
       "1777   Akshay Kumar will play the villain in the upco...  \n",
       "70698  A Christian couple in UK is suing their son's ...  \n",
       "55840  Delhi-based maternity and parenting lifestyle ...  \n",
       "69453  The makers of Bigg Boss 11 took to social medi...  \n",
       "9996   The Karnataka government has proposed to build...  \n",
       "62708  Addressing a rally in Himachal Pradesh's Kangr...  \n",
       "40159  Salman Khan shared a picture with Bobby Deol a...  \n",
       "67872  Former Finance Minister Yashwant Sinha on Thur...  \n",
       "93435  Kolkata Knight Riders' West Indian all-rounder...  \n",
       "79095  Ross Whiteley, playing for first-class English...  \n",
       "59879  Shatrughan Sinha, while speaking about the row...  \n",
       "47788  Warning that foreign intelligence services are...  \n",
       "94587  Around 20 people died and 27 were rescued afte...  "
      ]
     },
     "execution_count": 61,
     "metadata": {},
     "output_type": "execute_result"
    }
   ],
   "source": [
    "data.sample(50)"
   ]
  },
  {
   "cell_type": "code",
   "execution_count": 62,
   "id": "b3158b53",
   "metadata": {},
   "outputs": [
    {
     "name": "stdout",
     "output_type": "stream",
     "text": [
      "Headlines 열에서 중복을 배제한 유일한 샘플의 수 : 98280\n",
      "Text 열에서 중복을 배제한 유일한 샘플의 수 : 98360\n"
     ]
    }
   ],
   "source": [
    "print('Headlines 열에서 중복을 배제한 유일한 샘플의 수 :', data['headlines'].nunique())\n",
    "print('Text 열에서 중복을 배제한 유일한 샘플의 수 :', data['text'].nunique())"
   ]
  },
  {
   "cell_type": "markdown",
   "id": "21158b77",
   "metadata": {},
   "source": [
    "추상적 요약을 하는 경우에는 text를 본문, headlines를 이미 요약된 데이터로 삼아서 모델을 학습할 수 있어요. \n",
    "\n",
    "추출적 요약을 하는 경우에는 오직 text열만을 사용하세요."
   ]
  },
  {
   "cell_type": "markdown",
   "id": "182376ec",
   "metadata": {},
   "source": [
    "#### Step 2. 데이터 전처리하기 (추상적 요약)"
   ]
  },
  {
   "cell_type": "markdown",
   "id": "9faffccb",
   "metadata": {},
   "source": [
    "실습에서 사용된 전처리를 참고하여 각자 필요하다고 생각하는 전처리를 추가 사용하여 텍스트를 정규화 또는 정제해 보세요. 만약, 불용어 제거를 선택한다면 상대적으로 길이가 짧은 요약 데이터에 대해서도 불용어를 제거하는 것이 좋을지 고민해 보세요."
   ]
  },
  {
   "cell_type": "code",
   "execution_count": 63,
   "id": "00656b47",
   "metadata": {},
   "outputs": [
    {
     "name": "stdout",
     "output_type": "stream",
     "text": [
      "정규화 사전의 수:  120\n"
     ]
    }
   ],
   "source": [
    "contractions = {\"ain't\": \"is not\", \"aren't\": \"are not\",\"can't\": \"cannot\", \"'cause\": \"because\", \"could've\": \"could have\", \"couldn't\": \"could not\",\n",
    "                           \"didn't\": \"did not\",  \"doesn't\": \"does not\", \"don't\": \"do not\", \"hadn't\": \"had not\", \"hasn't\": \"has not\", \"haven't\": \"have not\",\n",
    "                           \"he'd\": \"he would\",\"he'll\": \"he will\", \"he's\": \"he is\", \"how'd\": \"how did\", \"how'd'y\": \"how do you\", \"how'll\": \"how will\", \"how's\": \"how is\",\n",
    "                           \"I'd\": \"I would\", \"I'd've\": \"I would have\", \"I'll\": \"I will\", \"I'll've\": \"I will have\",\"I'm\": \"I am\", \"I've\": \"I have\", \"i'd\": \"i would\",\n",
    "                           \"i'd've\": \"i would have\", \"i'll\": \"i will\",  \"i'll've\": \"i will have\",\"i'm\": \"i am\", \"i've\": \"i have\", \"isn't\": \"is not\", \"it'd\": \"it would\",\n",
    "                           \"it'd've\": \"it would have\", \"it'll\": \"it will\", \"it'll've\": \"it will have\",\"it's\": \"it is\", \"let's\": \"let us\", \"ma'am\": \"madam\",\n",
    "                           \"mayn't\": \"may not\", \"might've\": \"might have\",\"mightn't\": \"might not\",\"mightn't've\": \"might not have\", \"must've\": \"must have\",\n",
    "                           \"mustn't\": \"must not\", \"mustn't've\": \"must not have\", \"needn't\": \"need not\", \"needn't've\": \"need not have\",\"o'clock\": \"of the clock\",\n",
    "                           \"oughtn't\": \"ought not\", \"oughtn't've\": \"ought not have\", \"shan't\": \"shall not\", \"sha'n't\": \"shall not\", \"shan't've\": \"shall not have\",\n",
    "                           \"she'd\": \"she would\", \"she'd've\": \"she would have\", \"she'll\": \"she will\", \"she'll've\": \"she will have\", \"she's\": \"she is\",\n",
    "                           \"should've\": \"should have\", \"shouldn't\": \"should not\", \"shouldn't've\": \"should not have\", \"so've\": \"so have\",\"so's\": \"so as\",\n",
    "                           \"this's\": \"this is\",\"that'd\": \"that would\", \"that'd've\": \"that would have\", \"that's\": \"that is\", \"there'd\": \"there would\",\n",
    "                           \"there'd've\": \"there would have\", \"there's\": \"there is\", \"here's\": \"here is\",\"they'd\": \"they would\", \"they'd've\": \"they would have\",\n",
    "                           \"they'll\": \"they will\", \"they'll've\": \"they will have\", \"they're\": \"they are\", \"they've\": \"they have\", \"to've\": \"to have\",\n",
    "                           \"wasn't\": \"was not\", \"we'd\": \"we would\", \"we'd've\": \"we would have\", \"we'll\": \"we will\", \"we'll've\": \"we will have\", \"we're\": \"we are\",\n",
    "                           \"we've\": \"we have\", \"weren't\": \"were not\", \"what'll\": \"what will\", \"what'll've\": \"what will have\", \"what're\": \"what are\",\n",
    "                           \"what's\": \"what is\", \"what've\": \"what have\", \"when's\": \"when is\", \"when've\": \"when have\", \"where'd\": \"where did\", \"where's\": \"where is\",\n",
    "                           \"where've\": \"where have\", \"who'll\": \"who will\", \"who'll've\": \"who will have\", \"who's\": \"who is\", \"who've\": \"who have\",\n",
    "                           \"why's\": \"why is\", \"why've\": \"why have\", \"will've\": \"will have\", \"won't\": \"will not\", \"won't've\": \"will not have\",\n",
    "                           \"would've\": \"would have\", \"wouldn't\": \"would not\", \"wouldn't've\": \"would not have\", \"y'all\": \"you all\",\n",
    "                           \"y'all'd\": \"you all would\",\"y'all'd've\": \"you all would have\",\"y'all're\": \"you all are\",\"y'all've\": \"you all have\",\n",
    "                           \"you'd\": \"you would\", \"you'd've\": \"you would have\", \"you'll\": \"you will\", \"you'll've\": \"you will have\",\n",
    "                           \"you're\": \"you are\", \"you've\": \"you have\"}\n",
    "\n",
    "print(\"정규화 사전의 수: \", len(contractions))"
   ]
  },
  {
   "cell_type": "code",
   "execution_count": 64,
   "id": "f91f2724",
   "metadata": {},
   "outputs": [
    {
     "name": "stdout",
     "output_type": "stream",
     "text": [
      "불용어 개수 : 179\n",
      "['i', 'me', 'my', 'myself', 'we', 'our', 'ours', 'ourselves', 'you', \"you're\", \"you've\", \"you'll\", \"you'd\", 'your', 'yours', 'yourself', 'yourselves', 'he', 'him', 'his', 'himself', 'she', \"she's\", 'her', 'hers', 'herself', 'it', \"it's\", 'its', 'itself', 'they', 'them', 'their', 'theirs', 'themselves', 'what', 'which', 'who', 'whom', 'this', 'that', \"that'll\", 'these', 'those', 'am', 'is', 'are', 'was', 'were', 'be', 'been', 'being', 'have', 'has', 'had', 'having', 'do', 'does', 'did', 'doing', 'a', 'an', 'the', 'and', 'but', 'if', 'or', 'because', 'as', 'until', 'while', 'of', 'at', 'by', 'for', 'with', 'about', 'against', 'between', 'into', 'through', 'during', 'before', 'after', 'above', 'below', 'to', 'from', 'up', 'down', 'in', 'out', 'on', 'off', 'over', 'under', 'again', 'further', 'then', 'once', 'here', 'there', 'when', 'where', 'why', 'how', 'all', 'any', 'both', 'each', 'few', 'more', 'most', 'other', 'some', 'such', 'no', 'nor', 'not', 'only', 'own', 'same', 'so', 'than', 'too', 'very', 's', 't', 'can', 'will', 'just', 'don', \"don't\", 'should', \"should've\", 'now', 'd', 'll', 'm', 'o', 're', 've', 'y', 'ain', 'aren', \"aren't\", 'couldn', \"couldn't\", 'didn', \"didn't\", 'doesn', \"doesn't\", 'hadn', \"hadn't\", 'hasn', \"hasn't\", 'haven', \"haven't\", 'isn', \"isn't\", 'ma', 'mightn', \"mightn't\", 'mustn', \"mustn't\", 'needn', \"needn't\", 'shan', \"shan't\", 'shouldn', \"shouldn't\", 'wasn', \"wasn't\", 'weren', \"weren't\", 'won', \"won't\", 'wouldn', \"wouldn't\"]\n"
     ]
    }
   ],
   "source": [
    "print('불용어 개수 :', len(stopwords.words('english') ))\n",
    "print(stopwords.words('english'))"
   ]
  },
  {
   "cell_type": "code",
   "execution_count": 65,
   "id": "4427e8ff",
   "metadata": {},
   "outputs": [
    {
     "name": "stdout",
     "output_type": "stream",
     "text": [
      "--\n"
     ]
    }
   ],
   "source": [
    "# 데이터 전처리 함수\n",
    "def preprocess_sentence(sentence, remove_stopwords=True):\n",
    "    sentence = sentence.lower() # 텍스트 소문자화\n",
    "    sentence = BeautifulSoup(sentence, \"lxml\").text # <br />, <a href = ...> 등의 html 태그 제거\n",
    "    sentence = re.sub(r'\\([^)]*\\)', '', sentence) # 괄호로 닫힌 문자열 (...) 제거 Ex) my husband (and myself!) for => my husband for\n",
    "    sentence = re.sub('\"','', sentence) # 쌍따옴표 \" 제거\n",
    "    sentence = ' '.join([contractions[t] if t in contractions else t for t in sentence.split(\" \")]) # 약어 정규화\n",
    "    sentence = re.sub(r\"'s\\b\",\"\", sentence) # 소유격 제거. Ex) roland's -> roland\n",
    "    sentence = re.sub(\"[^a-zA-Z]\", \" \", sentence) # 영어 외 문자(숫자, 특수문자 등) 공백으로 변환\n",
    "#     sentence = re.sub('[m]{2,}', 'mm', sentence) # m이 3개 이상이면 2개로 변경. Ex) ummmmmmm yeah -> umm yeah\n",
    "    \n",
    "    # 불용어 제거 (Text)\n",
    "    if remove_stopwords:\n",
    "        tokens = ' '.join(word for word in sentence.split() if not word in stopwords.words('english') if len(word) > 1)\n",
    "    # 불용어 미제거 (Summary)\n",
    "    else:\n",
    "        tokens = ' '.join(word for word in sentence.split() if len(word) > 1)\n",
    "    return tokens\n",
    "print('--')"
   ]
  },
  {
   "cell_type": "code",
   "execution_count": 66,
   "id": "9bc240d1",
   "metadata": {},
   "outputs": [
    {
     "data": {
      "text/plain": [
       "'Delhi techie wins free food from Swiggy for one year on CRED'"
      ]
     },
     "execution_count": 66,
     "metadata": {},
     "output_type": "execute_result"
    }
   ],
   "source": [
    "data.sample(1)\n",
    "data['headlines'][1]"
   ]
  },
  {
   "cell_type": "code",
   "execution_count": 67,
   "id": "2ade81be",
   "metadata": {},
   "outputs": [
    {
     "name": "stdout",
     "output_type": "stream",
     "text": [
      "Saurav Kant, an alumnus of upGrad and IIIT-B's PG Program in Machine learning and Artificial Intelligence, was a Sr Systems Engineer at Infosys with almost 5 years of work experience. The program and upGrad's 360-degree career support helped him transition to a Data Scientist at Tech Mahindra with 90% salary hike. upGrad's Online Power Learning has powered 3 lakh+ careers.\n",
      "upGrad learner switches to career in ML & Al with 90% salary hike\n",
      "\n",
      "saurav kant alumnus upgrad iiit pg program machine learning artificial intelligence sr systems engineer infosys almost years work experience program upgrad degree career support helped transition data scientist tech mahindra salary hike upgrad online power learning powered lakh careers\n",
      "upgrad learner switches to career in ml al with salary hike\n"
     ]
    }
   ],
   "source": [
    "temp_text = data['text'][0]\n",
    "temp_headlines = data['headlines'][0]\n",
    "\n",
    "print(temp_text)\n",
    "print(temp_headlines)\n",
    "print()\n",
    "print(preprocess_sentence(temp_text))\n",
    "print(preprocess_sentence(temp_headlines, False))  # 불용어를 제거하지 않습니다."
   ]
  },
  {
   "cell_type": "code",
   "execution_count": 68,
   "id": "88443fda",
   "metadata": {},
   "outputs": [
    {
     "data": {
      "text/plain": [
       "['saurav kant alumnus upgrad iiit pg program machine learning artificial intelligence sr systems engineer infosys almost years work experience program upgrad degree career support helped transition data scientist tech mahindra salary hike upgrad online power learning powered lakh careers',\n",
       " 'kunal shah credit card bill payment platform cred gave users chance win free food swiggy one year pranav kaushik delhi techie bagged reward spending cred coins users get one cred coin per rupee bill paid used avail rewards brands like ixigo bookmyshow ubereats cult fit',\n",
       " 'new zealand defeated india wickets fourth odi hamilton thursday win first match five match odi series india lost international match rohit sharma captaincy consecutive victories dating back march match witnessed india getting seventh lowest total odi cricket history',\n",
       " 'aegon life iterm insurance plan customers enjoy tax benefits premiums paid save taxes plan provides life cover age years also customers options insure critical illnesses disability accidental death benefit rider life cover age years',\n",
       " 'speaking sexual harassment allegations rajkumar hirani sonam kapoor said known hirani many years true metoo movement get derailed metoo movement always believe woman case need reserve judgment added hirani accused assistant worked sanju']"
      ]
     },
     "execution_count": 68,
     "metadata": {},
     "output_type": "execute_result"
    }
   ],
   "source": [
    "clean_text = []\n",
    "\n",
    "# 전체 Text 데이터에 대한 전처리 : 10분 이상 시간이 걸릴 수 있습니다. \n",
    "for s in data['text']:\n",
    "    clean_text.append(preprocess_sentence(s))\n",
    "\n",
    "# 전처리 후 출력\n",
    "clean_text[:5]"
   ]
  },
  {
   "cell_type": "code",
   "execution_count": 69,
   "id": "b70cbdf6",
   "metadata": {},
   "outputs": [
    {
     "data": {
      "text/plain": [
       "['upgrad learner switches to career in ml al with salary hike',\n",
       " 'delhi techie wins free food from swiggy for one year on cred',\n",
       " 'new zealand end rohit sharma led india match winning streak',\n",
       " 'aegon life iterm insurance plan helps customers save tax',\n",
       " 'have known hirani for yrs what if metoo claims are not true sonam']"
      ]
     },
     "execution_count": 69,
     "metadata": {},
     "output_type": "execute_result"
    }
   ],
   "source": [
    "clean_headlines = []\n",
    "\n",
    "# 전체 Summary 데이터에 대한 전처리 : 5분 이상 시간이 걸릴 수 있습니다. \n",
    "for s in data['headlines']:\n",
    "    clean_headlines.append(preprocess_sentence(s, False))\n",
    "\n",
    "clean_headlines[:5]"
   ]
  },
  {
   "cell_type": "code",
   "execution_count": 70,
   "id": "d89653fc",
   "metadata": {},
   "outputs": [],
   "source": [
    "data['text'] = clean_text\n",
    "data['headlines'] = clean_headlines\n",
    "\n",
    "# 빈 값을 Null 값으로 변환\n",
    "data.replace('', np.nan, inplace=True)"
   ]
  },
  {
   "cell_type": "code",
   "execution_count": 71,
   "id": "75ec7c8f",
   "metadata": {},
   "outputs": [
    {
     "data": {
      "text/plain": [
       "headlines    0\n",
       "text         0\n",
       "dtype: int64"
      ]
     },
     "execution_count": 71,
     "metadata": {},
     "output_type": "execute_result"
    }
   ],
   "source": [
    " data.isnull().sum()"
   ]
  },
  {
   "cell_type": "code",
   "execution_count": 72,
   "id": "aeaee333",
   "metadata": {},
   "outputs": [
    {
     "name": "stdout",
     "output_type": "stream",
     "text": [
      "전체 샘플수 : 98401\n"
     ]
    }
   ],
   "source": [
    "data.dropna(axis=0, inplace=True)\n",
    "print('전체 샘플수 :',(len(data)))#데이터 전처리 함수"
   ]
  },
  {
   "cell_type": "code",
   "execution_count": 73,
   "id": "800633d1",
   "metadata": {},
   "outputs": [
    {
     "name": "stdout",
     "output_type": "stream",
     "text": [
      "텍스트의 최소 길이 : 1\n",
      "텍스트의 최대 길이 : 60\n",
      "텍스트의 평균 길이 : 35.09983638377659\n",
      "요약의 최소 길이 : 1\n",
      "요약의 최대 길이 : 16\n",
      "요약의 평균 길이 : 9.299651426306644\n"
     ]
    },
    {
     "data": {
      "image/png": "[encoded data removed]",
      "text/plain": [
       "<Figure size 432x288 with 2 Axes>"
      ]
     },
     "metadata": {
      "needs_background": "light"
     },
     "output_type": "display_data"
    },
    {
     "data": {
      "image/png": "[encoded data removed]",
      "text/plain": [
       "<Figure size 432x288 with 1 Axes>"
      ]
     },
     "metadata": {
      "needs_background": "light"
     },
     "output_type": "display_data"
    },
    {
     "data": {
      "image/png": "[encoded data removed]",
      "text/plain": [
       "<Figure size 432x288 with 1 Axes>"
      ]
     },
     "metadata": {
      "needs_background": "light"
     },
     "output_type": "display_data"
    }
   ],
   "source": [
    "# 길이 분포 출력\n",
    "\n",
    "text_len = [len(s.split()) for s in data['text']]\n",
    "headlines_len = [len(s.split()) for s in data['headlines']]\n",
    "\n",
    "print('텍스트의 최소 길이 : {}'.format(np.min(text_len)))\n",
    "print('텍스트의 최대 길이 : {}'.format(np.max(text_len)))\n",
    "print('텍스트의 평균 길이 : {}'.format(np.mean(text_len)))\n",
    "print('요약의 최소 길이 : {}'.format(np.min(headlines_len)))\n",
    "print('요약의 최대 길이 : {}'.format(np.max(headlines_len)))\n",
    "print('요약의 평균 길이 : {}'.format(np.mean(headlines_len)))\n",
    "\n",
    "plt.subplot(1,2,1)\n",
    "plt.boxplot(headlines_len)\n",
    "plt.title('headlines')\n",
    "plt.subplot(1,2,2)\n",
    "plt.boxplot(text_len)\n",
    "plt.title('Text')\n",
    "plt.tight_layout()\n",
    "plt.show()\n",
    "\n",
    "plt.title('headlines')\n",
    "plt.hist(headlines_len, bins = 40)\n",
    "plt.xlabel('length of samples')\n",
    "plt.ylabel('number of samples')\n",
    "plt.show()\n",
    "\n",
    "plt.title('Text')\n",
    "plt.hist(text_len, bins = 40)\n",
    "plt.xlabel('length of samples')\n",
    "plt.ylabel('number of samples')\n",
    "plt.show()"
   ]
  },
  {
   "cell_type": "code",
   "execution_count": 74,
   "id": "cc52519e",
   "metadata": {},
   "outputs": [],
   "source": [
    "text_max_len = 50\n",
    "headlines_max_len = 8"
   ]
  },
  {
   "cell_type": "code",
   "execution_count": 75,
   "id": "782724c6",
   "metadata": {},
   "outputs": [],
   "source": [
    "def below_threshold_len(max_len, nested_list):\n",
    "  cnt = 0\n",
    "  for s in nested_list:\n",
    "    if(len(s.split()) <= max_len):\n",
    "        cnt = cnt + 1\n",
    "  print('전체 샘플 중 길이가 %s 이하인 샘플의 비율: %s'%(max_len, (cnt / len(nested_list))))"
   ]
  },
  {
   "cell_type": "code",
   "execution_count": 76,
   "id": "2b49d010",
   "metadata": {},
   "outputs": [
    {
     "name": "stdout",
     "output_type": "stream",
     "text": [
      "전체 샘플 중 길이가 50 이하인 샘플의 비율: 0.9998577250231196\n",
      "전체 샘플 중 길이가 8 이하인 샘플의 비율: 0.2755358177254296\n"
     ]
    }
   ],
   "source": [
    "below_threshold_len(text_max_len, data['text'])\n",
    "below_threshold_len(headlines_max_len,  data['headlines'])"
   ]
  },
  {
   "cell_type": "code",
   "execution_count": 77,
   "id": "6c16cf4d",
   "metadata": {},
   "outputs": [
    {
     "name": "stdout",
     "output_type": "stream",
     "text": [
      "전체 샘플수 : 27113\n"
     ]
    }
   ],
   "source": [
    "data = data[data['text'].apply(lambda x: len(x.split()) <= text_max_len)]\n",
    "data = data[data['headlines'].apply(lambda x: len(x.split()) <= headlines_max_len)]\n",
    "print('전체 샘플수 :',(len(data)))"
   ]
  },
  {
   "cell_type": "code",
   "execution_count": 78,
   "id": "61380ade",
   "metadata": {},
   "outputs": [
    {
     "data": {
      "text/html": [
       "<div>\n",
       "<style scoped>\n",
       "    .dataframe tbody tr th:only-of-type {\n",
       "        vertical-align: middle;\n",
       "    }\n",
       "\n",
       "    .dataframe tbody tr th {\n",
       "        vertical-align: top;\n",
       "    }\n",
       "\n",
       "    .dataframe thead th {\n",
       "        text-align: right;\n",
       "    }\n",
       "</style>\n",
       "<table border=\"1\" class=\"dataframe\">\n",
       "  <thead>\n",
       "    <tr style=\"text-align: right;\">\n",
       "      <th></th>\n",
       "      <th>headlines</th>\n",
       "      <th>text</th>\n",
       "      <th>decoder_input</th>\n",
       "      <th>decoder_target</th>\n",
       "    </tr>\n",
       "  </thead>\n",
       "  <tbody>\n",
       "    <tr>\n",
       "      <th>19</th>\n",
       "      <td>odisha cm patnaik controls mining mafia union ...</td>\n",
       "      <td>union minister dharmendra pradhan wednesday cl...</td>\n",
       "      <td>sostoken odisha cm patnaik controls mining maf...</td>\n",
       "      <td>odisha cm patnaik controls mining mafia union ...</td>\n",
       "    </tr>\n",
       "    <tr>\n",
       "      <th>21</th>\n",
       "      <td>isro unveils bengaluru centre for manned space...</td>\n",
       "      <td>indian space research organisation wednesday u...</td>\n",
       "      <td>sostoken isro unveils bengaluru centre for man...</td>\n",
       "      <td>isro unveils bengaluru centre for manned space...</td>\n",
       "    </tr>\n",
       "    <tr>\n",
       "      <th>22</th>\n",
       "      <td>killed injured in saudi arabia floods</td>\n",
       "      <td>least people killed others injured saudi arabi...</td>\n",
       "      <td>sostoken killed injured in saudi arabia floods</td>\n",
       "      <td>killed injured in saudi arabia floods eostoken</td>\n",
       "    </tr>\n",
       "    <tr>\n",
       "      <th>29</th>\n",
       "      <td>seat cushions from missing plane carrying foot...</td>\n",
       "      <td>investigators searching lost plane carrying ar...</td>\n",
       "      <td>sostoken seat cushions from missing plane carr...</td>\n",
       "      <td>seat cushions from missing plane carrying foot...</td>\n",
       "    </tr>\n",
       "    <tr>\n",
       "      <th>36</th>\n",
       "      <td>agustawestland scam accused rajiv saxena extra...</td>\n",
       "      <td>agustawestland chopper scam co accused rajiv s...</td>\n",
       "      <td>sostoken agustawestland scam accused rajiv sax...</td>\n",
       "      <td>agustawestland scam accused rajiv saxena extra...</td>\n",
       "    </tr>\n",
       "  </tbody>\n",
       "</table>\n",
       "</div>"
      ],
      "text/plain": [
       "                                            headlines  \\\n",
       "19  odisha cm patnaik controls mining mafia union ...   \n",
       "21  isro unveils bengaluru centre for manned space...   \n",
       "22              killed injured in saudi arabia floods   \n",
       "29  seat cushions from missing plane carrying foot...   \n",
       "36  agustawestland scam accused rajiv saxena extra...   \n",
       "\n",
       "                                                 text  \\\n",
       "19  union minister dharmendra pradhan wednesday cl...   \n",
       "21  indian space research organisation wednesday u...   \n",
       "22  least people killed others injured saudi arabi...   \n",
       "29  investigators searching lost plane carrying ar...   \n",
       "36  agustawestland chopper scam co accused rajiv s...   \n",
       "\n",
       "                                        decoder_input  \\\n",
       "19  sostoken odisha cm patnaik controls mining maf...   \n",
       "21  sostoken isro unveils bengaluru centre for man...   \n",
       "22     sostoken killed injured in saudi arabia floods   \n",
       "29  sostoken seat cushions from missing plane carr...   \n",
       "36  sostoken agustawestland scam accused rajiv sax...   \n",
       "\n",
       "                                       decoder_target  \n",
       "19  odisha cm patnaik controls mining mafia union ...  \n",
       "21  isro unveils bengaluru centre for manned space...  \n",
       "22     killed injured in saudi arabia floods eostoken  \n",
       "29  seat cushions from missing plane carrying foot...  \n",
       "36  agustawestland scam accused rajiv saxena extra...  "
      ]
     },
     "execution_count": 78,
     "metadata": {},
     "output_type": "execute_result"
    }
   ],
   "source": [
    "#요약 데이터에는 시작 토큰과 종료 토큰을 추가한다.\n",
    "data['decoder_input'] = data['headlines'].apply(lambda x : 'sostoken '+ x)\n",
    "data['decoder_target'] = data['headlines'].apply(lambda x : x + ' eostoken')\n",
    "data.head()"
   ]
  },
  {
   "cell_type": "code",
   "execution_count": 79,
   "id": "3e359b93",
   "metadata": {},
   "outputs": [],
   "source": [
    "encoder_input = np.array(data['text']) # 인코더의 입력\n",
    "decoder_input = np.array(data['decoder_input']) # 디코더의 입력\n",
    "decoder_target = np.array(data['decoder_target']) # 디코더의 레이블"
   ]
  },
  {
   "cell_type": "code",
   "execution_count": 80,
   "id": "a5468544",
   "metadata": {},
   "outputs": [
    {
     "name": "stdout",
     "output_type": "stream",
     "text": [
      "[10487  7703 21990 ... 11264  2587  2251]\n"
     ]
    }
   ],
   "source": [
    "indices = np.arange(encoder_input.shape[0])\n",
    "np.random.shuffle(indices)\n",
    "print(indices)"
   ]
  },
  {
   "cell_type": "code",
   "execution_count": 81,
   "id": "71653529",
   "metadata": {},
   "outputs": [],
   "source": [
    "encoder_input = encoder_input[indices]\n",
    "decoder_input = decoder_input[indices]\n",
    "decoder_target = decoder_target[indices]"
   ]
  },
  {
   "cell_type": "code",
   "execution_count": 82,
   "id": "4436c39d",
   "metadata": {},
   "outputs": [
    {
     "name": "stdout",
     "output_type": "stream",
     "text": [
      "테스트 데이터의 수 : 5422\n"
     ]
    }
   ],
   "source": [
    "n_of_val = int(len(encoder_input)*0.2)\n",
    "print('테스트 데이터의 수 :',n_of_val)"
   ]
  },
  {
   "cell_type": "code",
   "execution_count": 83,
   "id": "2bec6020",
   "metadata": {},
   "outputs": [
    {
     "name": "stdout",
     "output_type": "stream",
     "text": [
      "훈련 데이터의 개수 : 21691\n",
      "훈련 레이블의 개수 : 21691\n",
      "테스트 데이터의 개수 : 5422\n",
      "테스트 레이블의 개수 : 5422\n"
     ]
    }
   ],
   "source": [
    "encoder_input_train = encoder_input[:-n_of_val]\n",
    "decoder_input_train = decoder_input[:-n_of_val]\n",
    "decoder_target_train = decoder_target[:-n_of_val]\n",
    "\n",
    "encoder_input_test = encoder_input[-n_of_val:]\n",
    "decoder_input_test = decoder_input[-n_of_val:]\n",
    "decoder_target_test = decoder_target[-n_of_val:]\n",
    "\n",
    "print('훈련 데이터의 개수 :', len(encoder_input_train))\n",
    "print('훈련 레이블의 개수 :',len(decoder_input_train))\n",
    "print('테스트 데이터의 개수 :',len(encoder_input_test))\n",
    "print('테스트 레이블의 개수 :',len(decoder_input_test))"
   ]
  },
  {
   "cell_type": "code",
   "execution_count": 84,
   "id": "10ba90d5",
   "metadata": {},
   "outputs": [],
   "source": [
    "src_tokenizer = Tokenizer() # 토크나이저 정의\n",
    "src_tokenizer.fit_on_texts(encoder_input_train) # 입력된 데이터로부터 단어 집합 생성"
   ]
  },
  {
   "cell_type": "code",
   "execution_count": 85,
   "id": "59865bcb",
   "metadata": {},
   "outputs": [
    {
     "name": "stdout",
     "output_type": "stream",
     "text": [
      "단어 집합(vocabulary)의 크기 : 42502\n",
      "등장 빈도가 6번 이하인 희귀 단어의 수: 30729\n",
      "단어 집합에서 희귀 단어를 제외시킬 경우의 단어 집합의 크기 11773\n",
      "단어 집합에서 희귀 단어의 비율: 72.30012705284457\n",
      "전체 등장 빈도에서 희귀 단어 등장 빈도 비율: 8.248036306969436\n"
     ]
    }
   ],
   "source": [
    "threshold = 7\n",
    "total_cnt = len(src_tokenizer.word_index) # 단어의 수\n",
    "rare_cnt = 0 # 등장 빈도수가 threshold보다 작은 단어의 개수를 카운트\n",
    "total_freq = 0 # 훈련 데이터의 전체 단어 빈도수 총 합\n",
    "rare_freq = 0 # 등장 빈도수가 threshold보다 작은 단어의 등장 빈도수의 총 합\n",
    "\n",
    "# 단어와 빈도수의 쌍(pair)을 key와 value로 받는다.\n",
    "for key, value in src_tokenizer.word_counts.items():\n",
    "    total_freq = total_freq + value\n",
    "\n",
    "    # 단어의 등장 빈도수가 threshold보다 작으면\n",
    "    if(value < threshold):\n",
    "        rare_cnt = rare_cnt + 1\n",
    "        rare_freq = rare_freq + value\n",
    "\n",
    "print('단어 집합(vocabulary)의 크기 :',total_cnt)\n",
    "print('등장 빈도가 %s번 이하인 희귀 단어의 수: %s'%(threshold - 1, rare_cnt))\n",
    "print('단어 집합에서 희귀 단어를 제외시킬 경우의 단어 집합의 크기 %s'%(total_cnt - rare_cnt))\n",
    "print(\"단어 집합에서 희귀 단어의 비율:\", (rare_cnt / total_cnt)*100)\n",
    "print(\"전체 등장 빈도에서 희귀 단어 등장 빈도 비율:\", (rare_freq / total_freq)*100)"
   ]
  },
  {
   "cell_type": "code",
   "execution_count": 86,
   "id": "1199a9eb",
   "metadata": {},
   "outputs": [],
   "source": [
    "src_vocab = 8000\n",
    "src_tokenizer = Tokenizer(num_words = src_vocab) # 단어 집합의 크기를 8,000으로 제한\n",
    "src_tokenizer.fit_on_texts(encoder_input_train) # 단어 집합 재생성."
   ]
  },
  {
   "cell_type": "code",
   "execution_count": 87,
   "id": "342030fc",
   "metadata": {},
   "outputs": [
    {
     "name": "stdout",
     "output_type": "stream",
     "text": [
      "[[402, 394, 3, 169, 6215, 354, 37, 1087, 299, 370, 971, 169, 6215, 687, 6216, 670, 412, 1290, 7, 3968, 370, 971, 261, 3617, 299, 134, 340, 971, 1996, 402, 972], [730, 464, 118, 515, 20, 2880, 1363, 286, 7420, 431, 672, 3969, 431, 72, 65, 1526, 1827, 72, 2330, 4908, 1527, 127, 337, 4536, 6767, 5388, 1], [3970, 58, 4178, 3198, 101, 272, 1334, 130, 50, 58, 255, 2599, 3857, 3471, 5764, 48, 52, 925, 1078, 123, 3382, 391, 396, 3198, 2504, 7048, 3970]]\n"
     ]
    }
   ],
   "source": [
    "# 텍스트 시퀀스를 정수 시퀀스로 변환\n",
    "encoder_input_train = src_tokenizer.texts_to_sequences(encoder_input_train) \n",
    "encoder_input_test = src_tokenizer.texts_to_sequences(encoder_input_test)\n",
    "\n",
    "#잘 진행되었는지 샘플 출력\n",
    "print(encoder_input_train[:3])"
   ]
  },
  {
   "cell_type": "code",
   "execution_count": 88,
   "id": "9c941961",
   "metadata": {},
   "outputs": [],
   "source": [
    "tar_tokenizer = Tokenizer()\n",
    "tar_tokenizer.fit_on_texts(decoder_input_train)"
   ]
  },
  {
   "cell_type": "code",
   "execution_count": 89,
   "id": "8039c283",
   "metadata": {},
   "outputs": [
    {
     "name": "stdout",
     "output_type": "stream",
     "text": [
      "단어 집합(vocabulary)의 크기 : 18889\n",
      "등장 빈도가 5번 이하인 희귀 단어의 수: 14218\n",
      "단어 집합에서 희귀 단어를 제외시킬 경우의 단어 집합의 크기 4671\n",
      "단어 집합에서 희귀 단어의 비율: 75.27132193340039\n",
      "전체 등장 빈도에서 희귀 단어 등장 빈도 비율: 14.114914661488784\n"
     ]
    }
   ],
   "source": [
    "threshold = 6\n",
    "total_cnt = len(tar_tokenizer.word_index) # 단어의 수\n",
    "rare_cnt = 0 # 등장 빈도수가 threshold보다 작은 단어의 개수를 카운트\n",
    "total_freq = 0 # 훈련 데이터의 전체 단어 빈도수 총 합\n",
    "rare_freq = 0 # 등장 빈도수가 threshold보다 작은 단어의 등장 빈도수의 총 합\n",
    "\n",
    "# 단어와 빈도수의 쌍(pair)을 key와 value로 받는다.\n",
    "for key, value in tar_tokenizer.word_counts.items():\n",
    "    total_freq = total_freq + value\n",
    "\n",
    "    # 단어의 등장 빈도수가 threshold보다 작으면\n",
    "    if(value < threshold):\n",
    "        rare_cnt = rare_cnt + 1\n",
    "        rare_freq = rare_freq + value\n",
    "\n",
    "print('단어 집합(vocabulary)의 크기 :',total_cnt)\n",
    "print('등장 빈도가 %s번 이하인 희귀 단어의 수: %s'%(threshold - 1, rare_cnt))\n",
    "print('단어 집합에서 희귀 단어를 제외시킬 경우의 단어 집합의 크기 %s'%(total_cnt - rare_cnt))\n",
    "print(\"단어 집합에서 희귀 단어의 비율:\", (rare_cnt / total_cnt)*100)\n",
    "print(\"전체 등장 빈도에서 희귀 단어 등장 빈도 비율:\", (rare_freq / total_freq)*100)"
   ]
  },
  {
   "cell_type": "code",
   "execution_count": 90,
   "id": "288dac97",
   "metadata": {},
   "outputs": [
    {
     "name": "stdout",
     "output_type": "stream",
     "text": [
      "input\n",
      "input  [[1, 314, 1201, 601, 1844, 4, 1459], [1, 602, 1308, 27, 6], [1, 25, 1541, 287, 6, 67], [1, 857, 409, 4, 1309], [1, 63, 362, 13, 9, 268]]\n",
      "target\n",
      "decoder  [[314, 1201, 601, 1844, 4, 1459, 2], [602, 1308, 27, 6, 2], [25, 1541, 287, 6, 67, 2], [857, 409, 4, 1309, 2], [63, 362, 13, 9, 268, 2]]\n"
     ]
    }
   ],
   "source": [
    "tar_vocab = 2000\n",
    "tar_tokenizer = Tokenizer(num_words = tar_vocab) \n",
    "tar_tokenizer.fit_on_texts(decoder_input_train)\n",
    "tar_tokenizer.fit_on_texts(decoder_target_train)\n",
    "\n",
    "# 텍스트 시퀀스를 정수 시퀀스로 변환\n",
    "decoder_input_train = tar_tokenizer.texts_to_sequences(decoder_input_train) \n",
    "decoder_target_train = tar_tokenizer.texts_to_sequences(decoder_target_train)\n",
    "decoder_input_test = tar_tokenizer.texts_to_sequences(decoder_input_test)\n",
    "decoder_target_test = tar_tokenizer.texts_to_sequences(decoder_target_test)\n",
    "\n",
    "#잘 변환되었는지 확인\n",
    "print('input')\n",
    "print('input ',decoder_input_train[:5])\n",
    "print('target')\n",
    "print('decoder ',decoder_target_train[:5])"
   ]
  },
  {
   "cell_type": "code",
   "execution_count": 91,
   "id": "26c15a35",
   "metadata": {},
   "outputs": [
    {
     "name": "stdout",
     "output_type": "stream",
     "text": [
      "삭제할 훈련 데이터의 개수 : 8\n",
      "삭제할 테스트 데이터의 개수 : 2\n",
      "훈련 데이터의 개수 : 21683\n",
      "훈련 레이블의 개수 : 21683\n",
      "테스트 데이터의 개수 : 5420\n",
      "테스트 레이블의 개수 : 5420\n"
     ]
    }
   ],
   "source": [
    "drop_train = [index for index, sentence in enumerate(decoder_input_train) if len(sentence) == 1]\n",
    "drop_test = [index for index, sentence in enumerate(decoder_input_test) if len(sentence) == 1]\n",
    "\n",
    "print('삭제할 훈련 데이터의 개수 :',len(drop_train))\n",
    "print('삭제할 테스트 데이터의 개수 :',len(drop_test))\n",
    "\n",
    "encoder_input_train = np.delete(encoder_input_train, drop_train, axis=0)\n",
    "decoder_input_train = np.delete(decoder_input_train, drop_train, axis=0)\n",
    "decoder_target_train = np.delete(decoder_target_train, drop_train, axis=0)\n",
    "\n",
    "encoder_input_test = np.delete(encoder_input_test, drop_test, axis=0)\n",
    "decoder_input_test = np.delete(decoder_input_test, drop_test, axis=0)\n",
    "decoder_target_test = np.delete(decoder_target_test, drop_test, axis=0)\n",
    "\n",
    "print('훈련 데이터의 개수 :', len(encoder_input_train))\n",
    "print('훈련 레이블의 개수 :',len(decoder_input_train))\n",
    "print('테스트 데이터의 개수 :',len(encoder_input_test))\n",
    "print('테스트 레이블의 개수 :',len(decoder_input_test))"
   ]
  },
  {
   "cell_type": "code",
   "execution_count": 92,
   "id": "1d4d34d3",
   "metadata": {},
   "outputs": [],
   "source": [
    "#패딩\n",
    "encoder_input_train = pad_sequences(encoder_input_train, maxlen = text_max_len, padding='post')\n",
    "encoder_input_test = pad_sequences(encoder_input_test, maxlen = text_max_len, padding='post')\n",
    "decoder_input_train = pad_sequences(decoder_input_train, maxlen = headlines_max_len, padding='post')\n",
    "decoder_target_train = pad_sequences(decoder_target_train, maxlen = headlines_max_len, padding='post')\n",
    "decoder_input_test = pad_sequences(decoder_input_test, maxlen = headlines_max_len, padding='post')\n",
    "decoder_target_test = pad_sequences(decoder_target_test, maxlen = headlines_max_len, padding='post')"
   ]
  },
  {
   "cell_type": "markdown",
   "id": "7e68630d",
   "metadata": {},
   "source": [
    "#### Step 3. 어텐션 메커니즘 사용하기 (추상적 요약)"
   ]
  },
  {
   "cell_type": "markdown",
   "id": "24b2c3db",
   "metadata": {},
   "source": [
    "일반적인 seq2seq보다는 어텐션 메커니즘을 사용한 seq2seq를 사용하는 것이 더 나은 성능을 얻을 수 있어요. 실습 내용을 참고하여 어텐션 메커니즘을 사용한 seq2seq를 설계해 보세요."
   ]
  },
  {
   "cell_type": "code",
   "execution_count": 93,
   "id": "63de2787",
   "metadata": {},
   "outputs": [
    {
     "name": "stdout",
     "output_type": "stream",
     "text": [
      "WARNING:tensorflow:Layer lstm_4 will not use cuDNN kernels since it doesn't meet the criteria. It will use a generic GPU kernel as fallback when running on GPU.\n",
      "WARNING:tensorflow:Layer lstm_5 will not use cuDNN kernels since it doesn't meet the criteria. It will use a generic GPU kernel as fallback when running on GPU.\n",
      "WARNING:tensorflow:Layer lstm_6 will not use cuDNN kernels since it doesn't meet the criteria. It will use a generic GPU kernel as fallback when running on GPU.\n"
     ]
    }
   ],
   "source": [
    "# 인코더 설계 시작\n",
    "embedding_dim = 128\n",
    "hidden_size = 256\n",
    "\n",
    "# 인코더\n",
    "encoder_inputs = Input(shape=(text_max_len,))\n",
    "\n",
    "# 인코더의 임베딩 층\n",
    "enc_emb = Embedding(src_vocab, embedding_dim)(encoder_inputs)\n",
    "\n",
    "# 인코더의 LSTM 1\n",
    "encoder_lstm1 = LSTM(hidden_size, return_sequences=True, return_state=True ,dropout = 0.4, recurrent_dropout = 0.4)\n",
    "encoder_output1, state_h1, state_c1 = encoder_lstm1(enc_emb)\n",
    "\n",
    "# 인코더의 LSTM 2\n",
    "encoder_lstm2 = LSTM(hidden_size, return_sequences=True, return_state=True, dropout=0.4, recurrent_dropout=0.4)\n",
    "encoder_output2, state_h2, state_c2 = encoder_lstm2(encoder_output1)\n",
    "\n",
    "# 인코더의 LSTM 3\n",
    "encoder_lstm3 = LSTM(hidden_size, return_state=True, return_sequences=True, dropout=0.4, recurrent_dropout=0.4)\n",
    "encoder_outputs, state_h, state_c= encoder_lstm3(encoder_output2)"
   ]
  },
  {
   "cell_type": "code",
   "execution_count": 94,
   "id": "2560e0a4",
   "metadata": {},
   "outputs": [
    {
     "name": "stdout",
     "output_type": "stream",
     "text": [
      "WARNING:tensorflow:Layer lstm_7 will not use cuDNN kernels since it doesn't meet the criteria. It will use a generic GPU kernel as fallback when running on GPU.\n",
      "Model: \"model_4\"\n",
      "__________________________________________________________________________________________________\n",
      "Layer (type)                    Output Shape         Param #     Connected to                     \n",
      "==================================================================================================\n",
      "input_6 (InputLayer)            [(None, 50)]         0                                            \n",
      "__________________________________________________________________________________________________\n",
      "embedding_2 (Embedding)         (None, 50, 128)      1024000     input_6[0][0]                    \n",
      "__________________________________________________________________________________________________\n",
      "lstm_4 (LSTM)                   [(None, 50, 256), (N 394240      embedding_2[0][0]                \n",
      "__________________________________________________________________________________________________\n",
      "input_7 (InputLayer)            [(None, None)]       0                                            \n",
      "__________________________________________________________________________________________________\n",
      "lstm_5 (LSTM)                   [(None, 50, 256), (N 525312      lstm_4[0][0]                     \n",
      "__________________________________________________________________________________________________\n",
      "embedding_3 (Embedding)         (None, None, 128)    256000      input_7[0][0]                    \n",
      "__________________________________________________________________________________________________\n",
      "lstm_6 (LSTM)                   [(None, 50, 256), (N 525312      lstm_5[0][0]                     \n",
      "__________________________________________________________________________________________________\n",
      "lstm_7 (LSTM)                   [(None, None, 256),  394240      embedding_3[0][0]                \n",
      "                                                                 lstm_6[0][1]                     \n",
      "                                                                 lstm_6[0][2]                     \n",
      "__________________________________________________________________________________________________\n",
      "dense_2 (Dense)                 (None, None, 2000)   514000      lstm_7[0][0]                     \n",
      "==================================================================================================\n",
      "Total params: 3,633,104\n",
      "Trainable params: 3,633,104\n",
      "Non-trainable params: 0\n",
      "__________________________________________________________________________________________________\n"
     ]
    }
   ],
   "source": [
    "# 디코더 설계\n",
    "decoder_inputs = Input(shape=(None,))\n",
    "\n",
    "# 디코더의 임베딩 층\n",
    "dec_emb_layer = Embedding(tar_vocab, embedding_dim)\n",
    "dec_emb = dec_emb_layer(decoder_inputs)\n",
    "\n",
    "# 디코더의 LSTM\n",
    "decoder_lstm = LSTM(hidden_size, return_sequences = True, return_state = True, dropout = 0.4, recurrent_dropout=0.2)\n",
    "decoder_outputs, _, _ = decoder_lstm(dec_emb, initial_state = [state_h, state_c])\n",
    "\n",
    "# 디코더의 출력층\n",
    "decoder_softmax_layer = Dense(tar_vocab, activation = 'softmax')\n",
    "decoder_softmax_outputs = decoder_softmax_layer(decoder_outputs) \n",
    "\n",
    "# 모델 정의\n",
    "model = Model([encoder_inputs, decoder_inputs], decoder_softmax_outputs)\n",
    "model.summary()"
   ]
  },
  {
   "cell_type": "code",
   "execution_count": 95,
   "id": "f5d271b1",
   "metadata": {},
   "outputs": [],
   "source": [
    "urllib.request.urlretrieve(\"https://raw.githubusercontent.com/thushv89/attention_keras/master/src/layers/attention.py\", filename=\"attention.py\")\n",
    "from attention import AttentionLayer"
   ]
  },
  {
   "cell_type": "code",
   "execution_count": 96,
   "id": "0001422d",
   "metadata": {},
   "outputs": [
    {
     "name": "stdout",
     "output_type": "stream",
     "text": [
      "Model: \"model_5\"\n",
      "__________________________________________________________________________________________________\n",
      "Layer (type)                    Output Shape         Param #     Connected to                     \n",
      "==================================================================================================\n",
      "input_6 (InputLayer)            [(None, 50)]         0                                            \n",
      "__________________________________________________________________________________________________\n",
      "embedding_2 (Embedding)         (None, 50, 128)      1024000     input_6[0][0]                    \n",
      "__________________________________________________________________________________________________\n",
      "lstm_4 (LSTM)                   [(None, 50, 256), (N 394240      embedding_2[0][0]                \n",
      "__________________________________________________________________________________________________\n",
      "input_7 (InputLayer)            [(None, None)]       0                                            \n",
      "__________________________________________________________________________________________________\n",
      "lstm_5 (LSTM)                   [(None, 50, 256), (N 525312      lstm_4[0][0]                     \n",
      "__________________________________________________________________________________________________\n",
      "embedding_3 (Embedding)         (None, None, 128)    256000      input_7[0][0]                    \n",
      "__________________________________________________________________________________________________\n",
      "lstm_6 (LSTM)                   [(None, 50, 256), (N 525312      lstm_5[0][0]                     \n",
      "__________________________________________________________________________________________________\n",
      "lstm_7 (LSTM)                   [(None, None, 256),  394240      embedding_3[0][0]                \n",
      "                                                                 lstm_6[0][1]                     \n",
      "                                                                 lstm_6[0][2]                     \n",
      "__________________________________________________________________________________________________\n",
      "attention_layer (AttentionLayer ((None, None, 256),  131328      lstm_6[0][0]                     \n",
      "                                                                 lstm_7[0][0]                     \n",
      "__________________________________________________________________________________________________\n",
      "concat_layer (Concatenate)      (None, None, 512)    0           lstm_7[0][0]                     \n",
      "                                                                 attention_layer[0][0]            \n",
      "__________________________________________________________________________________________________\n",
      "dense_3 (Dense)                 (None, None, 2000)   1026000     concat_layer[0][0]               \n",
      "==================================================================================================\n",
      "Total params: 4,276,432\n",
      "Trainable params: 4,276,432\n",
      "Non-trainable params: 0\n",
      "__________________________________________________________________________________________________\n"
     ]
    }
   ],
   "source": [
    "# 어텐션 층(어텐션 함수)\n",
    "attn_layer = AttentionLayer(name='attention_layer')\n",
    "# 인코더와 디코더의 모든 time step의 hidden state를 어텐션 층에 전달하고 결과를 리턴\n",
    "attn_out, attn_states = attn_layer([encoder_outputs, decoder_outputs])\n",
    "\n",
    "# 어텐션의 결과와 디코더의 hidden state들을 연결\n",
    "decoder_concat_input = Concatenate(axis = -1, name='concat_layer')([decoder_outputs, attn_out])\n",
    "\n",
    "# 디코더의 출력층\n",
    "decoder_softmax_layer = Dense(tar_vocab, activation='softmax')\n",
    "decoder_softmax_outputs = decoder_softmax_layer(decoder_concat_input)\n",
    "\n",
    "# 모델 정의\n",
    "model = Model([encoder_inputs, decoder_inputs], decoder_softmax_outputs)\n",
    "model.summary()"
   ]
  },
  {
   "cell_type": "code",
   "execution_count": 97,
   "id": "50e18abd",
   "metadata": {
    "scrolled": false
   },
   "outputs": [
    {
     "name": "stdout",
     "output_type": "stream",
     "text": [
      "Epoch 1/50\n",
      "85/85 [==============================] - 70s 714ms/step - loss: 4.9087 - val_loss: 4.5190\n",
      "Epoch 2/50\n",
      "85/85 [==============================] - 59s 693ms/step - loss: 4.5023 - val_loss: 4.3572\n",
      "Epoch 3/50\n",
      "85/85 [==============================] - 59s 690ms/step - loss: 4.3313 - val_loss: 4.2111\n",
      "Epoch 4/50\n",
      "85/85 [==============================] - 59s 690ms/step - loss: 4.1812 - val_loss: 4.0788\n",
      "Epoch 5/50\n",
      "85/85 [==============================] - 59s 698ms/step - loss: 4.0311 - val_loss: 3.9807\n",
      "Epoch 6/50\n",
      "85/85 [==============================] - 59s 694ms/step - loss: 3.8920 - val_loss: 3.8515\n",
      "Epoch 7/50\n",
      "85/85 [==============================] - 59s 692ms/step - loss: 3.7505 - val_loss: 3.7591\n",
      "Epoch 8/50\n",
      "85/85 [==============================] - 59s 691ms/step - loss: 3.6156 - val_loss: 3.6667\n",
      "Epoch 9/50\n",
      "85/85 [==============================] - 59s 697ms/step - loss: 3.5026 - val_loss: 3.5955\n",
      "Epoch 10/50\n",
      "85/85 [==============================] - 59s 688ms/step - loss: 3.4059 - val_loss: 3.5431\n",
      "Epoch 11/50\n",
      "85/85 [==============================] - 59s 693ms/step - loss: 3.3152 - val_loss: 3.5066\n",
      "Epoch 12/50\n",
      "85/85 [==============================] - 58s 688ms/step - loss: 3.2302 - val_loss: 3.4752\n",
      "Epoch 13/50\n",
      "85/85 [==============================] - 59s 691ms/step - loss: 3.1532 - val_loss: 3.4516\n",
      "Epoch 14/50\n",
      "85/85 [==============================] - 59s 689ms/step - loss: 3.0798 - val_loss: 3.4136\n",
      "Epoch 15/50\n",
      "85/85 [==============================] - 58s 687ms/step - loss: 3.0090 - val_loss: 3.3889\n",
      "Epoch 16/50\n",
      "85/85 [==============================] - 59s 691ms/step - loss: 2.9449 - val_loss: 3.3759\n",
      "Epoch 17/50\n",
      "85/85 [==============================] - 58s 688ms/step - loss: 2.8795 - val_loss: 3.3596\n",
      "Epoch 18/50\n",
      "85/85 [==============================] - 59s 690ms/step - loss: 2.8181 - val_loss: 3.3513\n",
      "Epoch 19/50\n",
      "85/85 [==============================] - 59s 690ms/step - loss: 2.7639 - val_loss: 3.3349\n",
      "Epoch 20/50\n",
      "85/85 [==============================] - 58s 685ms/step - loss: 2.7051 - val_loss: 3.3299\n",
      "Epoch 21/50\n",
      "85/85 [==============================] - 59s 689ms/step - loss: 2.6491 - val_loss: 3.3243\n",
      "Epoch 22/50\n",
      "85/85 [==============================] - 59s 690ms/step - loss: 2.5994 - val_loss: 3.3132\n",
      "Epoch 23/50\n",
      "85/85 [==============================] - 58s 685ms/step - loss: 2.5464 - val_loss: 3.3131\n",
      "Epoch 24/50\n",
      "85/85 [==============================] - 58s 686ms/step - loss: 2.4955 - val_loss: 3.3186\n",
      "Epoch 25/50\n",
      "85/85 [==============================] - 58s 688ms/step - loss: 2.4469 - val_loss: 3.3206\n",
      "Epoch 00025: early stopping\n"
     ]
    }
   ],
   "source": [
    "model.compile(optimizer='rmsprop', loss='sparse_categorical_crossentropy')\n",
    "es = EarlyStopping(monitor='val_loss', mode='min', verbose=1, patience = 2)\n",
    "history = model.fit(x = [encoder_input_train, decoder_input_train], y = decoder_target_train, \\\n",
    "          validation_data = ([encoder_input_test, decoder_input_test], decoder_target_test),\n",
    "          batch_size = 256, callbacks=[es], epochs = 50)"
   ]
  },
  {
   "cell_type": "code",
   "execution_count": 98,
   "id": "8b9773b5",
   "metadata": {},
   "outputs": [
    {
     "data": {
      "image/png": "[encoded data removed]",
      "text/plain": [
       "<Figure size 432x288 with 1 Axes>"
      ]
     },
     "metadata": {
      "needs_background": "light"
     },
     "output_type": "display_data"
    }
   ],
   "source": [
    "plt.plot(history.history['loss'], label='train')\n",
    "plt.plot(history.history['val_loss'], label='test')\n",
    "plt.legend()\n",
    "plt.show()"
   ]
  },
  {
   "cell_type": "code",
   "execution_count": 99,
   "id": "18582d67",
   "metadata": {},
   "outputs": [],
   "source": [
    "src_index_to_word = src_tokenizer.index_word # 원문 단어 집합에서 정수 -> 단어를 얻음\n",
    "tar_word_to_index = tar_tokenizer.word_index # 요약 단어 집합에서 단어 -> 정수를 얻음\n",
    "tar_index_to_word = tar_tokenizer.index_word # 요약 단어 집합에서 정수 -> 단어를 얻음"
   ]
  },
  {
   "cell_type": "code",
   "execution_count": 100,
   "id": "b1f9d811",
   "metadata": {},
   "outputs": [],
   "source": [
    "# 인코더 설계\n",
    "encoder_model = Model(inputs=encoder_inputs, outputs=[encoder_outputs, state_h, state_c])\n",
    "\n",
    "# 이전 시점의 상태들을 저장하는 텐서\n",
    "decoder_state_input_h = Input(shape=(hidden_size,))\n",
    "decoder_state_input_c = Input(shape=(hidden_size,))\n",
    "\n",
    "dec_emb2 = dec_emb_layer(decoder_inputs)\n",
    "# 문장의 다음 단어를 예측하기 위해서 초기 상태(initial_state)를 이전 시점의 상태로 사용. 이는 뒤의 함수 decode_sequence()에 구현\n",
    "# 훈련 과정에서와 달리 LSTM의 리턴하는 은닉 상태와 셀 상태인 state_h와 state_c를 버리지 않음.\n",
    "decoder_outputs2, state_h2, state_c2 = decoder_lstm(dec_emb2, initial_state=[decoder_state_input_h, decoder_state_input_c])"
   ]
  },
  {
   "cell_type": "code",
   "execution_count": 101,
   "id": "c385de2b",
   "metadata": {},
   "outputs": [],
   "source": [
    "# 인코더 설계\n",
    "encoder_model = Model(inputs=encoder_inputs, outputs=[encoder_outputs, state_h, state_c])\n",
    "\n",
    "# 이전 시점의 상태들을 저장하는 텐서\n",
    "decoder_state_input_h = Input(shape=(hidden_size,))\n",
    "decoder_state_input_c = Input(shape=(hidden_size,))\n",
    "\n",
    "dec_emb2 = dec_emb_layer(decoder_inputs)\n",
    "# 문장의 다음 단어를 예측하기 위해서 초기 상태(initial_state)를 이전 시점의 상태로 사용. 이는 뒤의 함수 decode_sequence()에 구현\n",
    "# 훈련 과정에서와 달리 LSTM의 리턴하는 은닉 상태와 셀 상태인 state_h와 state_c를 버리지 않음.\n",
    "decoder_outputs2, state_h2, state_c2 = decoder_lstm(dec_emb2, initial_state=[decoder_state_input_h, decoder_state_input_c])"
   ]
  },
  {
   "cell_type": "code",
   "execution_count": 102,
   "id": "9497a6e8",
   "metadata": {},
   "outputs": [],
   "source": [
    "# 어텐션 함수\n",
    "decoder_hidden_state_input = Input(shape=(text_max_len, hidden_size))\n",
    "attn_out_inf, attn_states_inf = attn_layer([decoder_hidden_state_input, decoder_outputs2])\n",
    "decoder_inf_concat = Concatenate(axis=-1, name='concat')([decoder_outputs2, attn_out_inf])\n",
    "\n",
    "# 디코더의 출력층\n",
    "decoder_outputs2 = decoder_softmax_layer(decoder_inf_concat) \n",
    "\n",
    "# 최종 디코더 모델\n",
    "decoder_model = Model(\n",
    "    [decoder_inputs] + [decoder_hidden_state_input,decoder_state_input_h, decoder_state_input_c],\n",
    "    [decoder_outputs2] + [state_h2, state_c2])"
   ]
  },
  {
   "cell_type": "code",
   "execution_count": 103,
   "id": "495f3839",
   "metadata": {},
   "outputs": [],
   "source": [
    "def decode_sequence(input_seq):\n",
    "    # 입력으로부터 인코더의 상태를 얻음\n",
    "    e_out, e_h, e_c = encoder_model.predict(input_seq)\n",
    "\n",
    "     # <SOS>에 해당하는 토큰 생성\n",
    "    target_seq = np.zeros((1,1))\n",
    "    target_seq[0, 0] = tar_word_to_index['sostoken']\n",
    "\n",
    "    stop_condition = False\n",
    "    decoded_sentence = ''\n",
    "    while not stop_condition: # stop_condition이 True가 될 때까지 루프 반복\n",
    "\n",
    "        output_tokens, h, c = decoder_model.predict([target_seq] + [e_out, e_h, e_c])\n",
    "        sampled_token_index = np.argmax(output_tokens[0, -1, :])\n",
    "        sampled_token = tar_index_to_word[sampled_token_index]\n",
    "\n",
    "        if(sampled_token!='eostoken'):\n",
    "            decoded_sentence += ' '+sampled_token\n",
    "\n",
    "        #  <eos>에 도달하거나 최대 길이를 넘으면 중단.\n",
    "        if (sampled_token == 'eostoken'  or len(decoded_sentence.split()) >= (headlines_max_len-1)):\n",
    "            stop_condition = True\n",
    "\n",
    "        # 길이가 1인 타겟 시퀀스를 업데이트\n",
    "        target_seq = np.zeros((1,1))\n",
    "        target_seq[0, 0] = sampled_token_index\n",
    "\n",
    "        # 상태를 업데이트 합니다.\n",
    "        e_h, e_c = h, c\n",
    "\n",
    "    return decoded_sentence"
   ]
  },
  {
   "cell_type": "markdown",
   "id": "3b7eec6e",
   "metadata": {},
   "source": [
    "#### Step 4. 실제 결과와 요약문 비교하기 (추상적 요약)"
   ]
  },
  {
   "cell_type": "markdown",
   "id": "9cc424b7",
   "metadata": {},
   "source": [
    "원래의 요약문(headlines 열)과 학습을 통해 얻은 추상적 요약의 결과를 비교해 보세요."
   ]
  },
  {
   "cell_type": "code",
   "execution_count": 104,
   "id": "7381ec28",
   "metadata": {},
   "outputs": [],
   "source": [
    "# 원문의 정수 시퀀스를 텍스트 시퀀스로 변환\n",
    "def seq2text(input_seq):\n",
    "    temp=''\n",
    "    for i in input_seq:\n",
    "        if(i!=0):\n",
    "            temp = temp + src_index_to_word[i]+' '\n",
    "    return temp\n",
    "\n",
    "# 요약문의 정수 시퀀스를 텍스트 시퀀스로 변환\n",
    "def seq2summary(input_seq):\n",
    "    temp=''\n",
    "    for i in input_seq:\n",
    "        if((i!=0 and i!=tar_word_to_index['sostoken']) and i!=tar_word_to_index['eostoken']):\n",
    "            temp = temp + tar_index_to_word[i] + ' '\n",
    "    return temp"
   ]
  },
  {
   "cell_type": "code",
   "execution_count": 105,
   "id": "e0b83850",
   "metadata": {},
   "outputs": [
    {
     "name": "stdout",
     "output_type": "stream",
     "text": [
      "원문 : least people killed gunmen attacked government building afghanistan capital kabul monday officials said attack started suicide car bomb blast near building entrance gunmen inside militant group claimed responsibility attack however islamic state taliban carried similar attacks past \n",
      "실제 요약 : killed as attack afghanistan government building \n",
      "예측 요약 :  taliban kills afghan soldiers in afghanistan\n",
      "\n",
      "\n",
      "원문 : sonam kapoor married delhi based businessman anand ahuja traditional sikh wedding ceremony tuesday following ceremony newly couple also cut cake showed bride pulling away groom basketball court wedding attended kareena kapoor saif ali khan along son karan johar aamir khan among others \n",
      "실제 요약 : in pictures sonam kapoor and anand wedding \n",
      "예측 요약 :  kangana attend rumoured boyfriend\n",
      "\n",
      "\n",
      "원문 : bengaluru police informed delhi court identified properties liquor baron vijay mallya police added unable properties already attached enforcement directorate remaining assets part proceedings police also sought time identify properties mallya \n",
      "실제 요약 : mallya assets could not police \n",
      "예측 요약 :  delhi police issues of mallya\n",
      "\n",
      "\n",
      "원문 : speaking maintaining long distance relationship husband taylor radhika apte said expensive added remember sometimes people meet aircraft ask flying economy imagine making three trips london two months last minute ones suddenly got week expensive radhika said \n",
      "실제 요약 : long relationship with husband is \n",
      "예측 요약 :  award after\n",
      "\n",
      "\n",
      "원문 : american spanish scientists discovered new shape called studying human tissue form skin organ like shape five sides one end six besides surface one longer researchers said shape makes stable efficient \n",
      "실제 요약 : scientists discover new from human cells \n",
      "예측 요약 :  scientists discover for\n",
      "\n",
      "\n",
      "원문 : least people killed zimbabwe two buses collided wednesday police said two buses collided road capital town zimbabwe state run newspaper said pictures accident share thus \n",
      "실제 요약 : killed in bus \n",
      "예측 요약 :  killed as bus into\n",
      "\n",
      "\n",
      "원문 : actor activist george developed augmented reality app called house cats features animal characters like cat instance cat donald trump voice using us president statements users also add voice take photos animals real \n",
      "실제 요약 : man makes app featuring \n",
      "예측 요약 :  twitter reacts to trump\n",
      "\n",
      "\n",
      "원문 : akshay kumar sunday tweeted picture female artist friends wish occasion friendship day ladies make imagine tweeted akshay tweeting occasion anupam kher wrote friend actors dhanush farhan akhtar also tweeted friendship day wishes \n",
      "실제 요약 : akshay wishes female on day \n",
      "예측 요약 :  taapsee shares pic with\n",
      "\n",
      "\n",
      "원문 : university grants commission directed universities celebrate november commemorate adoption constitution asked universities conduct activities reading constitution morning assembly organising importance fundamental duties constitution day first celebrated \n",
      "실제 요약 : to constitution day \n",
      "예측 요약 :  women in india\n",
      "\n",
      "\n",
      "원문 : denmark ruling party planning national streaming service along lines demand video streaming service netflix party officials said service would provide danish produced content app hour television channel officials added proposal comes part negotiations new media deal set take effect \n",
      "실제 요약 : plans inspired national service \n",
      "예측 요약 :  spain bans blue challenge\n",
      "\n",
      "\n",
      "원문 : three four hand two stolen maiden journey varanasi vadodara express flagged pm narendra modi friday train coaches seats passengers officials said notably train equipped several modern facilities including gps based passenger information system control system \n",
      "실제 요약 : stolen during express \n",
      "예측 요약 :  china to train flights\n",
      "\n",
      "\n",
      "원문 : one man commission set tamil nadu government circumstances leading late cm jayalalithaa assumed charge friday office commission headed retired high court justice would followed notification calling information agenda one man inquiry commission \n",
      "실제 요약 : commission into jayalalithaa death takes charge \n",
      "예측 요약 :  muslim temple in jayalalithaa\n",
      "\n",
      "\n",
      "원문 : addressing rally rajasthan jaipur congress president rahul gandhi seen state party chief sachin pilot stage pilot former rajasthan cm party veteran ashok pilot earlier said congress fight upcoming state elections gandhi leadership another party leader called making chief ministerial candidate \n",
      "실제 요약 : rahul gandhi again at rally in rajasthan \n",
      "예측 요약 :  sonia gandhi congress workers to sonia gandhi\n",
      "\n",
      "\n",
      "원문 : people conference president lone said changes permanent resident certificate rules unacceptable comes bjp leader said administration considering granting national conference leader omar abdullah letter governor satya pal malik called move objectionable said spirit democracy \n",
      "실제 요약 : permanent rules parties \n",
      "예측 요약 :  congress to become\n",
      "\n",
      "\n",
      "원문 : pakistan cricket team current limited overs captain ahmed claims indian cricket team afraid playing pakistan india hold bilateral ties try win india champions trophy main thing team fight success teams added \n",
      "실제 요약 : india of pakistan pakistan captain \n",
      "예측 요약 :  bangladesh captain test captain in bangladesh\n",
      "\n",
      "\n",
      "원문 : president pranab mukherjee launched rashtrapati bhavan twitter account connect directly people currently lakh followers interestingly last two years tenure used teach class students school inside rashtrapati bhavan premises speaking museum developed rashtrapati bhavan building story \n",
      "실제 요약 : what were by president mukherjee \n",
      "예측 요약 :  mukherjee kovind asks to\n",
      "\n",
      "\n",
      "원문 : central industrial security force provide security consultancy five star hotels bid prevent terror attacks like reports said attacks government paramilitary force provide security private sector well currently cisf guards nine private facilities including infosys premises bengaluru pune \n",
      "실제 요약 : to provide security to star \n",
      "예측 요약 :  security personnel in amid protests\n",
      "\n",
      "\n",
      "원문 : supreme court tuesday said manner national company law tribunal passed order unitech case unitech moved sc december tribunal order allowing government take control real estate company management leave taken us sc added \n",
      "실제 요약 : of order sc \n",
      "예측 요약 :  sc rejects plea to\n",
      "\n",
      "\n",
      "원문 : man arrested indira gandhi international airport new delhi allegedly terminal using ticket friday cisf personnel said accused found entered terminal using ticket dubai booked later cancelled said seeing daughter travelling dubai \n",
      "실제 요약 : man into delhi airport using ticket \n",
      "예측 요약 :  arrested for smuggling delhi airport\n",
      "\n",
      "\n",
      "원문 : bcci nominated pujara indian women team member harmanpreet kaur arjuna award recently concluded test season pujara scored runs highest ever runs indian single test season kaur represents sydney women big league significant part india asia cup victory \n",
      "실제 요약 : bcci for award \n",
      "예측 요약 :  bcci to play in ipl\n",
      "\n",
      "\n",
      "원문 : documents obtained us freedom information act several labelled reveal details us mexico border wall documents show plans build miles wall us texas state us president donald trump vowed construct border wall stop illegal immigration us \n",
      "실제 요약 : documents details of us mexico border \n",
      "예측 요약 :  us us china\n",
      "\n",
      "\n",
      "원문 : qatar assured india safety welfare citizens gulf nation amid diplomatic crisis facing comes external affairs minister sushma swaraj raised issue counterpart sheikh mohammed bin al qatar would continue supplying natural gas india support energy needs al said \n",
      "실제 요약 : qatar safety of indian citizens amid crisis \n",
      "예측 요약 :  schools bans in myanmar\n",
      "\n",
      "\n",
      "원문 : world number one nadal defending champion roger federer named first second seeds respectively australian open january women singles world number one announced top seed defending champion serena williams earlier pulled tournament \n",
      "실제 요약 : federer named top for australian open \n",
      "예측 요약 :  wins world championship\n",
      "\n",
      "\n",
      "원문 : five girls killed poland friday fire broke room playing escape room game officials said girls aged celebrating birthday fire likely caused faulty electrical authorities said \n",
      "실제 요약 : girls killed in fire \n",
      "예측 요약 :  killed as car hits suicide\n",
      "\n",
      "\n",
      "원문 : bengaluru based marketing startup raised million venture debt firm capital company confirmed funds used strengthen supply chain infrastructure startup said founded vegetables fruits marketing platform connects farmers directly businesses \n",
      "실제 요약 : startup raises mn \n",
      "예측 요약 :  bengaluru based startup raises million\n",
      "\n",
      "\n",
      "원문 : nepal cabinet friday banned mountains including mount everest move aimed reducing accidents among officials said nepal regulations also included ban double blind changes part series measures introduced ahead spring climbing season \n",
      "실제 요약 : nepal bans on \n"
     ]
    },
    {
     "name": "stdout",
     "output_type": "stream",
     "text": [
      "예측 요약 :  schools bans security in\n",
      "\n",
      "\n",
      "원문 : former pakistan foreign minister khawaja asif moved supreme court challenging islamabad high court verdict non holding uae work permit asif claimed petition failed disclose foreign work permit nomination papers contesting general elections \n",
      "실제 요약 : pak foreign minister challenges his \n",
      "예측 요약 :  lok sabha passes bill\n",
      "\n",
      "\n",
      "원문 : myanmar military plane reportedly carrying passengers crew members went missing wednesday aircraft lost contact fell radar southern city spokesperson chief country army said search underway find plane \n",
      "실제 요약 : myanmar military plane with goes missing \n",
      "예측 요약 :  bsf personnel missing in uk\n",
      "\n",
      "\n",
      "원문 : astronomers using north telescope hawaii confirmed presence hydrogen gas planet responsible giving eggs smell researchers noted also likely atmosphere hydrogen whereas clouds inner gas giants jupiter saturn ice could help understand planets history \n",
      "실제 요약 : like study confirms \n",
      "예측 요약 :  astronomers find in\n",
      "\n",
      "\n",
      "원문 : chennai based customer engagement platform ceo girish interview revealed startup already turned three offers latest recent last week responding reports putting block ipo said personal would like continue run business \n",
      "실제 요약 : rejected three offers ceo \n",
      "예측 요약 :  ceo to acquire employee\n",
      "\n",
      "\n",
      "원문 : us security adviser tom reported facebook microsoft disabled range north korean online threats past week said facebook removed accounts stopped execution ongoing attacks microsoft existing attacks including wannacry ransomware us government asking companies cooperate cyber security defence added \n",
      "실제 요약 : facebook microsoft north korean cyber threats us \n",
      "예측 요약 :  us blocks facebook to cryptocurrency\n",
      "\n",
      "\n",
      "원문 : virat kohli described australia adelaide best test century saying confidence team got match laid foundation current number one status kohli first test match absence injured ms dhoni india dismissed chasing target \n",
      "실제 요약 : against australia in most special century kohli \n",
      "예측 요약 :  virat kohli to take in\n",
      "\n",
      "\n",
      "원문 : facebook said compensate users data scandal part data exploited british firm cambridge analytica company added misuse data breach trust noted bank account credit card details shared data used influence us elections \n",
      "실제 요약 : will not users for data scandal facebook \n",
      "예측 요약 :  facebook removes data breach\n",
      "\n",
      "\n",
      "원문 : daughter former russian spy discharged uk hospital month agent along father taken secure location following uk accused russia attack took place uk \n",
      "실제 요약 : ex daughter from hospital after \n",
      "예측 요약 :  actress daughter to\n",
      "\n",
      "\n",
      "원문 : indian air force sunday rescued pregnant woman newborn twins mother flooded village gujarat village roads due heavy rainfall floods official said helicopter reached location within minutes receiving evacuation request flew medical team waiting \n",
      "실제 요약 : pregnant woman from gujarat village \n",
      "예측 요약 :  indian hospital commits suicide in\n",
      "\n",
      "\n",
      "원문 : cryptocurrency startup pulled exit scam raising nearly crore series five initial coin offerings company shut website social media accounts twitter facebook youtube claimed developing lending investment platform promised earn investors money trading algorithm \n",
      "실제 요약 : cryptocurrency startup after crore \n",
      "예측 요약 :  uber million to million in\n",
      "\n",
      "\n",
      "원문 : income tax department thursday conducted raids five restaurant including bhavan group tamil nadu chennai raids conducted locations including homes offices directors groups search operation initiated based complaints alleged tax evasion reports said \n",
      "실제 요약 : restaurant including in tn \n",
      "예측 요약 :  dept to be in noida\n",
      "\n",
      "\n",
      "원문 : us president donald trump sunday slammed members party protecting sad even carried line back little protect president trump tweeted comes come together bill replace \n",
      "실제 요약 : trump slams for not him \n",
      "예측 요약 :  trump calls him\n",
      "\n",
      "\n",
      "원문 : three children intellectual disabilities reunited families aadhaar drive bengaluru found children already registered unique identification authority india biometric data rejected due data available uidai helped trace parents \n",
      "실제 요약 : aadhaar missing children with families \n",
      "예측 요약 :  students for in delhi\n",
      "\n",
      "\n",
      "원문 : robert jr chris starrer superhero film avengers infinity war released today god marvel films wrote hindustan times bollywood hungama said avengers infinity war every bit epic action film firstpost wrote film worth rated \n",
      "실제 요약 : film war hits the theatres \n",
      "예측 요약 :  akshay kumar starrer hits the theatres\n",
      "\n",
      "\n",
      "원문 : royal bank scotland said close branches across britain encourage customers use online mobile banking services company said move would result job cuts said use savings invest smartphone offering seen mobile transactions rise since \n",
      "실제 요약 : to shut to online \n",
      "예측 요약 :  bank hires data breach\n",
      "\n",
      "\n",
      "원문 : microsoft researchers claim created first machine system chinese english human accuracy team hired human compared microsoft results two produced human reference system also taught process \n",
      "실제 요약 : microsoft chinese english hits human \n",
      "예측 요약 :  microsoft to launch of\n",
      "\n",
      "\n",
      "원문 : actor akshay kumar twitter demise businessman inspired role film played key role indians based kuwait iraqi notably akshay national film award best actor performance along \n",
      "실제 요약 : akshay of businessman who inspired \n",
      "예측 요약 :  irrfan khan to girlfriend reports\n",
      "\n",
      "\n",
      "원문 : actress said people selfie culture days trend taking selfies really extreme wish people would chat would much better added actress said talking fans approaching selfies \n",
      "실제 요약 : we are with selfie \n",
      "예측 요약 :  was\n",
      "\n",
      "\n",
      "원문 : sidelined bjp leader sinha said contest general elections bihar patna constituency even situation otherwise sinha elected mp constituency two consecutive terms earlier sinha urged pm narendra modi maintain pm karnataka elections \n",
      "실제 요약 : will contest elections in \n",
      "예측 요약 :  bjp bjp leader in bjp\n",
      "\n",
      "\n",
      "원문 : lieutenant general appointed new chief pakistan inter services intelligence previously served head military intelligence recently promoted rank lieutenant general army promotion board mukhtar assumed office inter services intelligence chief december \n",
      "실제 요약 : appointed pakistan chief \n",
      "예측 요약 :  spain parliament calls for\n",
      "\n",
      "\n",
      "원문 : fire broke th floor tower mumbai wednesday morning leaving man woman dead least people injured least fire tenders rushed spot initially level fire later level fire \n",
      "실제 요약 : in mumbai catches fire dead \n",
      "예측 요약 :  fire breaks out at mumbai airport\n",
      "\n",
      "\n",
      "원문 : manchester city forward sergio accused hitting team th minute goal celebrations saturday trying bring situation control city fans came pitch celebrate causing seen protesting fan treatment fan \n",
      "실제 요약 : footballer accused of in goal celebration \n",
      "예측 요약 :  uk club for\n",
      "\n",
      "\n",
      "원문 : shah rukh khan speaking friendship aamir khan salman khan said three non blood think sense added talking stories shah rukh said talk think work last thing \n",
      "실제 요약 : aamir salman and have non blood srk \n",
      "예측 요약 :  salman to launch film\n",
      "\n",
      "\n",
      "원문 : shilpa district collector tamil nadu enrolled daughter government run child care centre poor want daughter people sections society said adding daughter tamil improved since joined said centre equipped facilities \n",
      "실제 요약 : tamil nadu district daughter at \n",
      "예측 요약 :  former temple in jayalalithaa\n",
      "\n",
      "\n"
     ]
    }
   ],
   "source": [
    "for i in range(50, 100):\n",
    "    print(\"원문 :\", seq2text(encoder_input_test[i]))\n",
    "    print(\"실제 요약 :\", seq2summary(decoder_input_test[i]))\n",
    "    print(\"예측 요약 :\", decode_sequence(encoder_input_test[i].reshape(1, text_max_len)))\n",
    "    print(\"\\n\")"
   ]
  },
  {
   "cell_type": "markdown",
   "id": "a91f2b67",
   "metadata": {},
   "source": [
    "#### Step 5. Summa을 이용해서 추출적 요약해보기"
   ]
  },
  {
   "cell_type": "markdown",
   "id": "dbcd7faa",
   "metadata": {},
   "source": [
    "추상적 요약은 추출적 요약과는 달리 문장의 표현력을 다양하게 가져갈 수 있지만, 추출적 요약에 비해서 난이도가 높아요. 반대로 말하면 추출적 요약은 추상적 요약에 비해 난이도가 낮고 기존 문장에서 문장을 꺼내오는 것이므로 잘못된 요약이 나올 가능성이 낮아요.\n",
    "\n",
    "Summa의 summarize를 사용하여 추출적 요약을 해보세요."
   ]
  },
  {
   "cell_type": "code",
   "execution_count": 106,
   "id": "ea92ddfb",
   "metadata": {},
   "outputs": [],
   "source": [
    "urllib.request.urlretrieve(\"https://raw.githubusercontent.com/sunnysai12345/News_Summary/master/news_summary_more.csv\", filename=\"news_summary_more.csv\")\n",
    "data = pd.read_csv('news_summary_more.csv', encoding='iso-8859-1')"
   ]
  },
  {
   "cell_type": "code",
   "execution_count": 107,
   "id": "f0fd6159",
   "metadata": {},
   "outputs": [
    {
     "name": "stdout",
     "output_type": "stream",
     "text": [
      "원문 : Saurav Kant, an alumnus of upGrad and IIIT-B's PG Program in Machine learning and Artificial Intelligence, was a Sr Systems Engineer at Infosys with almost 5 years of work experience. The program and upGrad's 360-degree career support helped him transition to a Data Scientist at Tech Mahindra with 90% salary hike. upGrad's Online Power Learning has powered 3 lakh+ careers.\n",
      "실제 요약 : upGrad learner switches to career in ML & Al with 90% salary hike\n",
      "예측 요약 : upGrad's Online Power Learning has powered 3 lakh+ careers.\n",
      "\n",
      "\n",
      "원문 : Kunal Shah's credit card bill payment platform, CRED, gave users a chance to win free food from Swiggy for one year. Pranav Kaushik, a Delhi techie, bagged this reward after spending 2000 CRED coins. Users get one CRED coin per rupee of bill paid, which can be used to avail rewards from brands like Ixigo, BookMyShow, UberEats, Cult.Fit and more.\n",
      "실제 요약 : Delhi techie wins free food from Swiggy for one year on CRED\n",
      "예측 요약 : Users get one CRED coin per rupee of bill paid, which can be used to avail rewards from brands like Ixigo, BookMyShow, UberEats, Cult.Fit and more.\n",
      "\n",
      "\n",
      "원문 : New Zealand defeated India by 8 wickets in the fourth ODI at Hamilton on Thursday to win their first match of the five-match ODI series. India lost an international match under Rohit Sharma's captaincy after 12 consecutive victories dating back to March 2018. The match witnessed India getting all out for 92, their seventh lowest total in ODI cricket history.\n",
      "실제 요약 : New Zealand end Rohit Sharma-led India's 12-match winning streak\n",
      "예측 요약 : The match witnessed India getting all out for 92, their seventh lowest total in ODI cricket history.\n",
      "\n",
      "\n",
      "원문 : With Aegon Life iTerm Insurance plan, customers can enjoy tax benefits on your premiums paid and save up to Ã¢ÂÂ¹46,800^ on taxes. The plan provides life cover up to the age of 100 years. Also, customers have options to insure against Critical Illnesses, Disability and Accidental Death Benefit Rider with a life cover up to the age of 80 years.\n",
      "실제 요약 : Aegon life iTerm insurance plan helps customers save tax\n",
      "예측 요약 : Also, customers have options to insure against Critical Illnesses, Disability and Accidental Death Benefit Rider with a life cover up to the age of 80 years.\n",
      "\n",
      "\n",
      "원문 : Speaking about the sexual harassment allegations against Rajkumar Hirani, Sonam Kapoor said, \"I've known Hirani for many years...What if it's not true, the [#MeToo] movement will get derailed.\" \"In the #MeToo movement, I always believe a woman. But in this case, we need to reserve our judgment,\" she added. Hirani has been accused by an assistant who worked in 'Sanju'.\n",
      "실제 요약 : Have known Hirani for yrs, what if MeToo claims are not true: Sonam\n",
      "예측 요약 : Speaking about the sexual harassment allegations against Rajkumar Hirani, Sonam Kapoor said, \"I've known Hirani for many years...What if it's not true, the [#MeToo] movement will get derailed.\" \"In the #MeToo movement, I always believe a woman.\n",
      "\n",
      "\n",
      "원문 : Pakistani singer Rahat Fateh Ali Khan has denied receiving any notice from the Enforcement Directorate over allegedly smuggling foreign currency out of India. \"It would have been better if the authorities would have served the notice first if any and then publicised this,\" reads a press release issued on behalf of Rahat. The statement further called the allegation \"bizarre\".\n",
      "실제 요약 : Rahat Fateh Ali Khan denies getting notice for smuggling currency\n",
      "예측 요약 : Pakistani singer Rahat Fateh Ali Khan has denied receiving any notice from the Enforcement Directorate over allegedly smuggling foreign currency out of India.\n",
      "\n",
      "\n",
      "원문 : India recorded their lowest ODI total in New Zealand after getting all out for 92 runs in 30.5 overs in the fourth ODI at Hamilton on Thursday. Seven of India's batsmen were dismissed for single-digit scores, while their number ten batsman Yuzvendra Chahal top-scored with 18*(37). India's previous lowest ODI total in New Zealand was 108.\n",
      "실제 요약 : India get all out for 92, their lowest ODI total in New Zealand\n",
      "예측 요약 : India's previous lowest ODI total in New Zealand was 108.\n",
      "\n",
      "\n",
      "원문 : Weeks after ex-CBI Director Alok Verma told the Department of Personnel and Training to consider him retired, the Home Ministry asked him to join work on the last day of his fixed tenure as Director on Thursday. The ministry directed him to immediately join as DG, Fire Services, the post he was transferred to after his removal as CBI chief.\n",
      "실제 요약 : Govt directs Alok Verma to join work 1 day before his retirement\n",
      "예측 요약 : Weeks after ex-CBI Director Alok Verma told the Department of Personnel and Training to consider him retired, the Home Ministry asked him to join work on the last day of his fixed tenure as Director on Thursday.\n",
      "\n",
      "\n",
      "원문 : Andhra Pradesh CM N Chandrababu Naidu has said, \"When I met then US President Bill Clinton, I addressed him as Mr Clinton, not as 'sir'. (PM Narendra) Modi is my junior in politics...I addressed him as sir 10 times.\" \"I did this...to satisfy his ego in the hope that he will do justice to the state,\" he added.\n",
      "실제 요약 : Called PM Modi 'sir' 10 times to satisfy his ego: Andhra CM\n",
      "예측 요약 : Andhra Pradesh CM N Chandrababu Naidu has said, \"When I met then US President Bill Clinton, I addressed him as Mr Clinton, not as 'sir'.\n",
      "\n",
      "\n",
      "원문 : Congress candidate Shafia Zubair won the Ramgarh Assembly seat in Rajasthan, by defeating BJP's Sukhwant Singh with a margin of 12,228 votes in the bypoll. With this victory, Congress has taken its total to 100 seats in the 200-member assembly. The election to the Ramgarh seat was delayed due to the death of sitting MLA and BSP candidate Laxman Singh.\n",
      "실제 요약 : Cong wins Ramgarh bypoll in Rajasthan, takes total to 100 seats\n",
      "예측 요약 : Congress candidate Shafia Zubair won the Ramgarh Assembly seat in Rajasthan, by defeating BJP's Sukhwant Singh with a margin of 12,228 votes in the bypoll.\n",
      "\n",
      "\n",
      "원문 : Two minor cousins in Uttar Pradesh's Gorakhpur were allegedly repeatedly burnt with tongs and forced to eat human excreta by their family for being friends with two boys from the same school. The cousins revealed their ordeal to the police and Child Welfare Committee after being brought back to Gorakhpur from Nepal, where they had fled to escape the torture.\n",
      "실제 요약 : UP cousins fed human excreta for friendship with boys\n",
      "예측 요약 : Two minor cousins in Uttar Pradesh's Gorakhpur were allegedly repeatedly burnt with tongs and forced to eat human excreta by their family for being friends with two boys from the same school.\n",
      "\n",
      "\n",
      "원문 : Isha Ghosh, an 81-year-old member of Bharat Scouts and Guides (BSG), has been imparting physical and mental training to schoolchildren in Jharkhand for several decades. Chaibasa-based Ghosh reportedly walks seven kilometres daily and spends eight hours conducting physical training, apart from climbing and yoga sessions. She says, \"One should do something for society till one's last breath.\"\n",
      "실제 요약 : 81-yr-old woman conducts physical training in J'khand schools\n",
      "예측 요약 : Isha Ghosh, an 81-year-old member of Bharat Scouts and Guides (BSG), has been imparting physical and mental training to schoolchildren in Jharkhand for several decades.\n",
      "\n",
      "\n",
      "원문 : Urging saints and seers at the Kumbh Mela to quit smoking, Yoga guru Ramdev said, \"We follow Ram and Krishna who never smoked in their life then why should we?\" Making them take a pledge to quit tobacco, he collected chillum (clay pipe) from several sadhus. He said he will deposit the chillums for display at a museum he'll build.\n",
      "실제 요약 : Ram, Krishna didn't smoke, why should we: Ramdev to sadhus at Kumbh\n",
      "예측 요약 : Urging saints and seers at the Kumbh Mela to quit smoking, Yoga guru Ramdev said, \"We follow Ram and Krishna who never smoked in their life then why should we?\" Making them take a pledge to quit tobacco, he collected chillum (clay pipe) from several sadhus.\n",
      "\n",
      "\n",
      "원문 : Former stripper and regional sales director of a pharmaceutical company, Sunrise Lee, gave a doctor a lap dance in a nightclub to persuade him to prescribe an addictive fentanyl spray in 2012, the company's sales representative told a US court. She said she saw Lee \"sitting on [doctor's] lap, kind of bouncing around.\" Lee has been accused of bribing doctors.\n",
      "실제 요약 : Pharma exec gave doctor a lap dance to sell medicine in US: Witness\n",
      "예측 요약 : Former stripper and regional sales director of a pharmaceutical company, Sunrise Lee, gave a doctor a lap dance in a nightclub to persuade him to prescribe an addictive fentanyl spray in 2012, the company's sales representative told a US court.\n",
      "\n",
      "\n",
      "원문 : Reliance Industries' Chairman Mukesh Ambani's daughter Isha Ambani, who got married last month, said she only cried at her 'bidaai' because she felt peer pressure as everyone was crying, especially her parents. \"I was emotional too but everyone around me would cry all the time,\" she added. \"It was a very emotional affair for everyone in my family,\" said Isha.\n",
      "실제 요약 :  I only cried at my 'bidaai' as I felt peer pressure: Isha Ambani\n",
      "예측 요약 : \"It was a very emotional affair for everyone in my family,\" said Isha.\n",
      "\n",
      "\n",
      "원문 : Louis Vuitton owner LVMH, which makes high-end beverages like MoÃÂ«t & Chandon champagne and Hennessy cognac, said it's stockpiling four months' worth of wine and spirits in UK in preparation for Brexit. \"We're ready for worst case scenario if there are difficulties with deliveries,\" the French luxury giant said. The UK is scheduled to leave the EU on March 29.\n",
      "실제 요약 : Louis Vuitton owner to stockpile 4 months of wine, spirits in UK\n",
      "예측 요약 : Louis Vuitton owner LVMH, which makes high-end beverages like MoÃÂ«t & Chandon champagne and Hennessy cognac, said it's stockpiling four months' worth of wine and spirits in UK in preparation for Brexit.\n",
      "\n",
      "\n",
      "원문 : Filmmaker Karan Johar and actress Tabu turned showstoppers for Gaurav Gupta on the opening night of LakmÃÂ© Fashion Week Summer/ Resort 2019. While Johar wore a red sequinned jacket with black pants, Tabu walked the ramp in a grey embellished gown. The fashion show, which began on January 29, will continue till February 3.\n",
      "실제 요약 : Karan Johar, Tabu turn showstoppers on opening night of LFW\n",
      "예측 요약 : Filmmaker Karan Johar and actress Tabu turned showstoppers for Gaurav Gupta on the opening night of LakmÃÂ© Fashion Week Summer/ Resort 2019.\n",
      "\n",
      "\n",
      "원문 : In a jibe at Congress President Rahul Gandhi, PM Narendra Modi on Wednesday said those on \"bail will have to go to jail.\" PM Modi added, \"He is out on bail and his associates too are facing charges...I know they will be convicted one day.\" The PM claimed he'd waged a war on corruption because he's from a common household. \n",
      "실제 요약 : Those on bail will go to jail: PM Modi takes jibe at Rahul\n",
      "예측 요약 : \n",
      "\n",
      "\n",
      "원문 : Days after he threatened to step down from his post if Congress MLAs continue \"crossing the line,\" Karnataka Chief Minister HD Kumaraswamy accused them of taking potshots and asked, \"How many more days can I tolerate such stuff?\" Kumaraswamy, who made the statements after a Congress MLA demanded that Siddaramaiah be made CM again, said, \"Power is ephemeral.\"\n",
      "실제 요약 : How long can I tolerate Congress leaders' potshots: K'taka CM\n",
      "예측 요약 : \n",
      "\n",
      "\n",
      "원문 : Union Minister Dharmendra Pradhan on Wednesday claimed the illegal mining mafia in Odisha operates under the control of CM Naveen Patnaik and state Congress chief Niranjan Patnaik. He added, \"The time has come for the people of Odisha to put a full stop to their activities...The time has come for us to ask for an explanation from this corrupt government.\"\n",
      "실제 요약 : Odisha CM Patnaik controls mining mafia: Union Minister\n",
      "예측 요약 : Union Minister Dharmendra Pradhan on Wednesday claimed the illegal mining mafia in Odisha operates under the control of CM Naveen Patnaik and state Congress chief Niranjan Patnaik.\n",
      "\n",
      "\n"
     ]
    }
   ],
   "source": [
    "for idx, (head, text) in enumerate(zip(data['headlines'], data['text'])):\n",
    "    if idx == 20:\n",
    "        break\n",
    "    print(\"원문 :\", text)\n",
    "    print(\"실제 요약 :\", head)\n",
    "    print(\"예측 요약 :\", summarize(text, ratio=0.5))\n",
    "    print(\"\\n\")"
   ]
  },
  {
   "cell_type": "markdown",
   "id": "b29bbd26",
   "metadata": {},
   "source": [
    "### 회고"
   ]
  },
  {
   "cell_type": "markdown",
   "id": "6da48c41",
   "metadata": {},
   "source": [
    "이번 프로젝트에서는 Abstractive Summarization, Extractive Summarization의 성능 차이를 비교하면서 접할 수 있었다.\n",
    "그래프로 구현하면서 과정도 한 눈으로 확인할 수 있었다. 결과적으로는 Extractive Summarization 보다 Abstractive Summarization이 전처리를 더 잘해서 성능이 좋은 것 같다. \n",
    "하지만, 문장을 넣었을 때 빈 리스트만 반환하는 경우도 있었다. ratio를 0.25했을 때는 예측 요약이 모두 구성되지 못했는데 0.5로 조절해서 모두 도출시키기 성공했다!"
   ]
  },
  {
   "cell_type": "markdown",
   "id": "a9e1c48f",
   "metadata": {},
   "source": [
    "https://wikidocs.net/22893"
   ]
  }
 ],
 "metadata": {
  "kernelspec": {
   "display_name": "Python 3 (ipykernel)",
   "language": "python",
   "name": "python3"
  },
  "language_info": {
   "codemirror_mode": {
    "name": "ipython",
    "version": 3
   },
   "file_extension": ".py",
   "mimetype": "text/x-python",
   "name": "python",
   "nbconvert_exporter": "python",
   "pygments_lexer": "ipython3",
   "version": "3.9.7"
  }
 },
 "nbformat": 4,
 "nbformat_minor": 5
}
