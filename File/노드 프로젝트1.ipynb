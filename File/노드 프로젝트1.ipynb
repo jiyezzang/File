{
 "cells": [
  {
   "attachments": {},
   "cell_type": "markdown",
   "metadata": {},
   "source": [
    "전화번호 가려주는 프로그램"
   ]
  },
  {
   "cell_type": "code",
   "execution_count": 1,
   "metadata": {},
   "outputs": [
    {
     "data": {
      "text/plain": [
       "'010-13579-#####'"
      ]
     },
     "execution_count": 1,
     "metadata": {},
     "output_type": "execute_result"
    }
   ],
   "source": [
    "numbers = '010-12345-23456'\n",
    "\n",
    "def change_num(nums):\n",
    "   \n",
    "    type(numbers)\n",
    "numbers[-5:]\n",
    "numbers.replace(numbers[-5:], '#####')  \n",
    "'010-12345-#####'\n",
    "numbers = '010-13579-24688'\n",
    "\n",
    "def change_num(nums):\n",
    "    answer = nums.replace(nums[-5:], '#####')\n",
    "    return answer\n",
    "change_num('010-13579-24688')"
   ]
  },
  {
   "attachments": {},
   "cell_type": "markdown",
   "metadata": {},
   "source": [
    "리스트 평탄화"
   ]
  },
  {
   "cell_type": "code",
   "execution_count": 2,
   "metadata": {},
   "outputs": [
    {
     "name": "stdout",
     "output_type": "stream",
     "text": [
      "[1, 2]\n",
      "3\n",
      "[[4, 5, 6], 7]\n",
      "8\n",
      "9\n",
      "정수입니다\n"
     ]
    },
    {
     "data": {
      "text/plain": [
       "3.3333333333333335"
      ]
     },
     "execution_count": 2,
     "metadata": {},
     "output_type": "execute_result"
    }
   ],
   "source": [
    "overlap = [[1, 2], 3, [[4, 5, 6], 7], 8, 9]\n",
    "\n",
    "for element in overlap:\n",
    "    print(element)\n",
    "[1, 2]\n",
    "3\n",
    "[[4, 5, 6], 7]\n",
    "8\n",
    "9\n",
    "a = [[1, 2], 3, [[4, 5, 6], 7], 8, 9]\n",
    "\n",
    "def flatten(data):\n",
    "    output = []\n",
    "    for item in data:\n",
    "        if type(item) == list:\n",
    "            output += flatten(item)\n",
    "        else:\n",
    "            output.append(item)\n",
    "    return output\n",
    "flatten(a)\n",
    "[1, 2, 3, 4, 5, 6, 7, 8, 9]\n",
    "x = 10\n",
    "\n",
    "if type(x) == int:\n",
    "    print('정수입니다')\n",
    "def int_divider(x,y):\n",
    "    if x % 1 == 0 and y % 1 == 0:\n",
    "        answer = x / y \n",
    "    else:\n",
    "        print('정수만 가능합니다')\n",
    "        answer = None\n",
    "    return answer\n",
    "int_divider(10,3)"
   ]
  },
  {
   "cell_type": "code",
   "execution_count": null,
   "metadata": {},
   "outputs": [],
   "source": [
    "10 이하 숫자만 곱해주는 함수"
   ]
  },
  {
   "cell_type": "code",
   "execution_count": 3,
   "metadata": {},
   "outputs": [
    {
     "data": {
      "text/plain": [
       "30"
      ]
     },
     "execution_count": 3,
     "metadata": {},
     "output_type": "execute_result"
    }
   ],
   "source": [
    "def mul(*values):\n",
    "    output = 1\n",
    "    for num in values:\n",
    "        if num <= 10:\n",
    "            output *=num\n",
    "        else:\n",
    "            pass\n",
    "    return output\n",
    "mul(3,12,10)"
   ]
  }
 ],
 "metadata": {
  "kernelspec": {
   "display_name": "base",
   "language": "python",
   "name": "python3"
  },
  "language_info": {
   "codemirror_mode": {
    "name": "ipython",
    "version": 3
   },
   "file_extension": ".py",
   "mimetype": "text/x-python",
   "name": "python",
   "nbconvert_exporter": "python",
   "pygments_lexer": "ipython3",
   "version": "3.9.13"
  },
  "orig_nbformat": 4
 },
 "nbformat": 4,
 "nbformat_minor": 2
}
